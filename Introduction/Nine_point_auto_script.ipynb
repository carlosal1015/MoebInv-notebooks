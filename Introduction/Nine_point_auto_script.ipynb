{
 "cells": [
  {
   "cell_type": "markdown",
   "metadata": {
    "autoscroll": false,
    "ein.hycell": false,
    "ein.tags": "worksheet-0",
    "slideshow": {
     "slide_type": "-"
    }
   },
   "source": [
    "# Automatically generated Python scripts and Jupyter notebook\n",
    "The library MoebInv can create annotatted Python scripts from existing figures--either created in C++ code or by mouse clicks in [GUI](https://sourceforge.net/projects/moebinv/files/binary/). The next section contains Jupyter notebook produced by [p2j (Python to Jupyter)](https://pypi.org/project/p2j/) from the automatically generated Python script. This script is included in the last section of this notebook as well.\n",
    "\n",
    "Such scripts are produced by calls to `figure::write_python_script()` or its Python wrapper like this:\n",
    "```python\n",
    "F.write_python_script(\"file-name.pt\")\n",
    "```\n",
    "\n",
    "To evaluate the notebook we need to load libraries and optional magic extensions."
   ]
  },
  {
   "cell_type": "code",
   "execution_count": 5,
   "metadata": {
    "autoscroll": false,
    "ein.hycell": false,
    "ein.tags": "worksheet-0",
    "slideshow": {
     "slide_type": "-"
    }
   },
   "outputs": [
    {
     "name": "stdout",
     "output_type": "stream",
     "text": [
      "The figure extension is already loaded. To reload it, use:\n",
      "  %reload_ext figure\n"
     ]
    }
   ],
   "source": [
    "from figure import *\n",
    "%load_ext figure"
   ]
  },
  {
   "cell_type": "markdown",
   "metadata": {
    "ein.tags": "worksheet-0",
    "slideshow": {
     "slide_type": "-"
    }
   },
   "source": [
    "## Figure: This is an illustration of the Nine point theorem.<br>\n",
    "We define new figure with the following point and cycle metrics:"
   ]
  },
  {
   "cell_type": "code",
   "execution_count": null,
   "metadata": {
    "autoscroll": false,
    "ein.hycell": false,
    "ein.tags": "worksheet-0",
    "slideshow": {
     "slide_type": "-"
    }
   },
   "outputs": [],
   "source": [
    "MyFig = figure(matrix([[-1, 0], [0, -1]]),\\\n",
    "matrix([[-1, 0], [0, -1]]))"
   ]
  },
  {
   "cell_type": "markdown",
   "metadata": {
    "ein.tags": "worksheet-0",
    "slideshow": {
     "slide_type": "-"
    }
   },
   "source": [
    "### The figure description"
   ]
  },
  {
   "cell_type": "code",
   "execution_count": null,
   "metadata": {
    "autoscroll": false,
    "ein.hycell": false,
    "ein.tags": "worksheet-0",
    "slideshow": {
     "slide_type": "-"
    }
   },
   "outputs": [],
   "source": [
    "MyFig.info_write(\\\n",
    "\"\"\"\n",
    "This is an illustration of the Nine point theorem.\n",
    "For the triangle ABC defined by three given points A, B and C we construct:\n",
    "* the feets of altitudes A_h, B_h and C_h;\n",
    "* the midpoints of sides A_m, B_m and C_m;\n",
    "* the midpoints A_d, B_d and C_d between the respective vertices and the point O of intersection of the altitudes.\n",
    "All these nine points belong to the Euler circle p. Furthermore, p is tangent to three excircles v_a, v_b and v_c.\n",
    "A user may play with this figure by moving points A, B and C around. It is even more intriguing to change the metrics of point and cycle spaces from the default elliptic to hyperbolic and parabolic!\n",
    "\"\"\")"
   ]
  },
  {
   "cell_type": "markdown",
   "metadata": {
    "ein.tags": "worksheet-0",
    "slideshow": {
     "slide_type": "-"
    }
   },
   "source": [
    "## Cycles in generation 0<br>\n",
    "The following cycles are proper point(s)"
   ]
  },
  {
   "cell_type": "code",
   "execution_count": null,
   "metadata": {
    "autoscroll": false,
    "ein.hycell": false,
    "ein.tags": "worksheet-0",
    "slideshow": {
     "slide_type": "-"
    }
   },
   "outputs": [],
   "source": [
    "C = MyFig.add_point([-1/5, -3/2], \"C\")\n",
    "B = MyFig.add_point([1, 0], \"B\")\n",
    "A = MyFig.add_point([-1, 0], \"A\")"
   ]
  },
  {
   "cell_type": "markdown",
   "metadata": {
    "ein.tags": "worksheet-0",
    "slideshow": {
     "slide_type": "-"
    }
   },
   "source": [
    "The following cycle is defined by coefficients"
   ]
  },
  {
   "cell_type": "code",
   "execution_count": null,
   "metadata": {
    "autoscroll": false,
    "ein.hycell": false,
    "ein.tags": "worksheet-0",
    "slideshow": {
     "slide_type": "-"
    }
   },
   "outputs": [],
   "source": [
    "N = MyFig.add_cycle(cycle_data(0, matrix([[0, 0]]), 1), \"N\")"
   ]
  },
  {
   "cell_type": "markdown",
   "metadata": {
    "ein.tags": "worksheet-0",
    "slideshow": {
     "slide_type": "-"
    }
   },
   "source": [
    "### Subfigure: Midpoint in cycle metric.<br>\n",
    "We will use the following subfigure"
   ]
  },
  {
   "cell_type": "code",
   "execution_count": null,
   "metadata": {
    "autoscroll": false,
    "ein.hycell": false,
    "ein.tags": "worksheet-0",
    "slideshow": {
     "slide_type": "-"
    }
   },
   "outputs": [],
   "source": [
    "MyFigSF1 = figure(matrix([[-1, 0], [0, -1]]),\\\n",
    "matrix([[-1, 0], [0, -1]])).freeze()\n",
    "MyFigSF1.info_write(\\\n",
    "\"\"\"\n",
    "Midpoint in cycle metric.\n",
    " For two points provided the figure returns their midpoint.\n",
    " For three given points A, B and N the subfigure produces\n",
    " such a point C on the cycle passing A, B and N,\n",
    " such that the cross-ratio of A, B, C, N is equal to 1.\n",
    " If N is infinity (the default value, if it is not supplied),\n",
    " then C is the midpoint between A and B as said above.\n",
    " More generally, for any two cycles A and B for N=infty\n",
    " figures returns the point between centres A and B\n",
    " which has equal tangential distance to A and B.\n",
    ".\n",
    "To use this subfigure provide cycles A, B and N in this order.\n",
    "\"\"\")\n",
    "variable002SF1 = MyFigSF1.add_cycle(cycle_data(0, matrix([[0, 0]]), 1), \"variable002\")\n",
    "variable000SF1 = MyFigSF1.add_cycle(cycle_data(1, matrix([[1, 0]]), 1), \"variable000\")\n",
    "variable001SF1 = MyFigSF1.add_cycle(cycle_data(1, matrix([[0, 0]]), 0), \"variable001\")\n",
    "v4SF1 = MyFigSF1.add_cycle_rel([cycle_relation(variable000SF1, \"orthogonal\", True), cycle_relation(variable001SF1, \"orthogonal\", True), cycle_relation(variable002SF1, \"orthogonal\", True)], \"v4\")\n",
    "v5SF1 = MyFigSF1.add_cycle_rel([cycle_relation(variable000SF1, \"orthogonal\", True), cycle_relation(variable001SF1, \"orthogonal\", True), cycle_relation(v4SF1, \"orthogonal\", True)], \"v5\")\n",
    "v6SF1 = MyFigSF1.add_cycle_rel([cycle_relation(variable002SF1, \"orthogonal\", True), cycle_relation(v4SF1, \"orthogonal\", True), cycle_relation(v5SF1, \"orthogonal\", True)], \"v6\")\n",
    "resultSF1 = realsymbol(\"result\")\n",
    "MyFigSF1.add_cycle_rel([cycle_relation(v4SF1, \"orthogonal\", True), cycle_relation(v6SF1, \"orthogonal\", True), cycle_relation(resultSF1, \"orthogonal\", False), cycle_relation(variable002SF1, \"adifferent\", True)], resultSF1)"
   ]
  },
  {
   "cell_type": "markdown",
   "metadata": {
    "ein.tags": "worksheet-0",
    "slideshow": {
     "slide_type": "-"
    }
   },
   "source": [
    "## Cycles in generation 1<br>\n",
    "The following cycles are defined by the above subfigure(s)"
   ]
  },
  {
   "cell_type": "code",
   "execution_count": null,
   "metadata": {
    "autoscroll": false,
    "ein.hycell": false,
    "ein.tags": "worksheet-0",
    "slideshow": {
     "slide_type": "-"
    }
   },
   "outputs": [],
   "source": [
    "C_m = MyFig.add_subfigure(MyFigSF1, [A, B, N], \"C_m\")\n",
    "MyFig.set_asy_style(C_m, \"\\nNE\")\n",
    "A_m = MyFig.add_subfigure(MyFigSF1, [B, C, N], \"A_m\")\n",
    "MyFig.set_asy_style(A_m, \"\\nE\")\n",
    "B_m = MyFig.add_subfigure(MyFigSF1, [C, A, N], \"B_m\")\n",
    "MyFig.set_asy_style(B_m, \"\\nNE\")"
   ]
  },
  {
   "cell_type": "markdown",
   "metadata": {
    "ein.tags": "worksheet-0",
    "slideshow": {
     "slide_type": "-"
    }
   },
   "source": [
    "The following cycles are defined by cycle relations"
   ]
  },
  {
   "cell_type": "code",
   "execution_count": null,
   "metadata": {
    "autoscroll": false,
    "ein.hycell": false,
    "ein.tags": "worksheet-0",
    "slideshow": {
     "slide_type": "-"
    }
   },
   "outputs": [],
   "source": [
    "b = MyFig.add_cycle_rel([cycle_relation(A, \"orthogonal\", True), cycle_relation(C, \"orthogonal\", True), cycle_relation(N, \"orthogonal\", True)], \"b\")\n",
    "MyFig.set_asy_style(b, \"rgb(0,0,.8)+1\")\n",
    "a = MyFig.add_cycle_rel([cycle_relation(B, \"orthogonal\", True), cycle_relation(C, \"orthogonal\", True), cycle_relation(N, \"orthogonal\", True)], \"a\")\n",
    "MyFig.set_asy_style(a, \"rgb(0,0,.8)+1\")\n",
    "c = MyFig.add_cycle_rel([cycle_relation(A, \"orthogonal\", True), cycle_relation(B, \"orthogonal\", True), cycle_relation(N, \"orthogonal\", True)], \"c\")\n",
    "MyFig.set_asy_style(c, \"\\nNE\")"
   ]
  },
  {
   "cell_type": "markdown",
   "metadata": {
    "ein.tags": "worksheet-0",
    "slideshow": {
     "slide_type": "-"
    }
   },
   "source": [
    "## Cycles in generation 2<br>\n",
    "The following cycles are defined by cycle relations"
   ]
  },
  {
   "cell_type": "code",
   "execution_count": null,
   "metadata": {
    "autoscroll": false,
    "ein.hycell": false,
    "ein.tags": "worksheet-0",
    "slideshow": {
     "slide_type": "-"
    }
   },
   "outputs": [],
   "source": [
    "h_b = MyFig.add_cycle_rel([cycle_relation(B, \"orthogonal\", True), cycle_relation(N, \"orthogonal\", True), cycle_relation(b, \"orthogonal\", True)], \"h_b\")\n",
    "MyFig.set_asy_style(h_b, \"dashed\")\n",
    "v_a = MyFig.add_cycle_rel([cycle_relation(a, \"tangent_o\", True), cycle_relation(b, \"tangent_i\", True), cycle_relation(c, \"tangent_i\", True)], \"v_a\")\n",
    "MyFig.set_asy_style(v_a, \"rgb(0.8,0,0)+.5\\nSE\")\n",
    "v_c = MyFig.add_cycle_rel([cycle_relation(a, \"tangent_i\", True), cycle_relation(b, \"tangent_i\", True), cycle_relation(c, \"tangent_o\", True)], \"v_c\")\n",
    "MyFig.set_asy_style(v_c, \"rgb(0.8,0,0)+.5\")\n",
    "h_c = MyFig.add_cycle_rel([cycle_relation(C, \"orthogonal\", True), cycle_relation(N, \"orthogonal\", True), cycle_relation(c, \"orthogonal\", True)], \"h_c\")\n",
    "MyFig.set_asy_style(h_c, \"dashed\")\n",
    "v_b = MyFig.add_cycle_rel([cycle_relation(a, \"tangent_i\", True), cycle_relation(b, \"tangent_o\", True), cycle_relation(c, \"tangent_i\", True)], \"v_b\")\n",
    "MyFig.set_asy_style(v_b, \"rgb(0.8,0,0)+.5\")\n",
    "h_a = MyFig.add_cycle_rel([cycle_relation(A, \"orthogonal\", True), cycle_relation(N, \"orthogonal\", True), cycle_relation(a, \"orthogonal\", True)], \"h_a\")\n",
    "MyFig.set_asy_style(h_a, \"dashed\")"
   ]
  },
  {
   "cell_type": "markdown",
   "metadata": {
    "ein.tags": "worksheet-0",
    "slideshow": {
     "slide_type": "-"
    }
   },
   "source": [
    "## Cycles in generation 3<br>\n",
    "The following cycles are defined by cycle relations"
   ]
  },
  {
   "cell_type": "code",
   "execution_count": null,
   "metadata": {
    "autoscroll": false,
    "ein.hycell": false,
    "ein.tags": "worksheet-0",
    "slideshow": {
     "slide_type": "-"
    }
   },
   "outputs": [],
   "source": [
    "A_h = realsymbol(\"A_h\")\n",
    "MyFig.add_cycle_rel([cycle_relation(a, \"orthogonal\", True), cycle_relation(h_a, \"orthogonal\", True), cycle_relation(A_h, \"orthogonal\", True), cycle_relation(N, \"adifferent\", True)], A_h)\n",
    "O = realsymbol(\"O\")\n",
    "MyFig.add_cycle_rel([cycle_relation(h_a, \"orthogonal\", True), cycle_relation(h_b, \"orthogonal\", True), cycle_relation(O, \"orthogonal\", True), cycle_relation(N, \"adifferent\", True)], O)\n",
    "B_h = realsymbol(\"B_h\")\n",
    "MyFig.add_cycle_rel([cycle_relation(b, \"orthogonal\", True), cycle_relation(h_b, \"orthogonal\", True), cycle_relation(N, \"adifferent\", True), cycle_relation(B_h, \"orthogonal\", True)], B_h)\n",
    "MyFig.set_asy_style(B_h, \"\\nS\")\n",
    "C_h = realsymbol(\"C_h\")\n",
    "MyFig.add_cycle_rel([cycle_relation(N, \"adifferent\", True), cycle_relation(c, \"orthogonal\", True), cycle_relation(h_c, \"orthogonal\", True), cycle_relation(C_h, \"orthogonal\", True)], C_h)\n",
    "MyFig.set_asy_style(C_h, \"\\nNW\")"
   ]
  },
  {
   "cell_type": "markdown",
   "metadata": {
    "ein.tags": "worksheet-0",
    "slideshow": {
     "slide_type": "-"
    }
   },
   "source": [
    "## Cycles in generation 4<br>\n",
    "The following cycles are defined by the above subfigure(s)"
   ]
  },
  {
   "cell_type": "code",
   "execution_count": null,
   "metadata": {
    "autoscroll": false,
    "ein.hycell": false,
    "ein.tags": "worksheet-0",
    "slideshow": {
     "slide_type": "-"
    }
   },
   "outputs": [],
   "source": [
    "A_d = MyFig.add_subfigure(MyFigSF1, [O, A, N], \"A_d\")\n",
    "MyFig.set_asy_style(A_d, \"\\nE\")\n",
    "C_d = MyFig.add_subfigure(MyFigSF1, [C, O, N], \"C_d\")\n",
    "B_d = MyFig.add_subfigure(MyFigSF1, [B, O, N], \"B_d\")\n",
    "MyFig.set_asy_style(B_d, \"\\nNE\")"
   ]
  },
  {
   "cell_type": "markdown",
   "metadata": {
    "ein.tags": "worksheet-0",
    "slideshow": {
     "slide_type": "-"
    }
   },
   "source": [
    "The following cycle is defined by cycle relations"
   ]
  },
  {
   "cell_type": "code",
   "execution_count": null,
   "metadata": {
    "autoscroll": false,
    "ein.hycell": false,
    "ein.tags": "worksheet-0",
    "slideshow": {
     "slide_type": "-"
    }
   },
   "outputs": [],
   "source": [
    "p = MyFig.add_cycle_rel([cycle_relation(A_h, \"orthogonal\", True), cycle_relation(B_h, \"orthogonal\", True), cycle_relation(C_h, \"orthogonal\", True)], \"p\")\n",
    "MyFig.set_asy_style(p, \"rgb(0,.8,0)+1\\nSW\")"
   ]
  },
  {
   "cell_type": "markdown",
   "metadata": {
    "ein.tags": "worksheet-0",
    "slideshow": {
     "slide_type": "-"
    }
   },
   "source": [
    "## The automatically generated Python script\n",
    "The script below is included ``as-is'' after its generaion by the library."
   ]
  },
  {
   "cell_type": "code",
   "execution_count": 6,
   "metadata": {
    "autoscroll": false,
    "ein.hycell": false,
    "ein.tags": "worksheet-0",
    "slideshow": {
     "slide_type": "-"
    }
   },
   "outputs": [],
   "source": [
    "# ## Figure: This is an illustration of the Nine point theorem.\n",
    "# We define new figure with the following point and cycle metrics:\n",
    "MyFig = figure(matrix([[-1, 0], [0, -1]]),\\\n",
    "matrix([[-1, 0], [0, -1]]))\n",
    "\n",
    "# ### The figure description\n",
    "MyFig.info_write(\\\n",
    "\"\"\"\n",
    "This is an illustration of the Nine point theorem.\n",
    "For the triangle ABC defined by three given points A, B and C we construct:\n",
    "* the feets of altitudes A_h, B_h and C_h;\n",
    "* the midpoints of sides A_m, B_m and C_m;\n",
    "* the midpoints A_d, B_d and C_d between the respective vertices and the point O of intersection of the altitudes.\n",
    "All these nine points belong to the Euler circle p. Furthermore, p is tangent to three excircles v_a, v_b and v_c.\n",
    "A user may play with this figure by moving points A, B and C around. It is even more intriguing to change the metrics of point and cycle spaces from the default elliptic to hyperbolic and parabolic!\n",
    "\"\"\")\n",
    "\n",
    "# ## Cycles in generation 0\n",
    "# The following cycles are proper point(s)\n",
    "C = MyFig.add_point([-1/5, -3/2], \"C\")\n",
    "B = MyFig.add_point([1, 0], \"B\")\n",
    "A = MyFig.add_point([-1, 0], \"A\")\n",
    "\n",
    "# The following cycle is defined by coefficients\n",
    "N = MyFig.add_cycle(cycle_data(0, matrix([[0, 0]]), 1), \"N\")\n",
    "\n",
    "\n",
    "# ### Subfigure: Midpoint in cycle metric.\n",
    "# We will use the following subfigure\n",
    "MyFigSF1 = figure(matrix([[-1, 0], [0, -1]]),\\\n",
    "matrix([[-1, 0], [0, -1]])).freeze()\n",
    "MyFigSF1.info_write(\\\n",
    "\"\"\"\n",
    "Midpoint in cycle metric.\n",
    " For two points provided the figure returns their midpoint.\n",
    " For three given points A, B and N the subfigure produces\n",
    " such a point C on the cycle passing A, B and N,\n",
    " such that the cross-ratio of A, B, C, N is equal to 1.\n",
    " If N is infinity (the default value, if it is not supplied),\n",
    " then C is the midpoint between A and B as said above.\n",
    " More generally, for any two cycles A and B for N=infty\n",
    " figures returns the point between centres A and B\n",
    " which has equal tangential distance to A and B.\n",
    ".\n",
    "To use this subfigure provide cycles A, B and N in this order.\n",
    "\"\"\")\n",
    "variable002SF1 = MyFigSF1.add_cycle(cycle_data(0, matrix([[0, 0]]), 1), \"variable002\")\n",
    "variable000SF1 = MyFigSF1.add_cycle(cycle_data(1, matrix([[1, 0]]), 1), \"variable000\")\n",
    "variable001SF1 = MyFigSF1.add_cycle(cycle_data(1, matrix([[0, 0]]), 0), \"variable001\")\n",
    "v4SF1 = MyFigSF1.add_cycle_rel([cycle_relation(variable000SF1, \"orthogonal\", True), cycle_relation(variable001SF1, \"orthogonal\", True), cycle_relation(variable002SF1, \"orthogonal\", True)], \"v4\")\n",
    "v5SF1 = MyFigSF1.add_cycle_rel([cycle_relation(variable000SF1, \"orthogonal\", True), cycle_relation(variable001SF1, \"orthogonal\", True), cycle_relation(v4SF1, \"orthogonal\", True)], \"v5\")\n",
    "v6SF1 = MyFigSF1.add_cycle_rel([cycle_relation(variable002SF1, \"orthogonal\", True), cycle_relation(v4SF1, \"orthogonal\", True), cycle_relation(v5SF1, \"orthogonal\", True)], \"v6\")\n",
    "resultSF1 = realsymbol(\"result\")\n",
    "MyFigSF1.add_cycle_rel([cycle_relation(v4SF1, \"orthogonal\", True), cycle_relation(v6SF1, \"orthogonal\", True), cycle_relation(resultSF1, \"orthogonal\", False), cycle_relation(variable002SF1, \"adifferent\", True)], resultSF1)\n",
    "\n",
    "\n",
    "\n",
    "\n",
    "# ## Cycles in generation 1\n",
    "# The following cycles are defined by the above subfigure(s)\n",
    "C_m = MyFig.add_subfigure(MyFigSF1, [A, B, N], \"C_m\")\n",
    "MyFig.set_asy_style(C_m, \"\\nNE\")\n",
    "A_m = MyFig.add_subfigure(MyFigSF1, [B, C, N], \"A_m\")\n",
    "MyFig.set_asy_style(A_m, \"\\nE\")\n",
    "B_m = MyFig.add_subfigure(MyFigSF1, [C, A, N], \"B_m\")\n",
    "MyFig.set_asy_style(B_m, \"\\nNE\")\n",
    "\n",
    "# The following cycles are defined by cycle relations\n",
    "b = MyFig.add_cycle_rel([cycle_relation(A, \"orthogonal\", True), cycle_relation(C, \"orthogonal\", True), cycle_relation(N, \"orthogonal\", True)], \"b\")\n",
    "MyFig.set_asy_style(b, \"rgb(0,0,.8)+1\")\n",
    "a = MyFig.add_cycle_rel([cycle_relation(B, \"orthogonal\", True), cycle_relation(C, \"orthogonal\", True), cycle_relation(N, \"orthogonal\", True)], \"a\")\n",
    "MyFig.set_asy_style(a, \"rgb(0,0,.8)+1\")\n",
    "c = MyFig.add_cycle_rel([cycle_relation(A, \"orthogonal\", True), cycle_relation(B, \"orthogonal\", True), cycle_relation(N, \"orthogonal\", True)], \"c\")\n",
    "MyFig.set_asy_style(c, \"\\nNE\")\n",
    "\n",
    "\n",
    "# ## Cycles in generation 2\n",
    "# The following cycles are defined by cycle relations\n",
    "h_b = MyFig.add_cycle_rel([cycle_relation(B, \"orthogonal\", True), cycle_relation(N, \"orthogonal\", True), cycle_relation(b, \"orthogonal\", True)], \"h_b\")\n",
    "MyFig.set_asy_style(h_b, \"dashed\")\n",
    "v_a = MyFig.add_cycle_rel([cycle_relation(a, \"tangent_o\", True), cycle_relation(b, \"tangent_i\", True), cycle_relation(c, \"tangent_i\", True)], \"v_a\")\n",
    "MyFig.set_asy_style(v_a, \"rgb(0.8,0,0)+.5\\nSE\")\n",
    "v_c = MyFig.add_cycle_rel([cycle_relation(a, \"tangent_i\", True), cycle_relation(b, \"tangent_i\", True), cycle_relation(c, \"tangent_o\", True)], \"v_c\")\n",
    "MyFig.set_asy_style(v_c, \"rgb(0.8,0,0)+.5\")\n",
    "h_c = MyFig.add_cycle_rel([cycle_relation(C, \"orthogonal\", True), cycle_relation(N, \"orthogonal\", True), cycle_relation(c, \"orthogonal\", True)], \"h_c\")\n",
    "MyFig.set_asy_style(h_c, \"dashed\")\n",
    "v_b = MyFig.add_cycle_rel([cycle_relation(a, \"tangent_i\", True), cycle_relation(b, \"tangent_o\", True), cycle_relation(c, \"tangent_i\", True)], \"v_b\")\n",
    "MyFig.set_asy_style(v_b, \"rgb(0.8,0,0)+.5\")\n",
    "h_a = MyFig.add_cycle_rel([cycle_relation(A, \"orthogonal\", True), cycle_relation(N, \"orthogonal\", True), cycle_relation(a, \"orthogonal\", True)], \"h_a\")\n",
    "MyFig.set_asy_style(h_a, \"dashed\")\n",
    "\n",
    "\n",
    "# ## Cycles in generation 3\n",
    "# The following cycles are defined by cycle relations\n",
    "A_h = realsymbol(\"A_h\")\n",
    "MyFig.add_cycle_rel([cycle_relation(a, \"orthogonal\", True), cycle_relation(h_a, \"orthogonal\", True), cycle_relation(A_h, \"orthogonal\", True), cycle_relation(N, \"adifferent\", True)], A_h)\n",
    "O = realsymbol(\"O\")\n",
    "MyFig.add_cycle_rel([cycle_relation(h_a, \"orthogonal\", True), cycle_relation(h_b, \"orthogonal\", True), cycle_relation(O, \"orthogonal\", True), cycle_relation(N, \"adifferent\", True)], O)\n",
    "B_h = realsymbol(\"B_h\")\n",
    "MyFig.add_cycle_rel([cycle_relation(b, \"orthogonal\", True), cycle_relation(h_b, \"orthogonal\", True), cycle_relation(N, \"adifferent\", True), cycle_relation(B_h, \"orthogonal\", True)], B_h)\n",
    "MyFig.set_asy_style(B_h, \"\\nS\")\n",
    "C_h = realsymbol(\"C_h\")\n",
    "MyFig.add_cycle_rel([cycle_relation(N, \"adifferent\", True), cycle_relation(c, \"orthogonal\", True), cycle_relation(h_c, \"orthogonal\", True), cycle_relation(C_h, \"orthogonal\", True)], C_h)\n",
    "MyFig.set_asy_style(C_h, \"\\nNW\")\n",
    "\n",
    "\n",
    "# ## Cycles in generation 4\n",
    "# The following cycles are defined by the above subfigure(s)\n",
    "A_d = MyFig.add_subfigure(MyFigSF1, [O, A, N], \"A_d\")\n",
    "MyFig.set_asy_style(A_d, \"\\nE\")\n",
    "C_d = MyFig.add_subfigure(MyFigSF1, [C, O, N], \"C_d\")\n",
    "B_d = MyFig.add_subfigure(MyFigSF1, [B, O, N], \"B_d\")\n",
    "MyFig.set_asy_style(B_d, \"\\nNE\")\n",
    "\n",
    "# The following cycle is defined by cycle relations\n",
    "p = MyFig.add_cycle_rel([cycle_relation(A_h, \"orthogonal\", True), cycle_relation(B_h, \"orthogonal\", True), cycle_relation(C_h, \"orthogonal\", True)], \"p\")\n",
    "MyFig.set_asy_style(p, \"rgb(0,.8,0)+1\\nSW\")\n",
    "\n"
   ]
  },
  {
   "cell_type": "markdown",
   "metadata": {
    "ein.tags": "worksheet-0",
    "slideshow": {
     "slide_type": "-"
    }
   },
   "source": [
    "Finally, we visualise the produced figure to compare it with the original one from the [notebook](https://github.com/vvkisil/MoebInv-notebooks/blob/master/Introduction/Nine_point_theorem.ipynb):"
   ]
  },
  {
   "cell_type": "code",
   "execution_count": 12,
   "metadata": {
    "autoscroll": false,
    "ein.hycell": false,
    "ein.tags": "worksheet-0",
    "slideshow": {
     "slide_type": "-"
    }
   },
   "outputs": [
    {
     "data": {
      "image/png": "[encoded data removed]",
      "text/plain": [
       "<IPython.core.display.Image object>"
      ]
     },
     "execution_count": 12,
     "metadata": {},
     "output_type": "execute_result"
    }
   ],
   "source": [
    "%asy_write(MyFig,600,-1.75,1.75,-2,1.5,\"test-9p\")"
   ]
  }
 ],
 "metadata": {
  "kernelspec": {
   "display_name": "Python 3",
   "language": "python",
   "name": "python3"
  },
  "language_info": {
   "codemirror_mode": {
    "name": "ipython",
    "version": 3
   },
   "file_extension": ".py",
   "mimetype": "text/x-python",
   "name": "python",
   "nbconvert_exporter": "python",
   "pygments_lexer": "ipython3",
   "version": "3.7.4"
  },
  "name": "nine-points-ell.ipynb"
 },
 "nbformat": 4,
 "nbformat_minor": 2
}
