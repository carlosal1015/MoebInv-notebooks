{
 "cells": [
  {
   "cell_type": "markdown",
   "metadata": {
    "colab_type": "text",
    "ein.tags": "worksheet-0",
    "id": "view-in-github",
    "slideshow": {
     "slide_type": "-"
    }
   },
   "source": [
    "<table style=\"width:100%\">\n",
    "    <tr>\n",
    "        <td>\n",
    "            <a href=\"http://www1.maths.leeds.ac.uk/~kisilv/MoebInv-notebooks/Introduction/Euclidean_and_Lobachevsky_lines.html\">\n",
    "  <img src=\"https://img.shields.io/badge/view%20as-HTML-purple.svg\" alt=\"Open In Colab\"/>\n",
    "            </a>\n",
    "        </td>\n",
    "        <td>\n",
    "            <a href=\"https://github.com/vvkisil/MoebInv-notebooks/blob/master/Introduction/Euclidean_and_Lobachevsky_lines.ipynb\">\n",
    "  <img src=\"https://img.shields.io/badge/open%20in-GitHub-green.svg\" alt=\"Open In Colab\"/>\n",
    "            </a>\n",
    "        </td>\n",
    "        <td>\n",
    "            <a href=\"https://colab.research.google.com/github/vvkisil/MoebInv-notebooks/blob/master/Introduction/Euclidean_and_Lobachevsky_lines.ipynb\">\n",
    "  <img src=\"https://colab.research.google.com/assets/colab-badge.svg\" alt=\"Open In Colab\"/>\n",
    "            </a>\n",
    "        </td>\n",
    "        <td>\n",
    "            <a href=\"https://codeocean.com/capsule/7952650/tree\">\n",
    "  <img src=\"https://codeocean.com/codeocean-assets/badge/open-in-code-ocean.svg\" alt=\"Code Ocean\"/>\n",
    "            </a>\n",
    "        </td>\n",
    "    </tr>\n",
    " </table>"
   ]
  },
  {
   "cell_type": "markdown",
   "metadata": {
    "colab_type": "text",
    "ein.tags": "worksheet-0",
    "id": "W-YrGxYrwN9P",
    "slideshow": {
     "slide_type": "-"
    }
   },
   "source": [
    "# Euclidean and Lobachevsky line: introducing MoebInv library\n",
    "\n",
    "## Installing required software\n",
    "\n",
    "First we need to install require packages: GiNaC and boostPython from generic archive. For this switch the type of the next cell to `code` and execute it."
   ]
  },
  {
   "cell_type": "code",
   "execution_count": null,
   "metadata": {
    "autoscroll": false,
    "collapsed": false,
    "ein.hycell": false,
    "ein.tags": "worksheet-0",
    "slideshow": {
     "slide_type": "-"
    }
   },
   "outputs": [],
   "source": [
    "!apt-get update && apt-get -qq install -y ginac-tools asymptote libboost-python1.65.1 libpython3.6 "
   ]
  },
  {
   "cell_type": "markdown",
   "metadata": {
    "colab_type": "text",
    "ein.tags": "worksheet-0",
    "id": "S7Jmogbbxzub",
    "slideshow": {
     "slide_type": "-"
    }
   },
   "source": [
    "Then we download the custom binary packages with MoebInv library and Python wrapper for GiNac and MoebInv. Again you need to switch the type of the next cell to `code` and execute its script. This script will update your installation to the current version if you had the libraries already installed.\n",
    "\n",
    "Please report any issues to me (kisilv@maths.leeds.ac.uk)."
   ]
  },
  {
   "cell_type": "code",
   "execution_count": null,
   "metadata": {
    "autoscroll": false,
    "collapsed": false,
    "ein.hycell": false,
    "ein.tags": "worksheet-0",
    "slideshow": {
     "slide_type": "-"
    }
   },
   "outputs": [],
   "source": [
    "%%bash\n",
    "curl -LO https://sourceforge.net/projects/moebinv/files/binary/debian/libmoebinv0_latest_amd64.deb; \\ \n",
    "dpkg -i libmoebinv0_latest_amd64.deb && rm  libmoebinv0_latest_amd64.deb; \\\n",
    "\n",
    "# remove the an installed version of the Python wrapper \n",
    "if [ -f /usr/bin/moebinv-uninstall.sh ]; then \\ \n",
    "  /usr/bin/moebinv-uninstall.sh ; \\\n",
    "fi \n",
    "curl -L https://sourceforge.net/projects/moebinv/files/binary/pymoebinv.tbz | tar jvx --directory=/"
   ]
  },
  {
   "cell_type": "markdown",
   "metadata": {
    "colab_type": "text",
    "ein.tags": "worksheet-0",
    "id": "6Q5O2NjxJcWD",
    "slideshow": {
     "slide_type": "-"
    }
   },
   "source": [
    "The same command will install MoebInv library on your Ubuntu-18.04/Debian-10/etc desktop Linux-x86-64 (amd64) box.\n",
    "\n",
    "You can cleanly uninstall the above software at any time as explained in the section [Uninstallation](https://colab.research.google.com/drive/1L8kURF-zOnwdcrZRDhLKCItWcUJFQSuv#scrollTo=uZY86q85GKr6&line=3&uniqifier=1) below."
   ]
  },
  {
   "cell_type": "markdown",
   "metadata": {
    "colab_type": "text",
    "ein.tags": "worksheet-0",
    "id": "0sR0bObBxMp8",
    "slideshow": {
     "slide_type": "-"
    }
   },
   "source": [
    "## Using the library\n",
    "Once everything is installed we can use MoebInv. To start, we need to load and initialise respective libraries."
   ]
  },
  {
   "cell_type": "code",
   "execution_count": 0,
   "metadata": {
    "autoscroll": false,
    "colab": null,
    "colab_type": "code",
    "collapsed": false,
    "ein.hycell": false,
    "ein.tags": "worksheet-0",
    "id": "mvDejYWQxMqA",
    "slideshow": {
     "slide_type": "-"
    }
   },
   "outputs": [],
   "source": [
    "from figure import *\n",
    "# If you do not want to use additioanl IPython magic then comment the next line\n",
    "%load_ext figure\n",
    "from IPython.display import Image\n",
    "show_asy_off()"
   ]
  },
  {
   "cell_type": "markdown",
   "metadata": {
    "colab_type": "text",
    "ein.tags": "worksheet-0",
    "id": "ZHuv157BxMqM",
    "slideshow": {
     "slide_type": "-"
    }
   },
   "source": [
    "Now we initialise the figure $F$ with a default Euclidean metric."
   ]
  },
  {
   "cell_type": "code",
   "execution_count": 0,
   "metadata": {
    "autoscroll": false,
    "colab": null,
    "colab_type": "code",
    "collapsed": false,
    "ein.hycell": false,
    "ein.tags": "worksheet-0",
    "id": "xg2SNUOkxMqO",
    "slideshow": {
     "slide_type": "-"
    }
   },
   "outputs": [],
   "source": [
    "F=figure()"
   ]
  },
  {
   "cell_type": "markdown",
   "metadata": {
    "colab_type": "text",
    "ein.tags": "worksheet-0",
    "id": "E_IL74JBxMqV",
    "slideshow": {
     "slide_type": "-"
    }
   },
   "source": [
    "We add two points $A$ and $B$ to the figure providing their explicit coordinates."
   ]
  },
  {
   "cell_type": "code",
   "execution_count": 0,
   "metadata": {
    "autoscroll": false,
    "colab": null,
    "colab_type": "code",
    "collapsed": false,
    "ein.hycell": false,
    "ein.tags": "worksheet-0",
    "id": "ufbyn7euxMqX",
    "slideshow": {
     "slide_type": "-"
    }
   },
   "outputs": [],
   "source": [
    "A=F.add_point([-.25,.7],\"A\")\n",
    "B=F.add_point([1,1],\"B\")"
   ]
  },
  {
   "cell_type": "markdown",
   "metadata": {
    "colab_type": "text",
    "ein.tags": "worksheet-0",
    "id": "nP0rqAllxMqc",
    "slideshow": {
     "slide_type": "-"
    }
   },
   "source": [
    "We add the Euclidean line $e$ passing $A$ and $B$: it is orthogonal to these to points as well as the infinity $\\infty$."
   ]
  },
  {
   "cell_type": "code",
   "execution_count": 0,
   "metadata": {
    "autoscroll": false,
    "colab": null,
    "colab_type": "code",
    "collapsed": false,
    "ein.hycell": false,
    "ein.tags": "worksheet-0",
    "id": "XlEgS6JlxMqd",
    "slideshow": {
     "slide_type": "-"
    }
   },
   "outputs": [],
   "source": [
    "e=F.add_cycle_rel([is_orthogonal(A),is_orthogonal(B),is_orthogonal(F.get_infinity())],\"e\")"
   ]
  },
  {
   "cell_type": "markdown",
   "metadata": {
    "colab_type": "text",
    "ein.tags": "worksheet-0",
    "id": "z9_nQPDXxMqh",
    "slideshow": {
     "slide_type": "-"
    }
   },
   "source": [
    "The Lobachevsky line $l$ is similarly defined, but it is orthogonal to the real line $\\mathbb{R}$ rather than $\\infty$."
   ]
  },
  {
   "cell_type": "code",
   "execution_count": 0,
   "metadata": {
    "autoscroll": false,
    "colab": null,
    "colab_type": "code",
    "collapsed": false,
    "ein.hycell": false,
    "ein.tags": "worksheet-0",
    "id": "vboY1Li7xMqj",
    "slideshow": {
     "slide_type": "-"
    }
   },
   "outputs": [],
   "source": [
    "l=F.add_cycle_rel([is_orthogonal(A),is_orthogonal(B),is_orthogonal(F.get_real_line())],\"l\")"
   ]
  },
  {
   "cell_type": "markdown",
   "metadata": {
    "colab_type": "text",
    "ein.tags": "worksheet-0",
    "id": "mpBmiiYgxMqm",
    "slideshow": {
     "slide_type": "-"
    }
   },
   "source": [
    "Now we draw the picture."
   ]
  },
  {
   "cell_type": "code",
   "execution_count": 0,
   "metadata": {
    "autoscroll": false,
    "colab": {
     "base_uri": "https://localhost:8080/",
     "height": 275
    },
    "colab_type": "code",
    "collapsed": false,
    "ein.hycell": false,
    "ein.tags": "worksheet-0",
    "id": "xJz9j-SBxMqo",
    "outputId": "05f4efb6-a750-4e4f-8d02-1475bf482bb1",
    "slideshow": {
     "slide_type": "-"
    }
   },
   "outputs": [
    {
     "data": {
      "image/png": "[encoded data removed]",
      "text/plain": [
       "<IPython.core.display.Image object>"
      ]
     },
     "execution_count": 9,
     "metadata": {
      "tags": null
     },
     "output_type": "execute_result"
    }
   ],
   "source": [
    "F.asy_write(300,-.7,2,-2,2,\"euclid_and_lobachevsky\",\"png\")\n",
    "Image(\"euclid_and_lobachevsky.png\")"
   ]
  },
  {
   "cell_type": "markdown",
   "metadata": {
    "colab_type": "text",
    "ein.tags": "worksheet-0",
    "id": "aITeqTPo22zj",
    "slideshow": {
     "slide_type": "-"
    }
   },
   "source": [
    "The same effect can be achived in one line with IPython Magic"
   ]
  },
  {
   "cell_type": "code",
   "execution_count": 0,
   "metadata": {
    "autoscroll": false,
    "colab": {
     "base_uri": "https://localhost:8080/",
     "height": 275
    },
    "colab_type": "code",
    "collapsed": false,
    "ein.hycell": false,
    "ein.tags": "worksheet-0",
    "id": "TWfzwXUP3CxX",
    "outputId": "cbddba8a-89a5-44ae-b88d-df8f737cab8f",
    "slideshow": {
     "slide_type": "-"
    }
   },
   "outputs": [
    {
     "data": {
      "image/png": "[encoded data removed]",
      "text/plain": [
       "<IPython.core.display.Image object>"
      ]
     },
     "execution_count": 10,
     "metadata": {
      "tags": null
     },
     "output_type": "execute_result"
    }
   ],
   "source": [
    "%asy_write(F, 300,-.7,2,-2,2,\"euclid_and_lobachevsky\")"
   ]
  },
  {
   "cell_type": "markdown",
   "metadata": {
    "colab_type": "text",
    "ein.tags": "worksheet-0",
    "id": "uZY86q85GKr6",
    "slideshow": {
     "slide_type": "-"
    }
   },
   "source": [
    "## Uninstalation\n",
    "\n",
    "If you do not need MoebInv anymore and want to uninstall it then execute the following cell. For this switch the type of the next cell to `code` and execute it."
   ]
  },
  {
   "cell_type": "raw",
   "metadata": {
    "ein.tags": "worksheet-0",
    "slideshow": {
     "slide_type": "-"
    }
   },
   "source": [
    "!apt-get -qq remove -y libmoebinv0\n",
    "!/usr/bin/moebinv-uninstall.sh"
   ]
  },
  {
   "cell_type": "markdown",
   "metadata": {
    "colab_type": "text",
    "ein.tags": "worksheet-0",
    "id": "bGwu-hvuM2Yd",
    "slideshow": {
     "slide_type": "-"
    }
   },
   "source": [
    "You can also optionally delete all or some standard packages installed above: switch the type of the next cell to `code` and execute it."
   ]
  },
  {
   "cell_type": "raw",
   "metadata": {
    "ein.tags": "worksheet-0",
    "slideshow": {
     "slide_type": "-"
    }
   },
   "source": [
    "!apt-get -qq remove -y ginac-tools asymptote libboost-python1.65.1 libpython3.6"
   ]
  },
  {
   "cell_type": "markdown",
   "metadata": {
    "colab_type": "text",
    "ein.tags": "worksheet-0",
    "id": "Gy-sbPls5Ait",
    "slideshow": {
     "slide_type": "-"
    }
   },
   "source": [
    "## Further info:\n",
    "* [MoebInv library full documentation](https://sourceforge.net/projects/moebinv/files/docs/figure.pdf)\n",
    "* [MoebInv Home page](http://moebinv.sourceforge.net/)\n",
    "* [MoebInv CoLab Notebooks](https://colab.research.google.com/github/vvkisil/MoebInv-notebooks/blob/master/Table_of_contents.md)\n",
    "* [MoebInv CodeOcean capsule](https://codeocean.com/capsule/7952650/tree)"
   ]
  }
 ],
 "metadata": {
  "colab": {
   "collapsed_sections": null,
   "include_colab_link": true,
   "name": "Euclidean and Lobachevsky lines.ipynb",
   "provenance": null,
   "version": "0.3.2"
  },
  "kernelspec": {
   "argv": [
    "/usr/bin/python3",
    "-m",
    "ipykernel_launcher",
    "-f",
    "{connection_file}"
   ],
   "display_name": "Python 3",
   "env": null,
   "interrupt_mode": "signal",
   "language": "python",
   "metadata": null,
   "name": "python3"
  },
  "language_info": {
   "codemirror_mode": {
    "name": "ipython",
    "version": 3
   },
   "file_extension": ".py",
   "mimetype": "text/x-python",
   "name": "python",
   "nbconvert_exporter": "python",
   "pygments_lexer": "ipython3",
   "version": "3.7.4+"
  },
  "name": "Euclidean_and_Lobachevsky_lines.ipynb"
 },
 "nbformat": 4,
 "nbformat_minor": 1
}
