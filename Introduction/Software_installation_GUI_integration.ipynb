{
 "cells": [
  {
   "cell_type": "markdown",
   "metadata": {
    "ein.tags": "worksheet-0",
    "slideshow": {
     "slide_type": "-"
    }
   },
   "source": [
    "[![Open In Colab](https://colab.research.google.com/assets/colab-badge.svg)](https://colab.research.google.com/github/googlecolab/colabtools/blob/master/notebooks/colab-github-demo.ipynb)"
   ]
  },
  {
   "cell_type": "markdown",
   "metadata": {
    "ein.tags": "worksheet-0",
    "slideshow": {
     "slide_type": "-"
    }
   },
   "source": [
    "# Installing the libraries and integration with GUI\n",
    "\n",
    "## Installing the software\n",
    "To use these notebooks you need to install binary `MoebInv` libraries and their dependencies.\n",
    "\n",
    "In short, you simply need to copy the next cell and [execute it in CoLab](https://colab.research.google.com/github/vvkisil/MoebInv-notebooks/blob/master/Introduction/Software_installation_GUI_integration.ipynb) or your Debian/Ubuntu-18.04 desktop the following cell:"
   ]
  },
  {
   "cell_type": "code",
   "execution_count": null,
   "metadata": {
    "autoscroll": false,
    "ein.hycell": false,
    "ein.tags": "worksheet-0",
    "slideshow": {
     "slide_type": "-"
    }
   },
   "outputs": [],
   "source": [
    "%%bash\n",
    "# Addtitional standard packages need to be installled\n",
    "apt-get update && apt-get -qq install -y ginac-tools asymptote libboost-python1.65.1 libpython3.6\n",
    "\n",
    "# MoebInv library binary package\n",
    "curl -LO https://sourceforge.net/projects/moebinv/files/binary/debian/libmoebinv0_latest_amd64.deb; \\ \n",
    "dpkg -i libmoebinv0_latest_amd64.deb && rm  libmoebinv0_latest_amd64.deb\n",
    "\n",
    "# remove an installed version of the Python wrapper \n",
    "if [ -f /usr/bin/moebinv-uninstall.sh ]; then \\ \n",
    "  /usr/bin/moebinv-uninstall.sh ; \\\n",
    "fi\n",
    "\n",
    "# Installation of the Python wrapper  \n",
    "curl -L https://sourceforge.net/projects/moebinv/files/binary/pymoebinv.tbz | tar jvx --directory=/"
   ]
  },
  {
   "cell_type": "markdown",
   "metadata": {
    "ein.tags": "worksheet-0",
    "slideshow": {
     "slide_type": "-"
    }
   },
   "source": [
    "The same command will install MoebInv library on your Ubuntu-18.04/Debian-10/etc Linux-x86-64 (amd64) box.\n",
    "\n",
    "Alternatively, there is also a [CodeOcean capsule](https://codeocean.com/capsule/7952650/tree) with the same facilities."
   ]
  },
  {
   "cell_type": "markdown",
   "metadata": {
    "ein.tags": "worksheet-0",
    "slideshow": {
     "slide_type": "-"
    }
   },
   "source": [
    "## Jupyter and MoebInv-GUI integration\n",
    "There is a Graphical User Interface (GUI) to the MoebInv library. It allows to create and research geometrical constructions by mouse clicks. You may find a pre-compiled GUI binary distribution for your desktop platform at [SourceForge](https://sourceforge.net/projects/moebinv/files/binary/). \n",
    "\n",
    "There is bidirectional integration beetween Jupyter and GUI:\n",
    "\n",
    "* From Jupyter (or any coding system in C++ or Python) use\n",
    "``` python\n",
    "F.save(\"my-figure-archive.gar\")\n",
    "```\n",
    "to save GiNaC Gar archive. It can be loaded into GUI (or any other front-end, indeed).\n",
    "* From GUI select\n",
    "```\n",
    "File → Export figure → Export Python script\n",
    "```\n",
    "in Main Menu and save the script file. Then it can be executed in the IPython or Jupyter cell.\n",
    "\n",
    "Furthermore, to use such code as Jupyter notebook I recommend to post-process the generated Python script with [p2j (Python to Jupyter)](https://pypi.org/project/p2j/) utility.\n",
    "\n",
    "Here is an [Example](https://github.com/vvkisil/MoebInv-notebooks/blob/master/Introduction/Nine_point_auto_script.ipynb) of Python script and Jupyter notebook automatically created from the GUI.\n",
    "\n",
    "### References\n",
    "1. Vladimir V. Kisil, [*MoebInv: Symbolic, numeric and graphic manipulations in non-Eclidean geometry*](http://moebinv.sourceforge.net/), SourceForge repository,\n",
    "2004-2019.\n",
    "\n",
    "2. Vladimir V. Kisil. *Geometry of Möbius Transformations: Elliptic, Parabolic and Hyperbolic Actions of $SL_2(\\mathbb{R})$*. [Imperial College Press](https://www.worldscientific.com/worldscibooks/10.1142/p835), London, 2012. Includes a live DVD.\n",
    "\n",
    "3.  Vladimir V. Kisil, [*MoebInv notebooks*](https://github.com/vvkisil/MoebInv-notebooks), 2019.\n"
   ]
  }
 ],
 "metadata": {
  "kernelspec": {
   "display_name": "Python 3",
   "language": "python",
   "name": "python3"
  },
  "language_info": {
   "codemirror_mode": {
    "name": "ipython",
    "version": 3
   },
   "file_extension": ".py",
   "mimetype": "text/x-python",
   "name": "python",
   "nbconvert_exporter": "python",
   "pygments_lexer": "ipython3",
   "version": "3.7.4+"
  },
  "name": "Software_installation_GUI_integration.ipynb"
 },
 "nbformat": 4,
 "nbformat_minor": 2
}
