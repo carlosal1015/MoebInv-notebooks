{
 "cells": [
  {
   "cell_type": "markdown",
   "metadata": {
    "colab_type": "text",
    "ein.tags": "worksheet-0",
    "id": "view-in-github",
    "slideshow": {
     "slide_type": "-"
    }
   },
   "source": [
    "<table style=\"width:100%\">\n",
    "    <tr>\n",
    "        <td>\n",
    "            <a href=\"http://www1.maths.leeds.ac.uk/~kisilv/MoebInv-notebooks/Introduction/Example_of_symbolic_computations.html\">\n",
    "  <img src=\"../svg/view-html.svg\" alt=\"View HTML\"/>\n",
    "            </a>\n",
    "        </td>\n",
    "        <td>\n",
    "<a href=\"https://github.com/vvkisil/MoebInv-notebooks/blob/master/Introduction/Example_of_symbolic_computations.ipynb\">\n",
    "  <img src=\"../svg/open-github.svg\" alt=\"Open in GitHub\"/>\n",
    "            </a>\n",
    "        </td>\n",
    "        <td>\n",
    "            <a href=\"https://colab.research.google.com/github/vvkisil/MoebInv-notebooks/blob/master/Introduction/Example_of_symbolic_computations.ipynb\">\n",
    "  <img src=\"../svg/exec-colab.svg\" alt=\"Run in CoLab\"/>\n",
    "            </a>\n",
    "        </td>\n",
    "        <td>\n",
    "            <a href=\"https://codeocean.com/capsule/7952650/tree\">\n",
    "  <img src=\"../svg/code-ocean.svg\" alt=\"Code Ocean\"/>\n",
    "            </a>\n",
    "        </td>\n",
    "    </tr>\n",
    " </table>"
   ]
  },
  {
   "cell_type": "markdown",
   "metadata": {
    "colab_type": "text",
    "ein.tags": "worksheet-0",
    "id": "0F7Bq53GNt1D",
    "slideshow": {
     "slide_type": "-"
    }
   },
   "source": [
    "# Example of symbolic computations"
   ]
  },
  {
   "cell_type": "markdown",
   "metadata": {
    "colab_type": "text",
    "ein.tags": "worksheet-0",
    "id": "0SuM8g5mNt1F",
    "slideshow": {
     "slide_type": "-"
    }
   },
   "source": [
    "MoebInv can do a bit more than just draw colorful pictures. Powered by GiNaC symbolic computation engine MoebInv is capable to provide rigorous proof of geometric statements through analytic computations. Here is an example.\n",
    "\n",
    "**If you get an error** due to missing libraries then install them as shown in the first section of [Software installation notebook](https://colab.research.google.com/github/vvkisil/MoebInv-notebooks/blob/master/Introduction/Software_installation_GUI_integration.ipynb) "
   ]
  },
  {
   "cell_type": "markdown",
   "metadata": {
    "colab_type": "text",
    "ein.tags": "worksheet-0",
    "id": "GsIThcwFOOmT",
    "slideshow": {
     "slide_type": "-"
    }
   },
   "source": [
    "First, we need to load libraries (assuming [software installation](https://colab.research.google.com/github/vvkisil/MoebInv-notebooks/blob/master/Introduction/Software_installation_GUI_integration.ipynb) is already done)."
   ]
  },
  {
   "cell_type": "code",
   "execution_count": 1,
   "metadata": {
    "autoscroll": false,
    "colab": null,
    "colab_type": "code",
    "collapsed": false,
    "ein.hycell": false,
    "ein.tags": "worksheet-0",
    "id": "qOiYKpUINt1H",
    "slideshow": {
     "slide_type": "-"
    }
   },
   "outputs": [],
   "source": [
    "from figure import *"
   ]
  },
  {
   "cell_type": "markdown",
   "metadata": {
    "colab_type": "text",
    "ein.tags": "worksheet-0",
    "id": "f3awN-BuNt1P",
    "slideshow": {
     "slide_type": "-"
    }
   },
   "source": [
    "Then, we initialise a figure F with a default Euclidean metric."
   ]
  },
  {
   "cell_type": "code",
   "execution_count": 2,
   "metadata": {
    "autoscroll": false,
    "colab": null,
    "colab_type": "code",
    "collapsed": false,
    "ein.hycell": false,
    "ein.tags": "worksheet-0",
    "id": "ZfrZPMrUNt1Q",
    "slideshow": {
     "slide_type": "-"
    }
   },
   "outputs": [],
   "source": [
    "F=figure()"
   ]
  },
  {
   "cell_type": "markdown",
   "metadata": {
    "colab_type": "text",
    "ein.tags": "worksheet-0",
    "id": "qY20balJNt1V",
    "slideshow": {
     "slide_type": "-"
    }
   },
   "source": [
    "We add the unit circle $a$ to the figure by specifying the explicit coefficients $(1, 0, 0, -1)$ of its quadratic equations:\n",
    "$$1\\cdot(x^2+y^2)-0\\cdot x -0\\cdot y -1 =0$$."
   ]
  },
  {
   "cell_type": "code",
   "execution_count": 3,
   "metadata": {
    "autoscroll": false,
    "colab": null,
    "colab_type": "code",
    "collapsed": false,
    "ein.hycell": false,
    "ein.tags": "worksheet-0",
    "id": "obyJ0F3aNt1W",
    "slideshow": {
     "slide_type": "-"
    }
   },
   "outputs": [],
   "source": [
    "a=F.add_cycle(cycle2D(1, [0, 0], -1), \"a\")"
   ]
  },
  {
   "cell_type": "markdown",
   "metadata": {
    "colab_type": "text",
    "ein.tags": "worksheet-0",
    "id": "0WaBJmO-Nt1a",
    "slideshow": {
     "slide_type": "-"
    }
   },
   "source": [
    "Then, we add the centre $C$ of $a$ as a point:"
   ]
  },
  {
   "cell_type": "code",
   "execution_count": 4,
   "metadata": {
    "autoscroll": false,
    "colab": null,
    "colab_type": "code",
    "collapsed": false,
    "ein.hycell": false,
    "ein.tags": "worksheet-0",
    "id": "gxi9Ew4rNt1b",
    "slideshow": {
     "slide_type": "-"
    }
   },
   "outputs": [],
   "source": [
    "C=F.add_point(cycle2D(F.get_cycle(a)[0]).center(), \"C\")"
   ]
  },
  {
   "cell_type": "markdown",
   "metadata": {
    "colab_type": "text",
    "ein.tags": "worksheet-0",
    "id": "Kz4VCWzYNt1f",
    "slideshow": {
     "slide_type": "-"
    }
   },
   "source": [
    "We add a line $l$ tangent to $a$. A straight line is characterised among cycles by its orthogonality to infinity (\"passes the infinity\"). The line $l$ is not uniquely defined by these two conditions (the tangency and orthogonality) because the point of its contact to $a$ can be arbitrary. Therefore its coefficients contain a free variable like 'symbol255' as can be seen from the figure printout."
   ]
  },
  {
   "cell_type": "code",
   "execution_count": 5,
   "metadata": {
    "autoscroll": false,
    "colab": {
     "base_uri": "https://localhost:8080/",
     "height": 190
    },
    "colab_type": "code",
    "collapsed": false,
    "ein.hycell": false,
    "ein.tags": "worksheet-0",
    "id": "YlpDVwiXNt1g",
    "outputId": "a4ecca36-4822-4027-c001-e1bc4877df07",
    "slideshow": {
     "slide_type": "-"
    }
   },
   "outputs": [
    {
     "name": "stdout",
     "output_type": "stream",
     "text": [
      "C-(0): {`0, [[1,0]]~C-(0), 0', -3} --> (C);  <-- ()\n",
      "C-(1): {`0, [[0,1]]~C-(1), 0', -3} --> (C);  <-- ()\n",
      "infty: {`0, [[0,0]]~infty, 1', -2} --> (C,l);  <-- ()\n",
      "R: {`0, [[0,1]]~R, 0', -1} --> ();  <-- ()\n",
      "C: {`1, [[0,0]]~C, 0', 0} --> ();  <-- (C/o,infty|d,C-(0)|o,C-(1)|o)\n",
      "a: {`1, [[0,0]]~a, -1', 0} --> (l);  <-- ()\n",
      "l: {`0, [[-1/8*sqrt(8)*sqrt(2)*cos(t_l),-1/64*sqrt(2)*sin(t_l)*sqrt(512)]]~l, 1', `0, [[1/8*sqrt(8)*sqrt(2)*cos(t_l),-1/64*sqrt(2)*sin(t_l)*sqrt(512)]]~l, 1', `0, [[1/8*sqrt(8)*cos(t_l)*sqrt(2),1/64*sin(t_l)*sqrt(2)*sqrt(512)]]~l, 1', `0, [[-1/8*sqrt(8)*cos(t_l)*sqrt(2),1/64*sin(t_l)*sqrt(2)*sqrt(512)]]~l, 1', 1} --> ();  <-- (a|t,infty|o,l|r)\n",
      "Altogether 10 cycles in 7 cycle_nodes.\n",
      "\n"
     ]
    }
   ],
   "source": [
    "l=symbol(\"l\")\n",
    "F.add_cycle_rel([is_tangent(a),is_orthogonal(F.get_infinity()),only_reals(l)],l)\n",
    "print(F.string())"
   ]
  },
  {
   "cell_type": "markdown",
   "metadata": {
    "ein.tags": "worksheet-0",
    "slideshow": {
     "slide_type": "-"
    }
   },
   "source": [
    "Note, that the parametrisation of the line \\(l\\) uses trigonometric\n",
    "  functions in order to avoid square roots appearing in the solutions of quadratic tangency relation. With such substitution automatic simplifications of algebraic expressions are much more efficient."
   ]
  },
  {
   "cell_type": "markdown",
   "metadata": {
    "colab_type": "text",
    "ein.tags": "worksheet-0",
    "id": "DQj3yRlFNt1k",
    "slideshow": {
     "slide_type": "-"
    }
   },
   "source": [
    "At the next step we add the point $P$ of contact of the circle $a$ and the line $l$. A point belongs to a cycle if the point is orthogonal the cycle. Also a point is characterised among all cycle by orthogonality to itself. To define the latter reflexive condition we need to ``pre-cook'' its symbol in advance."
   ]
  },
  {
   "cell_type": "code",
   "execution_count": 6,
   "metadata": {
    "autoscroll": false,
    "colab": null,
    "colab_type": "code",
    "collapsed": false,
    "ein.hycell": false,
    "ein.tags": "worksheet-0",
    "id": "qKmWbesRNt1l",
    "slideshow": {
     "slide_type": "-"
    }
   },
   "outputs": [],
   "source": [
    "P=symbol(\"P\")\n",
    "P=F.add_cycle_rel([is_orthogonal(P), is_orthogonal(a), is_orthogonal(l), only_reals(P)], P)"
   ]
  },
  {
   "cell_type": "markdown",
   "metadata": {
    "colab_type": "text",
    "ein.tags": "worksheet-0",
    "id": "SaeQDgD8Nt1o",
    "slideshow": {
     "slide_type": "-"
    }
   },
   "source": [
    "Finally we add the radius $r$ passing $P$: it is a straight line (is orthogonal to the infinity) and passes both $P$ and $C$ (is orthogonal to each of them). "
   ]
  },
  {
   "cell_type": "code",
   "execution_count": 7,
   "metadata": {
    "autoscroll": false,
    "colab": null,
    "colab_type": "code",
    "collapsed": false,
    "ein.hycell": false,
    "ein.tags": "worksheet-0",
    "id": "Grx_W768Nt1p",
    "slideshow": {
     "slide_type": "-"
    }
   },
   "outputs": [],
   "source": [
    "r=F.add_cycle_rel([is_orthogonal(P), is_orthogonal(C), is_orthogonal(F.get_infinity())], \"r\")"
   ]
  },
  {
   "cell_type": "markdown",
   "metadata": {
    "colab_type": "text",
    "ein.tags": "worksheet-0",
    "id": "qLN_sgOcNt1s",
    "slideshow": {
     "slide_type": "-"
    }
   },
   "source": [
    "Recall, that $r$ depends on the same free parameters as $l$. Now, we check the orthogonality relation between $r$ and $l$. Because some of the above conditions were quadratic (e.g., tangency and self-orthogonality), there are multiple instances of the cycle $r$, each of them is checked separately."
   ]
  },
  {
   "cell_type": "code",
   "execution_count": 8,
   "metadata": {
    "autoscroll": false,
    "colab": {
     "base_uri": "https://localhost:8080/",
     "height": 85
    },
    "colab_type": "code",
    "collapsed": false,
    "ein.hycell": false,
    "ein.tags": "worksheet-0",
    "id": "7MCOe6AYNt1v",
    "outputId": "49aea73c-b963-421b-ae9e-c1f8f6a02adc",
    "slideshow": {
     "slide_type": "-"
    }
   },
   "outputs": [
    {
     "name": "stdout",
     "output_type": "stream",
     "text": [
      "Tangent and radius are orthogonal: True\n",
      "Tangent and radius are orthogonal: True\n",
      "Tangent and radius are orthogonal: True\n",
      "Tangent and radius are orthogonal: True\n"
     ]
    }
   ],
   "source": [
    "Res=F.check_rel(l,r,\"orthogonal\")\n",
    "for i in range(len(Res)):\n",
    "    print(\"Tangent and radius are orthogonal: %s\" %\\\n",
    "    bool(Res[i].subs(pow(cos(wild(0)),2)==1-pow(sin(wild(0)),2)).normal()))"
   ]
  },
  {
   "cell_type": "markdown",
   "metadata": {
    "ein.tags": "worksheet-0",
    "slideshow": {
     "slide_type": "-"
    }
   },
   "source": [
    "Note, that we had uses the Pythagoras substitution $\\cos^2 t = 1 - \\sin^2 t$ to assist the CAS with algebraic simplifications."
   ]
  },
  {
   "cell_type": "markdown",
   "metadata": {
    "ein.tags": "worksheet-0",
    "slideshow": {
     "slide_type": "-"
    }
   },
   "source": [
    "Another example of analytic proof of a less trivial result is presented [here](https://github.com/vvkisil/MoebInv-notebooks/tree/master/Geometry_of_cycles/Start_from_Basics/What_is_cycle.ipynb#thm-FSCc-conjugation). "
   ]
  },
  {
   "cell_type": "markdown",
   "metadata": {
    "colab_type": "text",
    "ein.tags": "worksheet-0",
    "id": "kN-UhRwjNt1z",
    "slideshow": {
     "slide_type": "-"
    }
   },
   "source": [
    "## Further info:\n",
    "* [MoebInv library full documentation](https://sourceforge.net/projects/moebinv/files/docs/figure.pdf)\n",
    "* [MoebInv Home page](http://moebinv.sourceforge.net/)\n",
    "* [MoebInv  Notebooks](https://github.com/vvkisil/MoebInv-notebooks/blob/master/Table_of_contents.md)\n",
    "* [MoebInv CodeOcean capsule](https://codeocean.com/capsule/7952650/tree)"
   ]
  }
 ],
 "metadata": {
  "colab": {
   "collapsed_sections": null,
   "include_colab_link": true,
   "name": "Example of symbolic computations.ipynb",
   "provenance": null,
   "version": "0.3.2"
  },
  "kernelspec": {
   "argv": [
    "/usr/bin/python3",
    "-m",
    "ipykernel_launcher",
    "-f",
    "{connection_file}"
   ],
   "display_name": "Python 3",
   "env": null,
   "interrupt_mode": "signal",
   "language": "python",
   "metadata": null,
   "name": "python3"
  },
  "language_info": {
   "codemirror_mode": {
    "name": "ipython",
    "version": 3
   },
   "file_extension": ".py",
   "mimetype": "text/x-python",
   "name": "python",
   "nbconvert_exporter": "python",
   "pygments_lexer": "ipython3",
   "version": "3.7.5"
  },
  "name": "Example_of_symbolic_computations.ipynb"
 },
 "nbformat": 4,
 "nbformat_minor": 1
}
