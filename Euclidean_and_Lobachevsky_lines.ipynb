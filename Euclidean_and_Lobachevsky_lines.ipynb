{
 "cells": [
  {
   "cell_type": "markdown",
   "metadata": {
    "colab_type": "text",
    "ein.tags": "worksheet-0",
    "id": "view-in-github",
    "slideshow": {
     "slide_type": "-"
    }
   },
   "source": [
    "<a href=\"https://colab.research.google.com/github/vvkisil/MoebInv-notebooks/blob/master/Euclidean_and_Lobachevsky_lines.ipynb\" target=\"_parent\"><img src=\"https://colab.research.google.com/assets/colab-badge.svg\" alt=\"Open In Colab\"/></a>"
   ]
  },
  {
   "cell_type": "markdown",
   "metadata": {
    "colab_type": "text",
    "ein.tags": "worksheet-0",
    "id": "n7j1SDCMxMp3",
    "slideshow": {
     "slide_type": "-"
    }
   },
   "source": [
    "# MoebInv Example: Euclidean and Lobachevsky lines"
   ]
  },
  {
   "cell_type": "markdown",
   "metadata": {
    "colab_type": "text",
    "ein.tags": "worksheet-0",
    "id": "iWesb5ZNyDOq",
    "slideshow": {
     "slide_type": "-"
    }
   },
   "source": [
    "## Installing required software\n"
   ]
  },
  {
   "cell_type": "markdown",
   "metadata": {
    "colab_type": "text",
    "ein.tags": "worksheet-0",
    "id": "W-YrGxYrwN9P",
    "slideshow": {
     "slide_type": "-"
    }
   },
   "source": [
    "First we need to install require packages: GiNaC and boostPython from generic archive."
   ]
  },
  {
   "cell_type": "code",
   "execution_count": 0,
   "metadata": {
    "autoscroll": false,
    "colab": {
     "base_uri": "https://localhost:8080/",
     "height": 1000
    },
    "colab_type": "code",
    "collapsed": false,
    "ein.hycell": false,
    "ein.tags": "worksheet-0",
    "id": "csFtCq_SxuHt",
    "outputId": "5a894591-6bad-425d-a07d-73471b33841f",
    "slideshow": {
     "slide_type": "-"
    }
   },
   "outputs": [
    {
     "name": "stdout",
     "output_type": "stream",
     "text": [
      "\r",
      "0% [Working]\r",
      "            \r",
      "Get:1 http://security.ubuntu.com/ubuntu bionic-security InRelease [88.7 kB]\n",
      "\r",
      "0% [Connecting to archive.ubuntu.com (91.189.88.176)] [1 InRelease 14.2 kB/88.7\r",
      "0% [Waiting for headers] [Waiting for headers] [Waiting for headers] [Waiting f\r",
      "                                                                               \r",
      "Ign:2 https://developer.download.nvidia.com/compute/cuda/repos/ubuntu1804/x86_64  InRelease\n",
      "\r",
      "0% [Waiting for headers] [Waiting for headers] [Waiting for headers] [Waiting f\r",
      "0% [1 InRelease gpgv 88.7 kB] [Waiting for headers] [Waiting for headers] [Wait\r",
      "                                                                               \r",
      "Get:3 https://cloud.r-project.org/bin/linux/ubuntu bionic-cran35/ InRelease [3,626 B]\n",
      "\r",
      "0% [1 InRelease gpgv 88.7 kB] [Waiting for headers] [Waiting for headers] [Wait\r",
      "                                                                               \r",
      "Hit:4 http://archive.ubuntu.com/ubuntu bionic InRelease\n",
      "\r",
      "                                                                               \r",
      "Hit:5 http://ppa.launchpad.net/graphics-drivers/ppa/ubuntu bionic InRelease\n",
      "\r",
      "0% [1 InRelease gpgv 88.7 kB] [Waiting for headers] [Waiting for headers] [Conn\r",
      "                                                                               \r",
      "Ign:6 https://developer.download.nvidia.com/compute/machine-learning/repos/ubuntu1804/x86_64  InRelease\n",
      "\r",
      "0% [1 InRelease gpgv 88.7 kB] [Waiting for headers] [Connecting to ppa.launchpa\r",
      "                                                                               \r",
      "Hit:7 https://developer.download.nvidia.com/compute/cuda/repos/ubuntu1804/x86_64  Release\n",
      "\r",
      "0% [1 InRelease gpgv 88.7 kB] [Waiting for headers] [Connecting to ppa.launchpa\r",
      "                                                                               \r",
      "Hit:8 https://developer.download.nvidia.com/compute/machine-learning/repos/ubuntu1804/x86_64  Release\n",
      "\r",
      "0% [1 InRelease gpgv 88.7 kB] [Waiting for headers] [Connecting to ppa.launchpa\r",
      "                                                                               \r",
      "Get:9 http://archive.ubuntu.com/ubuntu bionic-updates InRelease [88.7 kB]\n",
      "\r",
      "0% [1 InRelease gpgv 88.7 kB] [9 InRelease 13.9 kB/88.7 kB 16%] [Waiting for he\r",
      "                                                                               \r",
      "Hit:10 http://ppa.launchpad.net/marutter/c2d4u3.5/ubuntu bionic InRelease\n",
      "\r",
      "                                                                               \r",
      "0% [1 InRelease gpgv 88.7 kB] [9 InRelease 29.3 kB/88.7 kB 33%]\r",
      "                                                               \r",
      "0% [9 InRelease 34.5 kB/88.7 kB 39%]\r",
      "0% [3 InRelease gpgv 3,626 B] [9 InRelease 34.5 kB/88.7 kB 39%] [Waiting for he\r",
      "                                                                               \r",
      "Get:11 http://security.ubuntu.com/ubuntu bionic-security/main amd64 Packages [628 kB]\n",
      "\r",
      "0% [3 InRelease gpgv 3,626 B] [9 InRelease 42.2 kB/88.7 kB 48%] [11 Packages 8,\r",
      "                                                                               \r",
      "0% [3 InRelease gpgv 3,626 B] [9 InRelease 73.1 kB/88.7 kB 82%]\r",
      "0% [11 Packages store 0 B] [3 InRelease gpgv 3,626 B] [9 InRelease 73.1 kB/88.7\r",
      "                                                                               \r",
      "Get:12 http://security.ubuntu.com/ubuntu bionic-security/universe amd64 Packages [760 kB]\n",
      "Get:13 http://archive.ubuntu.com/ubuntu bionic-backports InRelease [74.6 kB]\n",
      "Get:16 http://archive.ubuntu.com/ubuntu bionic-updates/main amd64 Packages [926 kB]\n",
      "Get:17 http://archive.ubuntu.com/ubuntu bionic-updates/universe amd64 Packages [1,279 kB]\n",
      "Fetched 3,849 kB in 2s (1,634 kB/s)\n",
      "Reading package lists... Done\n",
      "Extracting templates from packages: 100%\n",
      "Preconfiguring packages ...\n",
      "Selecting previously unselected package install-info.\n",
      "(Reading database ... 131183 files and directories currently installed.)\n",
      "Preparing to unpack .../install-info_6.5.0.dfsg.1-2_amd64.deb ...\n",
      "Unpacking install-info (6.5.0.dfsg.1-2) ...\n",
      "Setting up install-info (6.5.0.dfsg.1-2) ...\n",
      "Selecting previously unselected package fonts-droid-fallback.\n",
      "(Reading database ... 131196 files and directories currently installed.)\n",
      "Preparing to unpack .../00-fonts-droid-fallback_1%3a6.0.1r16-1.1_all.deb ...\n",
      "Unpacking fonts-droid-fallback (1:6.0.1r16-1.1) ...\n",
      "Selecting previously unselected package fonts-lato.\n",
      "Preparing to unpack .../01-fonts-lato_2.0-2_all.deb ...\n",
      "Unpacking fonts-lato (2.0-2) ...\n",
      "Selecting previously unselected package liblqr-1-0:amd64.\n",
      "Preparing to unpack .../02-liblqr-1-0_0.4.2-2.1_amd64.deb ...\n",
      "Unpacking liblqr-1-0:amd64 (0.4.2-2.1) ...\n",
      "Selecting previously unselected package imagemagick-6-common.\n",
      "Preparing to unpack .../03-imagemagick-6-common_8%3a6.9.7.4+dfsg-16ubuntu6.7_all.deb ...\n",
      "Unpacking imagemagick-6-common (8:6.9.7.4+dfsg-16ubuntu6.7) ...\n",
      "Selecting previously unselected package libmagickcore-6.q16-3:amd64.\n",
      "Preparing to unpack .../04-libmagickcore-6.q16-3_8%3a6.9.7.4+dfsg-16ubuntu6.7_amd64.deb ...\n",
      "Unpacking libmagickcore-6.q16-3:amd64 (8:6.9.7.4+dfsg-16ubuntu6.7) ...\n",
      "Selecting previously unselected package libmagickwand-6.q16-3:amd64.\n",
      "Preparing to unpack .../05-libmagickwand-6.q16-3_8%3a6.9.7.4+dfsg-16ubuntu6.7_amd64.deb ...\n",
      "Unpacking libmagickwand-6.q16-3:amd64 (8:6.9.7.4+dfsg-16ubuntu6.7) ...\n",
      "Selecting previously unselected package poppler-data.\n",
      "Preparing to unpack .../06-poppler-data_0.4.8-2_all.deb ...\n",
      "Unpacking poppler-data (0.4.8-2) ...\n",
      "Selecting previously unselected package tex-common.\n",
      "Preparing to unpack .../07-tex-common_6.09_all.deb ...\n",
      "Unpacking tex-common (6.09) ...\n",
      "Selecting previously unselected package info.\n",
      "Preparing to unpack .../08-info_6.5.0.dfsg.1-2_amd64.deb ...\n",
      "Unpacking info (6.5.0.dfsg.1-2) ...\n",
      "Selecting previously unselected package libgslcblas0:amd64.\n",
      "Preparing to unpack .../09-libgslcblas0_2.4+dfsg-6_amd64.deb ...\n",
      "Unpacking libgslcblas0:amd64 (2.4+dfsg-6) ...\n",
      "Selecting previously unselected package libgsl23:amd64.\n",
      "Preparing to unpack .../10-libgsl23_2.4+dfsg-6_amd64.deb ...\n",
      "Unpacking libgsl23:amd64 (2.4+dfsg-6) ...\n",
      "Selecting previously unselected package libosmesa6:amd64.\n",
      "Preparing to unpack .../11-libosmesa6_19.0.8-0ubuntu0~18.04.1_amd64.deb ...\n",
      "Unpacking libosmesa6:amd64 (19.0.8-0ubuntu0~18.04.1) ...\n",
      "Selecting previously unselected package libsigsegv2:amd64.\n",
      "Preparing to unpack .../12-libsigsegv2_2.12-1_amd64.deb ...\n",
      "Unpacking libsigsegv2:amd64 (2.12-1) ...\n",
      "Selecting previously unselected package libcupsimage2:amd64.\n",
      "Preparing to unpack .../13-libcupsimage2_2.2.7-1ubuntu2.7_amd64.deb ...\n",
      "Unpacking libcupsimage2:amd64 (2.2.7-1ubuntu2.7) ...\n",
      "Selecting previously unselected package libijs-0.35:amd64.\n",
      "Preparing to unpack .../14-libijs-0.35_0.35-13_amd64.deb ...\n",
      "Unpacking libijs-0.35:amd64 (0.35-13) ...\n",
      "Selecting previously unselected package libjbig2dec0:amd64.\n",
      "Preparing to unpack .../15-libjbig2dec0_0.13-6_amd64.deb ...\n",
      "Unpacking libjbig2dec0:amd64 (0.13-6) ...\n",
      "Selecting previously unselected package libgs9-common.\n",
      "Preparing to unpack .../16-libgs9-common_9.26~dfsg+0-0ubuntu0.18.04.11_all.deb ...\n",
      "Unpacking libgs9-common (9.26~dfsg+0-0ubuntu0.18.04.11) ...\n",
      "Selecting previously unselected package libgs9:amd64.\n",
      "Preparing to unpack .../17-libgs9_9.26~dfsg+0-0ubuntu0.18.04.11_amd64.deb ...\n",
      "Unpacking libgs9:amd64 (9.26~dfsg+0-0ubuntu0.18.04.11) ...\n",
      "Selecting previously unselected package ghostscript.\n",
      "Preparing to unpack .../18-ghostscript_9.26~dfsg+0-0ubuntu0.18.04.11_amd64.deb ...\n",
      "Unpacking ghostscript (9.26~dfsg+0-0ubuntu0.18.04.11) ...\n",
      "Selecting previously unselected package imagemagick-6.q16.\n",
      "Preparing to unpack .../19-imagemagick-6.q16_8%3a6.9.7.4+dfsg-16ubuntu6.7_amd64.deb ...\n",
      "Unpacking imagemagick-6.q16 (8:6.9.7.4+dfsg-16ubuntu6.7) ...\n",
      "Selecting previously unselected package imagemagick.\n",
      "Preparing to unpack .../20-imagemagick_8%3a6.9.7.4+dfsg-16ubuntu6.7_amd64.deb ...\n",
      "Unpacking imagemagick (8:6.9.7.4+dfsg-16ubuntu6.7) ...\n",
      "Selecting previously unselected package python3-pil.imagetk:amd64.\n",
      "Preparing to unpack .../21-python3-pil.imagetk_5.1.0-1_amd64.deb ...\n",
      "Unpacking python3-pil.imagetk:amd64 (5.1.0-1) ...\n",
      "Selecting previously unselected package python3-pil:amd64.\n",
      "Preparing to unpack .../22-python3-pil_5.1.0-1_amd64.deb ...\n",
      "Unpacking python3-pil:amd64 (5.1.0-1) ...\n",
      "Selecting previously unselected package libkpathsea6:amd64.\n",
      "Preparing to unpack .../23-libkpathsea6_2017.20170613.44572-8ubuntu0.1_amd64.deb ...\n",
      "Unpacking libkpathsea6:amd64 (2017.20170613.44572-8ubuntu0.1) ...\n",
      "Selecting previously unselected package libptexenc1:amd64.\n",
      "Preparing to unpack .../24-libptexenc1_2017.20170613.44572-8ubuntu0.1_amd64.deb ...\n",
      "Unpacking libptexenc1:amd64 (2017.20170613.44572-8ubuntu0.1) ...\n",
      "Selecting previously unselected package libsynctex1:amd64.\n",
      "Preparing to unpack .../25-libsynctex1_2017.20170613.44572-8ubuntu0.1_amd64.deb ...\n",
      "Unpacking libsynctex1:amd64 (2017.20170613.44572-8ubuntu0.1) ...\n",
      "Selecting previously unselected package libtexlua52:amd64.\n",
      "Preparing to unpack .../26-libtexlua52_2017.20170613.44572-8ubuntu0.1_amd64.deb ...\n",
      "Unpacking libtexlua52:amd64 (2017.20170613.44572-8ubuntu0.1) ...\n",
      "Selecting previously unselected package libtexluajit2:amd64.\n",
      "Preparing to unpack .../27-libtexluajit2_2017.20170613.44572-8ubuntu0.1_amd64.deb ...\n",
      "Unpacking libtexluajit2:amd64 (2017.20170613.44572-8ubuntu0.1) ...\n",
      "Selecting previously unselected package t1utils.\n",
      "Preparing to unpack .../28-t1utils_1.41-2_amd64.deb ...\n",
      "Unpacking t1utils (1.41-2) ...\n",
      "Selecting previously unselected package libpotrace0.\n",
      "Preparing to unpack .../29-libpotrace0_1.14-2_amd64.deb ...\n",
      "Unpacking libpotrace0 (1.14-2) ...\n",
      "Selecting previously unselected package libzzip-0-13:amd64.\n",
      "Preparing to unpack .../30-libzzip-0-13_0.13.62-3.1ubuntu0.18.04.1_amd64.deb ...\n",
      "Unpacking libzzip-0-13:amd64 (0.13.62-3.1ubuntu0.18.04.1) ...\n",
      "Selecting previously unselected package texlive-binaries.\n",
      "Preparing to unpack .../31-texlive-binaries_2017.20170613.44572-8ubuntu0.1_amd64.deb ...\n",
      "Unpacking texlive-binaries (2017.20170613.44572-8ubuntu0.1) ...\n",
      "Selecting previously unselected package fonts-lmodern.\n",
      "Preparing to unpack .../32-fonts-lmodern_2.004.5-3_all.deb ...\n",
      "Unpacking fonts-lmodern (2.004.5-3) ...\n",
      "Selecting previously unselected package texlive-base.\n",
      "Preparing to unpack .../33-texlive-base_2017.20180305-1_all.deb ...\n",
      "Unpacking texlive-base (2017.20180305-1) ...\n",
      "Selecting previously unselected package texlive-latex-base.\n",
      "Preparing to unpack .../34-texlive-latex-base_2017.20180305-1_all.deb ...\n",
      "Unpacking texlive-latex-base (2017.20180305-1) ...\n",
      "Selecting previously unselected package texlive-latex-recommended.\n",
      "Preparing to unpack .../35-texlive-latex-recommended_2017.20180305-1_all.deb ...\n",
      "Unpacking texlive-latex-recommended (2017.20180305-1) ...\n",
      "Selecting previously unselected package texlive-pictures.\n",
      "Preparing to unpack .../36-texlive-pictures_2017.20180305-1_all.deb ...\n",
      "Unpacking texlive-pictures (2017.20180305-1) ...\n",
      "Selecting previously unselected package texlive-plain-generic.\n",
      "Preparing to unpack .../37-texlive-plain-generic_2017.20180305-2_all.deb ...\n",
      "Unpacking texlive-plain-generic (2017.20180305-2) ...\n",
      "Selecting previously unselected package texlive-pstricks.\n",
      "Preparing to unpack .../38-texlive-pstricks_2017.20180305-2_all.deb ...\n",
      "Unpacking texlive-pstricks (2017.20180305-2) ...\n",
      "Selecting previously unselected package asymptote.\n",
      "Preparing to unpack .../39-asymptote_2.41-4_amd64.deb ...\n",
      "Unpacking asymptote (2.41-4) ...\n",
      "Selecting previously unselected package asymptote-doc.\n",
      "Preparing to unpack .../40-asymptote-doc_2.41-4_all.deb ...\n",
      "Unpacking asymptote-doc (2.41-4) ...\n",
      "Selecting previously unselected package libuuid-perl.\n",
      "Preparing to unpack .../41-libuuid-perl_0.27-1build1_amd64.deb ...\n",
      "Unpacking libuuid-perl (0.27-1build1) ...\n",
      "Selecting previously unselected package libyaml-tiny-perl.\n",
      "Preparing to unpack .../42-libyaml-tiny-perl_1.70-1_all.deb ...\n",
      "Unpacking libyaml-tiny-perl (1.70-1) ...\n",
      "Selecting previously unselected package doc-base.\n",
      "Preparing to unpack .../43-doc-base_0.10.8_all.deb ...\n",
      "Unpacking doc-base (0.10.8) ...\n",
      "Selecting previously unselected package fonts-noto-mono.\n",
      "Preparing to unpack .../44-fonts-noto-mono_20171026-2_all.deb ...\n",
      "Unpacking fonts-noto-mono (20171026-2) ...\n",
      "Selecting previously unselected package libcln6.\n",
      "Preparing to unpack .../45-libcln6_1.3.4-2_amd64.deb ...\n",
      "Unpacking libcln6 (1.3.4-2) ...\n",
      "Selecting previously unselected package libginac6.\n",
      "Preparing to unpack .../46-libginac6_1.7.4-1_amd64.deb ...\n",
      "Unpacking libginac6 (1.7.4-1) ...\n",
      "Selecting previously unselected package ginac-tools.\n",
      "Preparing to unpack .../47-ginac-tools_1.7.4-1_amd64.deb ...\n",
      "Unpacking ginac-tools (1.7.4-1) ...\n",
      "Selecting previously unselected package gsfonts.\n",
      "Preparing to unpack .../48-gsfonts_1%3a8.11+urwcyr1.0.7~pre44-4.4_all.deb ...\n",
      "Unpacking gsfonts (1:8.11+urwcyr1.0.7~pre44-4.4) ...\n",
      "Selecting previously unselected package javascript-common.\n",
      "Preparing to unpack .../49-javascript-common_11_all.deb ...\n",
      "Unpacking javascript-common (11) ...\n",
      "Selecting previously unselected package libcupsfilters1:amd64.\n",
      "Preparing to unpack .../50-libcupsfilters1_1.20.2-0ubuntu3.1_amd64.deb ...\n",
      "Unpacking libcupsfilters1:amd64 (1.20.2-0ubuntu3.1) ...\n",
      "Selecting previously unselected package libdjvulibre-text.\n",
      "Preparing to unpack .../51-libdjvulibre-text_3.5.27.1-8_all.deb ...\n",
      "Unpacking libdjvulibre-text (3.5.27.1-8) ...\n",
      "Selecting previously unselected package libdjvulibre21:amd64.\n",
      "Preparing to unpack .../52-libdjvulibre21_3.5.27.1-8_amd64.deb ...\n",
      "Unpacking libdjvulibre21:amd64 (3.5.27.1-8) ...\n",
      "Selecting previously unselected package libfile-which-perl.\n",
      "Preparing to unpack .../53-libfile-which-perl_1.21-1_all.deb ...\n",
      "Unpacking libfile-which-perl (1.21-1) ...\n",
      "Selecting previously unselected package libfile-homedir-perl.\n",
      "Preparing to unpack .../54-libfile-homedir-perl_1.002-1_all.deb ...\n",
      "Unpacking libfile-homedir-perl (1.002-1) ...\n",
      "Selecting previously unselected package libjs-jquery.\n",
      "Preparing to unpack .../55-libjs-jquery_3.2.1-1_all.deb ...\n",
      "Unpacking libjs-jquery (3.2.1-1) ...\n",
      "Selecting previously unselected package libwmf0.2-7:amd64.\n",
      "Preparing to unpack .../56-libwmf0.2-7_0.2.8.4-12_amd64.deb ...\n",
      "Unpacking libwmf0.2-7:amd64 (0.2.8.4-12) ...\n",
      "Selecting previously unselected package libmagickcore-6.q16-3-extra:amd64.\n",
      "Preparing to unpack .../57-libmagickcore-6.q16-3-extra_8%3a6.9.7.4+dfsg-16ubuntu6.7_amd64.deb ...\n",
      "Unpacking libmagickcore-6.q16-3-extra:amd64 (8:6.9.7.4+dfsg-16ubuntu6.7) ...\n",
      "Selecting previously unselected package libmime-charset-perl.\n",
      "Preparing to unpack .../58-libmime-charset-perl_1.012.2-1_all.deb ...\n",
      "Unpacking libmime-charset-perl (1.012.2-1) ...\n",
      "Selecting previously unselected package libnetpbm10.\n",
      "Preparing to unpack .../59-libnetpbm10_2%3a10.0-15.3build1_amd64.deb ...\n",
      "Unpacking libnetpbm10 (2:10.0-15.3build1) ...\n",
      "Selecting previously unselected package rubygems-integration.\n",
      "Preparing to unpack .../60-rubygems-integration_1.11_all.deb ...\n",
      "Unpacking rubygems-integration (1.11) ...\n",
      "Selecting previously unselected package ruby2.5.\n",
      "Preparing to unpack .../61-ruby2.5_2.5.1-1ubuntu1.5_amd64.deb ...\n",
      "Unpacking ruby2.5 (2.5.1-1ubuntu1.5) ...\n",
      "Selecting previously unselected package ruby.\n",
      "Preparing to unpack .../62-ruby_1%3a2.5.1_amd64.deb ...\n",
      "Unpacking ruby (1:2.5.1) ...\n",
      "Selecting previously unselected package rake.\n",
      "Preparing to unpack .../63-rake_12.3.1-1_all.deb ...\n",
      "Unpacking rake (12.3.1-1) ...\n",
      "Selecting previously unselected package ruby-did-you-mean.\n",
      "Preparing to unpack .../64-ruby-did-you-mean_1.2.0-2_all.deb ...\n",
      "Unpacking ruby-did-you-mean (1.2.0-2) ...\n",
      "Selecting previously unselected package ruby-minitest.\n",
      "Preparing to unpack .../65-ruby-minitest_5.10.3-1_all.deb ...\n",
      "Unpacking ruby-minitest (5.10.3-1) ...\n",
      "Selecting previously unselected package ruby-net-telnet.\n",
      "Preparing to unpack .../66-ruby-net-telnet_0.1.1-2_all.deb ...\n",
      "Unpacking ruby-net-telnet (0.1.1-2) ...\n",
      "Selecting previously unselected package ruby-power-assert.\n",
      "Preparing to unpack .../67-ruby-power-assert_0.3.0-1_all.deb ...\n",
      "Unpacking ruby-power-assert (0.3.0-1) ...\n",
      "Selecting previously unselected package ruby-test-unit.\n",
      "Preparing to unpack .../68-ruby-test-unit_3.2.5-1_all.deb ...\n",
      "Unpacking ruby-test-unit (3.2.5-1) ...\n",
      "Selecting previously unselected package libruby2.5:amd64.\n",
      "Preparing to unpack .../69-libruby2.5_2.5.1-1ubuntu1.5_amd64.deb ...\n",
      "Unpacking libruby2.5:amd64 (2.5.1-1ubuntu1.5) ...\n",
      "Selecting previously unselected package libsombok3:amd64.\n",
      "Preparing to unpack .../70-libsombok3_2.4.0-1_amd64.deb ...\n",
      "Unpacking libsombok3:amd64 (2.4.0-1) ...\n",
      "Selecting previously unselected package libunicode-linebreak-perl.\n",
      "Preparing to unpack .../71-libunicode-linebreak-perl_0.0.20160702-1build2_amd64.deb ...\n",
      "Unpacking libunicode-linebreak-perl (0.0.20160702-1build2) ...\n",
      "Selecting previously unselected package lmodern.\n",
      "Preparing to unpack .../72-lmodern_2.004.5-3_all.deb ...\n",
      "Unpacking lmodern (2.004.5-3) ...\n",
      "Selecting previously unselected package netpbm.\n",
      "Preparing to unpack .../73-netpbm_2%3a10.0-15.3build1_amd64.deb ...\n",
      "Unpacking netpbm (2:10.0-15.3build1) ...\n",
      "Selecting previously unselected package ps2eps.\n",
      "Preparing to unpack .../74-ps2eps_1.68+binaryfree-2_amd64.deb ...\n",
      "Unpacking ps2eps (1.68+binaryfree-2) ...\n",
      "Selecting previously unselected package python3-olefile.\n",
      "Preparing to unpack .../75-python3-olefile_0.45.1-1_all.deb ...\n",
      "Unpacking python3-olefile (0.45.1-1) ...\n",
      "Selecting previously unselected package texlive-extra-utils.\n",
      "Preparing to unpack .../76-texlive-extra-utils_2017.20180305-2_all.deb ...\n",
      "Unpacking texlive-extra-utils (2017.20180305-2) ...\n",
      "Selecting previously unselected package texlive-font-utils.\n",
      "Preparing to unpack .../77-texlive-font-utils_2017.20180305-2_all.deb ...\n",
      "Unpacking texlive-font-utils (2017.20180305-2) ...\n",
      "Setting up libgs9-common (9.26~dfsg+0-0ubuntu0.18.04.11) ...\n",
      "Setting up libkpathsea6:amd64 (2017.20170613.44572-8ubuntu0.1) ...\n",
      "Setting up libjs-jquery (3.2.1-1) ...\n",
      "Setting up libtexlua52:amd64 (2017.20170613.44572-8ubuntu0.1) ...\n",
      "Setting up imagemagick-6-common (8:6.9.7.4+dfsg-16ubuntu6.7) ...\n",
      "Setting up libcln6 (1.3.4-2) ...\n",
      "Setting up fonts-droid-fallback (1:6.0.1r16-1.1) ...\n",
      "Setting up python3-pil:amd64 (5.1.0-1) ...\n",
      "Setting up libsynctex1:amd64 (2017.20170613.44572-8ubuntu0.1) ...\n",
      "Setting up python3-pil.imagetk:amd64 (5.1.0-1) ...\n",
      "Setting up libptexenc1:amd64 (2017.20170613.44572-8ubuntu0.1) ...\n",
      "Setting up info (6.5.0.dfsg.1-2) ...\n",
      "update-alternatives: using /usr/bin/info to provide /usr/bin/infobrowser (infobrowser) in auto mode\n",
      "Setting up tex-common (6.09) ...\n",
      "update-language: texlive-base not installed and configured, doing nothing!\n",
      "Processing triggers for mime-support (3.60ubuntu1) ...\n",
      "Setting up gsfonts (1:8.11+urwcyr1.0.7~pre44-4.4) ...\n",
      "Setting up libfile-which-perl (1.21-1) ...\n",
      "Setting up python3-olefile (0.45.1-1) ...\n",
      "Setting up libsigsegv2:amd64 (2.12-1) ...\n",
      "Setting up poppler-data (0.4.8-2) ...\n",
      "Setting up libdjvulibre-text (3.5.27.1-8) ...\n",
      "Processing triggers for install-info (6.5.0.dfsg.1-2) ...\n",
      "Setting up libosmesa6:amd64 (19.0.8-0ubuntu0~18.04.1) ...\n",
      "Setting up libfile-homedir-perl (1.002-1) ...\n",
      "Setting up libnetpbm10 (2:10.0-15.3build1) ...\n",
      "Setting up libyaml-tiny-perl (1.70-1) ...\n",
      "Setting up fonts-noto-mono (20171026-2) ...\n",
      "Setting up fonts-lato (2.0-2) ...\n",
      "Setting up libcupsfilters1:amd64 (1.20.2-0ubuntu3.1) ...\n",
      "Setting up libcupsimage2:amd64 (2.2.7-1ubuntu2.7) ...\n",
      "Setting up liblqr-1-0:amd64 (0.4.2-2.1) ...\n",
      "Setting up libjbig2dec0:amd64 (0.13-6) ...\n",
      "Setting up ruby-did-you-mean (1.2.0-2) ...\n",
      "Setting up libmime-charset-perl (1.012.2-1) ...\n",
      "Processing triggers for libc-bin (2.27-3ubuntu1) ...\n",
      "Setting up t1utils (1.41-2) ...\n",
      "Setting up libuuid-perl (0.27-1build1) ...\n",
      "Setting up doc-base (0.10.8) ...\n",
      "Registering 19 doc-base files...\n",
      "Error in `/usr/share/doc-base/users-and-groups', line 13: all `Format' sections are invalid.\n",
      "Note: `install-docs --verbose --check file_name' may give more details about the above error.\n",
      "Setting up asymptote-doc (2.41-4) ...\n",
      "Setting up ruby-net-telnet (0.1.1-2) ...\n",
      "Setting up libijs-0.35:amd64 (0.35-13) ...\n",
      "Setting up netpbm (2:10.0-15.3build1) ...\n",
      "Setting up rubygems-integration (1.11) ...\n",
      "Setting up libpotrace0 (1.14-2) ...\n",
      "Processing triggers for man-db (2.8.3-2ubuntu0.1) ...\n",
      "Setting up libginac6 (1.7.4-1) ...\n",
      "Setting up javascript-common (11) ...\n",
      "Setting up ruby-minitest (5.10.3-1) ...\n",
      "Setting up libzzip-0-13:amd64 (0.13.62-3.1ubuntu0.18.04.1) ...\n",
      "Setting up libgslcblas0:amd64 (2.4+dfsg-6) ...\n",
      "Processing triggers for hicolor-icon-theme (0.17-2) ...\n",
      "Setting up libgs9:amd64 (9.26~dfsg+0-0ubuntu0.18.04.11) ...\n",
      "Setting up libwmf0.2-7:amd64 (0.2.8.4-12) ...\n",
      "Setting up libtexluajit2:amd64 (2017.20170613.44572-8ubuntu0.1) ...\n",
      "Setting up libsombok3:amd64 (2.4.0-1) ...\n",
      "Processing triggers for fontconfig (2.12.6-0ubuntu2) ...\n",
      "Setting up fonts-lmodern (2.004.5-3) ...\n",
      "Setting up ruby-power-assert (0.3.0-1) ...\n",
      "Setting up ginac-tools (1.7.4-1) ...\n",
      "Setting up libmagickcore-6.q16-3:amd64 (8:6.9.7.4+dfsg-16ubuntu6.7) ...\n",
      "Setting up libgsl23:amd64 (2.4+dfsg-6) ...\n",
      "Setting up libdjvulibre21:amd64 (3.5.27.1-8) ...\n",
      "Setting up ghostscript (9.26~dfsg+0-0ubuntu0.18.04.11) ...\n",
      "Setting up texlive-binaries (2017.20170613.44572-8ubuntu0.1) ...\n",
      "update-alternatives: using /usr/bin/xdvi-xaw to provide /usr/bin/xdvi.bin (xdvi.bin) in auto mode\n",
      "update-alternatives: using /usr/bin/bibtex.original to provide /usr/bin/bibtex (bibtex) in auto mode\n",
      "Setting up libmagickwand-6.q16-3:amd64 (8:6.9.7.4+dfsg-16ubuntu6.7) ...\n",
      "Setting up libunicode-linebreak-perl (0.0.20160702-1build2) ...\n",
      "Setting up texlive-base (2017.20180305-1) ...\n",
      "mktexlsr: Updating /var/lib/texmf/ls-R-TEXLIVEDIST... \n",
      "mktexlsr: Updating /var/lib/texmf/ls-R-TEXMFMAIN... \n",
      "mktexlsr: Updating /var/lib/texmf/ls-R... \n",
      "mktexlsr: Done.\n",
      "tl-paper: setting paper size for dvips to a4: /var/lib/texmf/dvips/config/config-paper.ps\n",
      "tl-paper: setting paper size for dvipdfmx to a4: /var/lib/texmf/dvipdfmx/dvipdfmx-paper.cfg\n",
      "tl-paper: setting paper size for xdvi to a4: /var/lib/texmf/xdvi/XDvi-paper\n",
      "tl-paper: setting paper size for pdftex to a4: /var/lib/texmf/tex/generic/config/pdftexconfig.tex\n",
      "Setting up ps2eps (1.68+binaryfree-2) ...\n",
      "Setting up texlive-plain-generic (2017.20180305-2) ...\n",
      "Setting up texlive-latex-base (2017.20180305-1) ...\n",
      "Setting up lmodern (2.004.5-3) ...\n",
      "Setting up texlive-latex-recommended (2017.20180305-1) ...\n",
      "Setting up texlive-extra-utils (2017.20180305-2) ...\n",
      "Setting up texlive-pictures (2017.20180305-1) ...\n",
      "Setting up imagemagick-6.q16 (8:6.9.7.4+dfsg-16ubuntu6.7) ...\n",
      "update-alternatives: using /usr/bin/compare-im6.q16 to provide /usr/bin/compare (compare) in auto mode\n",
      "update-alternatives: using /usr/bin/compare-im6.q16 to provide /usr/bin/compare-im6 (compare-im6) in auto mode\n",
      "update-alternatives: using /usr/bin/animate-im6.q16 to provide /usr/bin/animate (animate) in auto mode\n",
      "update-alternatives: using /usr/bin/animate-im6.q16 to provide /usr/bin/animate-im6 (animate-im6) in auto mode\n",
      "update-alternatives: using /usr/bin/convert-im6.q16 to provide /usr/bin/convert (convert) in auto mode\n",
      "update-alternatives: using /usr/bin/convert-im6.q16 to provide /usr/bin/convert-im6 (convert-im6) in auto mode\n",
      "update-alternatives: using /usr/bin/composite-im6.q16 to provide /usr/bin/composite (composite) in auto mode\n",
      "update-alternatives: using /usr/bin/composite-im6.q16 to provide /usr/bin/composite-im6 (composite-im6) in auto mode\n",
      "update-alternatives: using /usr/bin/conjure-im6.q16 to provide /usr/bin/conjure (conjure) in auto mode\n",
      "update-alternatives: using /usr/bin/conjure-im6.q16 to provide /usr/bin/conjure-im6 (conjure-im6) in auto mode\n",
      "update-alternatives: using /usr/bin/import-im6.q16 to provide /usr/bin/import (import) in auto mode\n",
      "update-alternatives: using /usr/bin/import-im6.q16 to provide /usr/bin/import-im6 (import-im6) in auto mode\n",
      "update-alternatives: using /usr/bin/identify-im6.q16 to provide /usr/bin/identify (identify) in auto mode\n",
      "update-alternatives: using /usr/bin/identify-im6.q16 to provide /usr/bin/identify-im6 (identify-im6) in auto mode\n",
      "update-alternatives: using /usr/bin/stream-im6.q16 to provide /usr/bin/stream (stream) in auto mode\n",
      "update-alternatives: using /usr/bin/stream-im6.q16 to provide /usr/bin/stream-im6 (stream-im6) in auto mode\n",
      "update-alternatives: using /usr/bin/display-im6.q16 to provide /usr/bin/display (display) in auto mode\n",
      "update-alternatives: using /usr/bin/display-im6.q16 to provide /usr/bin/display-im6 (display-im6) in auto mode\n",
      "update-alternatives: using /usr/bin/montage-im6.q16 to provide /usr/bin/montage (montage) in auto mode\n",
      "update-alternatives: using /usr/bin/montage-im6.q16 to provide /usr/bin/montage-im6 (montage-im6) in auto mode\n",
      "update-alternatives: using /usr/bin/mogrify-im6.q16 to provide /usr/bin/mogrify (mogrify) in auto mode\n",
      "update-alternatives: using /usr/bin/mogrify-im6.q16 to provide /usr/bin/mogrify-im6 (mogrify-im6) in auto mode\n",
      "Setting up texlive-font-utils (2017.20180305-2) ...\n",
      "Setting up libmagickcore-6.q16-3-extra:amd64 (8:6.9.7.4+dfsg-16ubuntu6.7) ...\n",
      "Setting up imagemagick (8:6.9.7.4+dfsg-16ubuntu6.7) ...\n",
      "Setting up texlive-pstricks (2017.20180305-2) ...\n",
      "Setting up asymptote (2.41-4) ...\n",
      "Setting up ruby2.5 (2.5.1-1ubuntu1.5) ...\n",
      "Setting up ruby (1:2.5.1) ...\n",
      "Setting up ruby-test-unit (3.2.5-1) ...\n",
      "Setting up rake (12.3.1-1) ...\n",
      "Setting up libruby2.5:amd64 (2.5.1-1ubuntu1.5) ...\n",
      "Processing triggers for libc-bin (2.27-3ubuntu1) ...\n",
      "Processing triggers for tex-common (6.09) ...\n",
      "Running updmap-sys. This may take some time... done.\n",
      "Running mktexlsr /var/lib/texmf ... done.\n",
      "Building format(s) --all.\n",
      "\tThis may take some time... done.\n"
     ]
    }
   ],
   "source": [
    "!apt-get update && apt-get -qq install -y ginac-tools asymptote libboost-python1.65.1 libpython3.6 "
   ]
  },
  {
   "cell_type": "markdown",
   "metadata": {
    "colab_type": "text",
    "ein.tags": "worksheet-0",
    "id": "S7Jmogbbxzub",
    "slideshow": {
     "slide_type": "-"
    }
   },
   "source": [
    "Then we download the custom binary packages with MoebInv library and Python wrapper for GiNac and MoebInv. This script will update your installation to the current version if you had the libraries already installed.\n",
    "\n",
    "Please report any issues to me (kisilv@maths.leeds.ac.uk)."
   ]
  },
  {
   "cell_type": "code",
   "execution_count": 0,
   "metadata": {
    "autoscroll": false,
    "colab": {
     "base_uri": "https://localhost:8080/",
     "height": 833
    },
    "colab_type": "code",
    "collapsed": false,
    "ein.hycell": false,
    "ein.tags": "worksheet-0",
    "id": "n05y2mrOzVFz",
    "outputId": "69513d13-b122-410d-87b4-d1094e6dfedf",
    "slideshow": {
     "slide_type": "-"
    }
   },
   "outputs": [
    {
     "name": "stdout",
     "output_type": "stream",
     "text": [
      "Selecting previously unselected package libmoebinv0:amd64.\n",
      "(Reading database ... 150665 files and directories currently installed.)\n",
      "Preparing to unpack libmoebinv0_3.5.0-1_amd64.deb ...\n",
      "Unpacking libmoebinv0:amd64 (3.5.0-1) ...\n",
      "Setting up libmoebinv0:amd64 (3.5.0-1) ...\n",
      "Processing triggers for man-db (2.8.3-2ubuntu0.1) ...\n",
      "./\n",
      "./usr/\n",
      "./usr/bin/\n",
      "./usr/bin/moebinv-uninstall.sh\n",
      "./usr/lib/\n",
      "./usr/lib/python3.7/\n",
      "./usr/lib/python3.7/cfigure.so\n",
      "./usr/lib/python3.7/ccycle.so\n",
      "./usr/lib/python3.7/cycle/\n",
      "./usr/lib/python3.7/cycle/__pycache__/\n",
      "./usr/lib/python3.7/cycle/__pycache__/__init__.cpython-37.pyc\n",
      "./usr/lib/python3.7/cycle/__init__.py\n",
      "./usr/lib/python3.7/cginac.so\n",
      "./usr/lib/python3.7/figure/\n",
      "./usr/lib/python3.7/figure/__pycache__/\n",
      "./usr/lib/python3.7/figure/__pycache__/__init__.cpython-37.pyc\n",
      "./usr/lib/python3.7/figure/figure_ipython.py\n",
      "./usr/lib/python3.7/figure/__init__.py\n",
      "./usr/lib/python3.6/\n",
      "./usr/lib/python3.6/cfigure.so\n",
      "./usr/lib/python3.6/ccycle.so\n",
      "./usr/lib/python3.6/cycle\n",
      "./usr/lib/python3.6/cginac.so\n",
      "./usr/lib/python3.6/figure\n",
      "./usr/lib/cfigure.so\n",
      "./usr/lib/ccycle.so\n",
      "./usr/lib/cginac.so\n"
     ]
    },
    {
     "name": "stderr",
     "output_type": "stream",
     "text": [
      "  % Total    % Received % Xferd  Average Speed   Time    Time     Time  Current\n",
      "                                 Dload  Upload   Total   Spent    Left  Speed\n",
      "\r",
      "  0     0    0     0    0     0      0      0 --:--:-- --:--:-- --:--:--     0\r",
      "  0     0    0     0    0     0      0      0 --:--:-- --:--:-- --:--:--     0\r",
      "100 17944  100 17944    0     0  35392      0 --:--:-- --:--:-- --:--:-- 35392\n",
      "\r",
      "100 17931  100 17931    0     0  26024      0 --:--:-- --:--:-- --:--:-- 26024\n",
      "\r",
      "100 18005  100 18005    0     0  22064      0 --:--:-- --:--:-- --:--:-- 22064\n",
      "\r",
      "  0     0    0     0    0     0      0      0 --:--:--  0:00:01 --:--:--     0\r",
      "100   365  100   365    0     0    306      0  0:00:01  0:00:01 --:--:-- 22812\n",
      "\r",
      "  0     0    0     0    0     0      0      0 --:--:--  0:00:02 --:--:--     0\r",
      " 98  406k   98  399k    0     0   128k      0  0:00:03  0:00:03 --:--:--  872k\r",
      "100  406k  100  406k    0     0   130k      0  0:00:03  0:00:03 --:--:--  886k\n",
      "bash: line 2:  : command not found\n",
      "  % Total    % Received % Xferd  Average Speed   Time    Time     Time  Current\n",
      "                                 Dload  Upload   Total   Spent    Left  Speed\n",
      "\r",
      "  0     0    0     0    0     0      0      0 --:--:-- --:--:-- --:--:--     0\r",
      "  0     0    0     0    0     0      0      0 --:--:-- --:--:-- --:--:--     0\r",
      "100 17898  100 17898    0     0  40493      0 --:--:-- --:--:-- --:--:-- 40401\n",
      "\r",
      "100 17885  100 17885    0     0  30313      0 --:--:-- --:--:-- --:--:-- 30313\n",
      "\r",
      "100 17964  100 17964    0     0  21695      0 --:--:-- --:--:-- --:--:-- 21695\n",
      "\r",
      "  0     0    0     0    0     0      0      0 --:--:--  0:00:01 --:--:--     0\r",
      "100   323  100   323    0     0    273      0  0:00:01  0:00:01 --:--:--  3166\n",
      "\r",
      "  9 9182k    9  842k    0     0   411k      0  0:00:22  0:00:02  0:00:20  411k\r",
      " 55 9182k   55 5129k    0     0  1689k      0  0:00:05  0:00:03  0:00:02 4334k\r",
      "100 9182k  100 9182k    0     0  2459k      0  0:00:03  0:00:03 --:--:-- 4946k\n"
     ]
    }
   ],
   "source": [
    "%%bash\n",
    "CURREN_MOEBINV=libmoebinv0_3.5.0-1_amd64.deb\n",
    "curl -LO https://sourceforge.net/projects/moebinv/files/binary/debian/$CURREN_MOEBINV; \\ \n",
    "dpkg -i $CURREN_MOEBINV && rm $CURREN_MOEBINV ; \\\n",
    "\n",
    "# remove the an installed version of the Python wrapper \n",
    "if [ -f /usr/bin/moebinv-uninstall.sh ]; then \\ \n",
    "  /usr/bin/moebinv-uninstall.sh ; \\\n",
    "fi \n",
    "curl -L https://sourceforge.net/projects/moebinv/files/binary/pymoebinv.tbz | tar jvx --directory=/"
   ]
  },
  {
   "cell_type": "markdown",
   "metadata": {
    "colab_type": "text",
    "ein.tags": "worksheet-0",
    "id": "6Q5O2NjxJcWD",
    "slideshow": {
     "slide_type": "-"
    }
   },
   "source": [
    "You can cleanly uninstall the above software at any time as explained in the section [Uninstallation](https://colab.research.google.com/drive/1L8kURF-zOnwdcrZRDhLKCItWcUJFQSuv#scrollTo=uZY86q85GKr6&line=3&uniqifier=1) below."
   ]
  },
  {
   "cell_type": "markdown",
   "metadata": {
    "colab_type": "text",
    "ein.tags": "worksheet-0",
    "id": "SgAS2vAlyLrt",
    "slideshow": {
     "slide_type": "-"
    }
   },
   "source": [
    "## Using the library"
   ]
  },
  {
   "cell_type": "markdown",
   "metadata": {
    "colab_type": "text",
    "ein.tags": "worksheet-0",
    "id": "0sR0bObBxMp8",
    "slideshow": {
     "slide_type": "-"
    }
   },
   "source": [
    "Once everything is installed we can use MoebInv. To start, we need to load and initialise respective libraries."
   ]
  },
  {
   "cell_type": "code",
   "execution_count": 0,
   "metadata": {
    "autoscroll": false,
    "colab": null,
    "colab_type": "code",
    "collapsed": false,
    "ein.hycell": false,
    "ein.tags": "worksheet-0",
    "id": "mvDejYWQxMqA",
    "slideshow": {
     "slide_type": "-"
    }
   },
   "outputs": [],
   "source": [
    "from figure import *\n",
    "# If you do not want to use additioanl IPython magic then comment the next line\n",
    "%load_ext figure\n",
    "from IPython.display import Image\n",
    "show_asy_off()"
   ]
  },
  {
   "cell_type": "markdown",
   "metadata": {
    "colab_type": "text",
    "ein.tags": "worksheet-0",
    "id": "ZHuv157BxMqM",
    "slideshow": {
     "slide_type": "-"
    }
   },
   "source": [
    "Now we initialise the figure $F$ with a default Euclidean metric."
   ]
  },
  {
   "cell_type": "code",
   "execution_count": 0,
   "metadata": {
    "autoscroll": false,
    "colab": null,
    "colab_type": "code",
    "collapsed": false,
    "ein.hycell": false,
    "ein.tags": "worksheet-0",
    "id": "xg2SNUOkxMqO",
    "slideshow": {
     "slide_type": "-"
    }
   },
   "outputs": [],
   "source": [
    "F=figure()"
   ]
  },
  {
   "cell_type": "markdown",
   "metadata": {
    "colab_type": "text",
    "ein.tags": "worksheet-0",
    "id": "E_IL74JBxMqV",
    "slideshow": {
     "slide_type": "-"
    }
   },
   "source": [
    "We add two points $A$ and $B$ to the figure providing their explicit coordinates."
   ]
  },
  {
   "cell_type": "code",
   "execution_count": 0,
   "metadata": {
    "autoscroll": false,
    "colab": null,
    "colab_type": "code",
    "collapsed": false,
    "ein.hycell": false,
    "ein.tags": "worksheet-0",
    "id": "ufbyn7euxMqX",
    "slideshow": {
     "slide_type": "-"
    }
   },
   "outputs": [],
   "source": [
    "A=F.add_point([-.25,.7],\"A\")\n",
    "B=F.add_point([1,1],\"B\")"
   ]
  },
  {
   "cell_type": "markdown",
   "metadata": {
    "colab_type": "text",
    "ein.tags": "worksheet-0",
    "id": "nP0rqAllxMqc",
    "slideshow": {
     "slide_type": "-"
    }
   },
   "source": [
    "We add the Euclidean line $e$ passing $A$ and $B$: it is orthogonal to these to points as well as the infinity $\\infty$."
   ]
  },
  {
   "cell_type": "code",
   "execution_count": 0,
   "metadata": {
    "autoscroll": false,
    "colab": null,
    "colab_type": "code",
    "collapsed": false,
    "ein.hycell": false,
    "ein.tags": "worksheet-0",
    "id": "XlEgS6JlxMqd",
    "slideshow": {
     "slide_type": "-"
    }
   },
   "outputs": [],
   "source": [
    "e=F.add_cycle_rel([is_orthogonal(A),is_orthogonal(B),is_orthogonal(F.get_infinity())],\"e\")"
   ]
  },
  {
   "cell_type": "markdown",
   "metadata": {
    "colab_type": "text",
    "ein.tags": "worksheet-0",
    "id": "z9_nQPDXxMqh",
    "slideshow": {
     "slide_type": "-"
    }
   },
   "source": [
    "The Lobachevsky line $l$ is similarly defined, but it is orthogonal to the real line $\\mathbb{R}$ rather than $\\infty$."
   ]
  },
  {
   "cell_type": "code",
   "execution_count": 0,
   "metadata": {
    "autoscroll": false,
    "colab": null,
    "colab_type": "code",
    "collapsed": false,
    "ein.hycell": false,
    "ein.tags": "worksheet-0",
    "id": "vboY1Li7xMqj",
    "slideshow": {
     "slide_type": "-"
    }
   },
   "outputs": [],
   "source": [
    "l=F.add_cycle_rel([is_orthogonal(A),is_orthogonal(B),is_orthogonal(F.get_real_line())],\"l\")"
   ]
  },
  {
   "cell_type": "markdown",
   "metadata": {
    "colab_type": "text",
    "ein.tags": "worksheet-0",
    "id": "mpBmiiYgxMqm",
    "slideshow": {
     "slide_type": "-"
    }
   },
   "source": [
    "Now we draw the picture."
   ]
  },
  {
   "cell_type": "code",
   "execution_count": 0,
   "metadata": {
    "autoscroll": false,
    "colab": {
     "base_uri": "https://localhost:8080/",
     "height": 275
    },
    "colab_type": "code",
    "collapsed": false,
    "ein.hycell": false,
    "ein.tags": "worksheet-0",
    "id": "xJz9j-SBxMqo",
    "outputId": "05f4efb6-a750-4e4f-8d02-1475bf482bb1",
    "slideshow": {
     "slide_type": "-"
    }
   },
   "outputs": [
    {
     "data": {
      "image/png": "[encoded data removed]",
      "text/plain": [
       "<IPython.core.display.Image object>"
      ]
     },
     "execution_count": 9,
     "metadata": {
      "tags": null
     },
     "output_type": "execute_result"
    }
   ],
   "source": [
    "F.asy_write(300,-.7,2,-2,2,\"euclid_and_lobachevsky\",\"png\")\n",
    "Image(\"euclid_and_lobachevsky.png\")"
   ]
  },
  {
   "cell_type": "markdown",
   "metadata": {
    "colab_type": "text",
    "ein.tags": "worksheet-0",
    "id": "aITeqTPo22zj",
    "slideshow": {
     "slide_type": "-"
    }
   },
   "source": [
    "The same effect can be achived in one line with IPython Magic"
   ]
  },
  {
   "cell_type": "code",
   "execution_count": 0,
   "metadata": {
    "autoscroll": false,
    "colab": {
     "base_uri": "https://localhost:8080/",
     "height": 275
    },
    "colab_type": "code",
    "collapsed": false,
    "ein.hycell": false,
    "ein.tags": "worksheet-0",
    "id": "TWfzwXUP3CxX",
    "outputId": "cbddba8a-89a5-44ae-b88d-df8f737cab8f",
    "slideshow": {
     "slide_type": "-"
    }
   },
   "outputs": [
    {
     "data": {
      "image/png": "[encoded data removed]",
      "text/plain": [
       "<IPython.core.display.Image object>"
      ]
     },
     "execution_count": 10,
     "metadata": {
      "tags": null
     },
     "output_type": "execute_result"
    }
   ],
   "source": [
    "%asy_write(F, 300,-.7,2,-2,2,\"euclid_and_lobachevsky\")"
   ]
  },
  {
   "cell_type": "markdown",
   "metadata": {
    "colab_type": "text",
    "ein.tags": "worksheet-0",
    "id": "uZY86q85GKr6",
    "slideshow": {
     "slide_type": "-"
    }
   },
   "source": [
    "## Uninstalation\n",
    "\n",
    "If you do not need MoebInv anymore and want to uninstall it then execute the following cell."
   ]
  },
  {
   "cell_type": "code",
   "execution_count": 0,
   "metadata": {
    "autoscroll": false,
    "colab": {
     "base_uri": "https://localhost:8080/",
     "height": 425
    },
    "colab_type": "code",
    "collapsed": false,
    "ein.hycell": false,
    "ein.tags": "worksheet-0",
    "id": "KimER0u8G69B",
    "outputId": "72262da5-5f74-4a16-8a9f-ffe49247c0da",
    "slideshow": {
     "slide_type": "-"
    }
   },
   "outputs": [
    {
     "name": "stdout",
     "output_type": "stream",
     "text": [
      "(Reading database ... \r",
      "(Reading database ... 5%\r",
      "(Reading database ... 10%\r",
      "(Reading database ... 15%\r",
      "(Reading database ... 20%\r",
      "(Reading database ... 25%\r",
      "(Reading database ... 30%\r",
      "(Reading database ... 35%\r",
      "(Reading database ... 40%\r",
      "(Reading database ... 45%\r",
      "(Reading database ... 50%\r",
      "(Reading database ... 55%\r",
      "(Reading database ... 60%\r",
      "(Reading database ... 65%\r",
      "(Reading database ... 70%\r",
      "(Reading database ... 75%\r",
      "(Reading database ... 80%\r",
      "(Reading database ... 85%\r",
      "(Reading database ... 90%\r",
      "(Reading database ... 95%\r",
      "(Reading database ... 100%\r",
      "(Reading database ... 150456 files and directories currently installed.)\n",
      "Removing libmoebinv0:amd64 (3.4.4-1) ...\n",
      "Processing triggers for man-db (2.8.3-2ubuntu0.1) ...\n",
      "Uninstalling MoebInv Python wrapper...\n",
      "removed '/usr/lib/cfigure.so'\n",
      "removed '/usr/lib/ccycle.so'\n",
      "removed '/usr/lib/cginac.so'\n",
      "removed '/usr/lib/python3.7/cfigure.so'\n",
      "removed '/usr/lib/python3.7/ccycle.so'\n",
      "removed '/usr/lib/python3.7/cginac.so'\n",
      "removed '/usr/lib/python3.7/cycle/__init__.py'\n",
      "removed '/usr/lib/python3.7/cycle/__pycache__/__init__.cpython-37.pyc'\n",
      "removed directory '/usr/lib/python3.7/cycle/__pycache__'\n",
      "removed directory '/usr/lib/python3.7/cycle/'\n",
      "removed '/usr/lib/python3.7/figure/__init__.py'\n",
      "removed '/usr/lib/python3.7/figure/__pycache__/__init__.cpython-36.pyc'\n",
      "removed '/usr/lib/python3.7/figure/__pycache__/__init__.cpython-37.pyc'\n",
      "removed directory '/usr/lib/python3.7/figure/__pycache__'\n",
      "removed directory '/usr/lib/python3.7/figure/'\n",
      "removed '/usr/lib/python3.6/cfigure.so'\n",
      "removed '/usr/lib/python3.6/ccycle.so'\n",
      "removed '/usr/lib/python3.6/cginac.so'\n",
      "removed '/usr/bin/moebinv-uninstall.sh'\n",
      "MoebInv Python wrapper uninstalled\n"
     ]
    }
   ],
   "source": [
    "!apt-get -qq remove -y libmoebinv0\n",
    "!/usr/bin/moebinv-uninstall.sh"
   ]
  },
  {
   "cell_type": "markdown",
   "metadata": {
    "colab_type": "text",
    "ein.tags": "worksheet-0",
    "id": "bGwu-hvuM2Yd",
    "slideshow": {
     "slide_type": "-"
    }
   },
   "source": [
    "You can also optionally delete all or some standard packages installed above:"
   ]
  },
  {
   "cell_type": "code",
   "execution_count": 0,
   "metadata": {
    "autoscroll": false,
    "colab": {
     "base_uri": "https://localhost:8080/",
     "height": 170
    },
    "colab_type": "code",
    "collapsed": false,
    "ein.hycell": false,
    "ein.tags": "worksheet-0",
    "id": "OjB0-GI-NAao",
    "outputId": "b431ca10-f935-4873-f699-2921fea6ea9d",
    "slideshow": {
     "slide_type": "-"
    }
   },
   "outputs": [
    {
     "name": "stdout",
     "output_type": "stream",
     "text": [
      "(Reading database ... \r",
      "(Reading database ... 5%\r",
      "(Reading database ... 10%\r",
      "(Reading database ... 15%\r",
      "(Reading database ... 20%\r",
      "(Reading database ... 25%\r",
      "(Reading database ... 30%\r",
      "(Reading database ... 35%\r",
      "(Reading database ... 40%\r",
      "(Reading database ... 45%\r",
      "(Reading database ... 50%\r",
      "(Reading database ... 55%\r",
      "(Reading database ... 60%\r",
      "(Reading database ... 65%\r",
      "(Reading database ... 70%\r",
      "(Reading database ... 75%\r",
      "(Reading database ... 80%\r",
      "(Reading database ... 85%\r",
      "(Reading database ... 90%\r",
      "(Reading database ... 95%\r",
      "(Reading database ... 100%\r",
      "(Reading database ... 150456 files and directories currently installed.)\n",
      "Removing asymptote (2.41-4) ...\n",
      "Removing ginac-tools (1.7.4-1) ...\n",
      "Removing libboost-python1.65.1 (1.65.1+dfsg-0ubuntu5) ...\n",
      "Removing libpython3.6:amd64 (3.6.8-1~18.04.1) ...\n",
      "Processing triggers for tex-common (6.09) ...\n",
      "Running mktexlsr. This may take some time... done.\n",
      "Processing triggers for libc-bin (2.27-3ubuntu1) ...\n",
      "Processing triggers for man-db (2.8.3-2ubuntu0.1) ...\n"
     ]
    }
   ],
   "source": [
    "!apt-get -qq remove -y ginac-tools asymptote libboost-python1.65.1 libpython3.6"
   ]
  },
  {
   "cell_type": "markdown",
   "metadata": {
    "colab_type": "text",
    "ein.tags": "worksheet-0",
    "id": "Gy-sbPls5Ait",
    "slideshow": {
     "slide_type": "-"
    }
   },
   "source": [
    "## Further info:\n",
    "* [MoebInv library full documentation](https://sourceforge.net/projects/moebinv/files/docs/figure.pdf)\n",
    "* [MoebInv Home page](http://moebinv.sourceforge.net/)\n",
    "* [MoebInv CoLab Notebooks](https://colab.research.google.com/github/vvkisil/MoebInv-notebooks/blob/master/Table%20of%20contents.ipynb)\n",
    "* [MoebInv CodeOcean capsule](https://codeocean.com/capsule/7952650/tree)"
   ]
  }
 ],
 "metadata": {
  "colab": {
   "collapsed_sections": null,
   "include_colab_link": true,
   "name": "Euclidean and Lobachevsky lines.ipynb",
   "provenance": null,
   "version": "0.3.2"
  },
  "kernelspec": {
   "argv": [
    "/usr/bin/python3",
    "-m",
    "ipykernel_launcher",
    "-f",
    "{connection_file}"
   ],
   "display_name": "Python 3",
   "env": null,
   "interrupt_mode": "signal",
   "language": "python",
   "metadata": null,
   "name": "python3"
  },
  "language_info": {
   "codemirror_mode": {
    "name": "ipython",
    "version": 3
   },
   "file_extension": ".py",
   "mimetype": "text/x-python",
   "name": "python",
   "nbconvert_exporter": "python",
   "pygments_lexer": "ipython3",
   "version": "3.7.4"
  },
  "name": "Euclidean_and_Lobachevsky_lines.ipynb"
 },
 "nbformat": 4,
 "nbformat_minor": 0
}
