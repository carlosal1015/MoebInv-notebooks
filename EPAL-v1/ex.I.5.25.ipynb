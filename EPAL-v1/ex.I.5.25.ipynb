{
 "cells": [
  {
   "cell_type": "markdown",
   "metadata": {},
   "source": [
    "<table style=\"width:100%\">\n",
    "    <tr>\n",
    "        <td>\n",
    "            <a href=\"http://www1.maths.leeds.ac.uk/~kisilv/MoebInv-notebooks/EPAL-v1/ex.I.5.25.html\">\n",
    "  <img src=\"../svg/view-html.svg\" alt=\"Open In Colab\"/>\n",
    "            </a>\n",
    "        </td>\n",
    "        <td>\n",
    "<a href=\"https://github.com/vvkisil/MoebInv-notebooks/blob/master/EPAL-v1/ex.I.5.25.ipynb\">\n",
    "  <img src=\"../svg/open-github.svg\" alt=\"Open In Colab\"/>\n",
    "            </a>\n",
    "        </td>\n",
    "        <td>\n",
    "            <a href=\"https://colab.research.google.com/github/vvkisil/MoebInv-notebooks/blob/master/EPAL-v1/ex.I.5.25.ipynb\">\n",
    "  <img src=\"../svg/exec-colab.svg\" alt=\"Open In Colab\"/>\n",
    "            </a>\n",
    "        </td>\n",
    "        <td>\n",
    "            <a href=\"https://codeocean.com/capsule/7952650/tree\">\n",
    "  <img src=\"../svg/code-ocean.svg\" alt=\"Code Ocean\"/>\n",
    "            </a>\n",
    "        </td>\n",
    "    </tr>\n",
    " </table>\n",
    "\n",
    "<a  align=\"center\" href=\"https://colab.research.google.com/github/vvkisil/MoebInv-notebooks/blob/master/Introduction/Software_installation_GUI_integration.ipynb\">Google CoLab software installation</a>\n"
   ]
  },
  {
   "cell_type": "markdown",
   "metadata": {
    "ein.tags": "worksheet-0",
    "slideshow": {
     "slide_type": "-"
    }
   },
   "source": [
    "# Types of the Cauchy-Schwartz inequality is inherited by the linear span in Krein spaces\n",
    "\n",
    "**Exercise I.5.25**\n",
    "  *Let two vectors $x$ and $y$ in an indefinite product space\n",
    "  satisfy either of the inequalities:\n",
    "  \\begin{equation}\n",
    "  \\newcommand{\\scalar}[2]{\\langle #1, #2 \\rangle}\n",
    "      \\scalar{x}{y}\\scalar{y}{x}  < \\scalar{x}{x}\n",
    "      \\scalar{y}{y}\\qquad\\text{or}\\qquad\n",
    "        \\scalar{x}{y}\\scalar{y}{x} > \\scalar{x}{x} \\scalar{y}{y}.\n",
    "  \\end{equation}\n",
    "  Then, any two non-collinear vectors $z$ and $w$ from the real linear span of\n",
    "  $x$ and $y$ satisfy the corresponding inequality:\n",
    "  \\begin{equation}\n",
    "      \\scalar{z}{w}\\scalar{w}{z}  < \\scalar{z}{z}\n",
    "      \\scalar{w}{w}\\qquad\\text{or}\\qquad\n",
    "        \\scalar{z}{w}\\scalar{w}{z}  > \\scalar{z}{z}\n",
    "      \\scalar{w}{w}.\n",
    "  \\end{equation}\n",
    "  The equality $\\scalar{x}{y}\\scalar{y}{x} = \\scalar{x}{x}\n",
    "  \\scalar{y}{y}$ always implies $\\scalar{z}{w}\\scalar{w}{z} =\n",
    "  \\scalar{z}{z} \\scalar{w}{w}$.*"
   ]
  },
  {
   "cell_type": "markdown",
   "metadata": {
    "ein.tags": "worksheet-0",
    "slideshow": {
     "slide_type": "-"
    }
   },
   "source": [
    "**Solution.** Only GiNaC is required for this exercise."
   ]
  },
  {
   "cell_type": "code",
   "execution_count": null,
   "metadata": {
    "autoscroll": false,
    "collapsed": false,
    "ein.hycell": false,
    "ein.tags": "worksheet-0",
    "slideshow": {
     "slide_type": "-"
    }
   },
   "outputs": [],
   "source": [
    "from cycle import *"
   ]
  },
  {
   "cell_type": "markdown",
   "metadata": {
    "ein.tags": "worksheet-0",
    "slideshow": {
     "slide_type": "-"
    }
   },
   "source": [
    " We define basic variables and elements of the linear spans."
   ]
  },
  {
   "cell_type": "code",
   "execution_count": null,
   "metadata": {
    "autoscroll": false,
    "collapsed": false,
    "ein.hycell": false,
    "ein.tags": "worksheet-0",
    "slideshow": {
     "slide_type": "-"
    }
   },
   "outputs": [],
   "source": [
    "A=realsymbol(\"A\")\n",
    "B=realsymbol(\"B\")\n",
    "t=realsymbol(\"t\")\n",
    "s=realsymbol(\"s\")\n",
    "E1=t*A+(1-t)*B # First linear span \n",
    "E2=s*A+(1-s)*B # Second linear span"
   ]
  },
  {
   "cell_type": "markdown",
   "metadata": {
    "ein.tags": "worksheet-0",
    "slideshow": {
     "slide_type": "-"
    }
   },
   "source": [
    "The following symbols will be used in the substitutions:"
   ]
  },
  {
   "cell_type": "markdown",
   "metadata": {
    "ein.tags": "worksheet-0",
    "slideshow": {
     "slide_type": "-"
    }
   },
   "source": [
    "We make E1*E2 with the replacement for indefinite products"
   ]
  },
  {
   "cell_type": "code",
   "execution_count": null,
   "metadata": {
    "autoscroll": false,
    "collapsed": false,
    "ein.hycell": false,
    "ein.tags": "worksheet-0",
    "slideshow": {
     "slide_type": "-"
    }
   },
   "outputs": [],
   "source": [
    "A2=realsymbol(\"<A,A>\", \"\\\\langle A,A\\\\rangle\") # represents indefinite product <A,A>\n",
    "B2=realsymbol(\"<B,B>\", \"\\\\langle B,B\\\\rangle\") # represents indefinite product <B,B>\n",
    "AB=realsymbol(\"<A,B>\", \"\\\\langle A,B\\\\rangle\") # represents indefinite product <A,B>\n",
    "A2xB2=realsymbol(\"<A,A>*<B,B>\", \"\\\\langle A,A\\\\rangle \\\\langle B,B\\\\rangle\") # represents product <A,A><B,B>\n",
    "t=realsymbol(\"t\")\n",
    "s=realsymbol(\"s\")\n"
   ]
  },
  {
   "cell_type": "markdown",
   "metadata": {
    "ein.tags": "worksheet-0",
    "slideshow": {
     "slide_type": "-"
    }
   },
   "source": [
    "Second copy of E1*E1 with the replacement for indefinite products"
   ]
  },
  {
   "cell_type": "code",
   "execution_count": null,
   "metadata": {
    "autoscroll": false,
    "collapsed": false,
    "ein.hycell": false,
    "ein.tags": "worksheet-0",
    "slideshow": {
     "slide_type": "-"
    }
   },
   "outputs": [],
   "source": [
    "Pr1=(E1*E2).expand().subs([A*A==A2,B*B==B2]).subs(A*B==AB,subs_options.algebraic)\n",
    "Latex(f\"{Pr1}\")"
   ]
  },
  {
   "cell_type": "code",
   "execution_count": null,
   "metadata": {
    "autoscroll": false,
    "collapsed": false,
    "ein.hycell": false,
    "ein.tags": "worksheet-0",
    "slideshow": {
     "slide_type": "-"
    }
   },
   "outputs": [],
   "source": [
    "Pr2=(E1*E1).expand().subs([A*A==A2,B*B==B2]).subs(A*B==AB,subs_options.algebraic)\n",
    "Latex(f\"{Pr2}\")"
   ]
  },
  {
   "cell_type": "markdown",
   "metadata": {
    "ein.tags": "worksheet-0",
    "slideshow": {
     "slide_type": "-"
    }
   },
   "source": [
    "The third copy of E2*E2 with the replacement for indefinite products"
   ]
  },
  {
   "cell_type": "code",
   "execution_count": null,
   "metadata": {
    "autoscroll": false,
    "collapsed": false,
    "ein.hycell": false,
    "ein.tags": "worksheet-0",
    "slideshow": {
     "slide_type": "-"
    }
   },
   "outputs": [],
   "source": [
    "Pr3=(E2*E2).expand().subs([A*A==A2,B*B==B2]).subs(A*B==AB,subs_options.algebraic)\n",
    "Latex(f\"{Pr3}\")"
   ]
  },
  {
   "cell_type": "markdown",
   "metadata": {
    "ein.tags": "worksheet-0",
    "slideshow": {
     "slide_type": "-"
    }
   },
   "source": [
    "We output the result of calculations:"
   ]
  },
  {
   "cell_type": "code",
   "execution_count": null,
   "metadata": {
    "autoscroll": false,
    "collapsed": false,
    "ein.hycell": false,
    "ein.tags": "worksheet-0",
    "slideshow": {
     "slide_type": "-"
    }
   },
   "outputs": [],
   "source": [
    "display(Latex(f\"for vectors $E_1={E1}$ and $E_2={E2}$ we have\"))\n",
    "display(Latex(r\"$\\langle E_1,E_2\\rangle \\langle E_2,E_1\\rangle - \\langle E_1,E_1\\rangle \\langle E_2,E_2\\rangle =$\"\n",
    "f\"${((Pr1*Pr1-Pr2*Pr3).expand().normal().subs(A2*B2==A2xB2,subs_options.algebraic)).collect(AB).collect(A2xB2)}$\"))"
   ]
  },
  {
   "cell_type": "markdown",
   "metadata": {
    "ein.tags": "worksheet-0",
    "slideshow": {
     "slide_type": "-"
    }
   },
   "source": [
    "Thus, the sign of $ \\newcommand{\\scalar}[2]{\\langle #1, #2 \\rangle}\n",
    "\\scalar{E_1}{E_2}\\scalar{E_2}{E_1}  - \\scalar{E_1}{E_1} \\scalar{E_2}{E_2} $ \n",
    " is exactly the same as  $\\scalar{A}{B}\\scalar{B}{A}  - \\scalar{A}{A} \\scalar{B}{B}$."
   ]
  },
  {
   "cell_type": "markdown",
   "metadata": {},
   "source": [
    "\n",
    "This notebook is a part of the *MoebInv notebooks* project [ [2] ](#[2]).\n",
    "\n",
    "### References\n",
    "<a id=\"references\"></a>\n",
    "<a id=\"[1]\"></a>\n",
    "1. Vladimir V. Kisil. *Geometry of Möbius Transformations: Elliptic, Parabolic and Hyperbolic Actions of $SL_2(\\mathbb{R})$*. [Imperial College Press](https://www.worldscientific.com/worldscibooks/10.1142/p835), London, 2012. Includes a live DVD.\n",
    "\n",
    "   <a id=\"[2]\"></a>\n",
    "2.  Vladimir V. Kisil, [*MoebInv notebooks*](https://github.com/vvkisil/MoebInv-notebooks), 2019.\n",
    "\n",
    "[Back to Folder](https://github.com/vvkisil/MoebInv-notebooks/blob/master/EPAL-v1/)\n"
   ]
  }
 ],
 "metadata": {
  "kernelspec": {
   "argv": [
    "/usr/bin/python3",
    "-m",
    "ipykernel_launcher",
    "-f",
    "{connection_file}"
   ],
   "display_name": "Python 3",
   "env": null,
   "interrupt_mode": "signal",
   "language": "python",
   "metadata": null,
   "name": "python3"
  },
  "language_info": {
   "codemirror_mode": {
    "name": "ipython",
    "version": 3
   },
   "file_extension": ".py",
   "mimetype": "text/x-python",
   "name": "python",
   "nbconvert_exporter": "python",
   "pygments_lexer": "ipython3",
   "version": "3.7.4+"
  },
  "name": "ex-cauchy-schwartz.ipynb"
 },
 "nbformat": 4,
 "nbformat_minor": 2
}
