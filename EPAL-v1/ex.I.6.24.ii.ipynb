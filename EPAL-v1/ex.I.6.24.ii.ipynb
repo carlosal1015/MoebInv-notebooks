{
 "cells": [
  {
   "cell_type": "markdown",
   "metadata": {},
   "source": [
    "<table style=\"width:100%\">\n",
    "    <tr>\n",
    "        <td>\n",
    "            <a href=\"http://www1.maths.leeds.ac.uk/~kisilv/MoebInv-notebooks/EPAL-v1/ex.I.6.24.ii.html\">\n",
    "  <img src=\"../svg/view-html.svg\" alt=\"Open In Colab\"/>\n",
    "            </a>\n",
    "        </td>\n",
    "        <td>\n",
    "<a href=\"https://github.com/vvkisil/MoebInv-notebooks/blob/master/EPAL-v1/ex.I.6.24.ii.ipynb\">\n",
    "  <img src=\"../svg/open-github.svg\" alt=\"Open In Colab\"/>\n",
    "            </a>\n",
    "        </td>\n",
    "        <td>\n",
    "            <a href=\"https://colab.research.google.com/github/vvkisil/MoebInv-notebooks/blob/master/EPAL-v1/ex.I.6.24.ii.ipynb\">\n",
    "  <img src=\"../svg/exec-colab.svg\" alt=\"Open In Colab\"/>\n",
    "            </a>\n",
    "        </td>\n",
    "        <td>\n",
    "            <a href=\"https://codeocean.com/capsule/7952650/tree\">\n",
    "  <img src=\"../svg/code-ocean.svg\" alt=\"Code Ocean\"/>\n",
    "            </a>\n",
    "        </td>\n",
    "    </tr>\n",
    " </table>\n",
    "\n",
    "<a  align=\"center\" href=\"https://colab.research.google.com/github/vvkisil/MoebInv-notebooks/blob/master/Introduction/Software_installation_GUI_integration.ipynb\">Google CoLab software installation</a>\n"
   ]
  },
  {
   "cell_type": "markdown",
   "metadata": {
    "ein.tags": "worksheet-0",
    "slideshow": {
     "slide_type": "-"
    }
   },
   "source": [
    "# Check that the image of zero-radius cycle is a zero-radius cycle\n",
    "\n",
    "**Exercise I.6.24.ii** [ [1] ](#[1]) \n",
    "$\n",
    "\\newcommand{\\Space}[3][]{\\mathbb{#2}^{#3}_{#1}}\n",
    "  \\newcommand{\\cycle}[3][]{{#1 C^{#2}_{#3}}}\n",
    "  \\newcommand{\\realline}[3][]{#1 R^{#2}_{#3}}\n",
    "  \\newcommand{\\bs}{\\breve{\\sigma}}\n",
    "  \\newcommand{\\zcycle}[3][]{#1 Z^{#2}_{#3}}\n",
    "  \\newcommand{\\SL}[1][2]{\\mathrm{SL}_{#1}(\\Space{R}{})}\n",
    "  \\newcommand{\\rs}{\\sigma_r}\n",
    "  \\newcommand{\\lvec}[1]{\\overrightarrow{#1}}\n",
    "$\n",
    "The image \n",
    "    $\\zcycle[\\tilde]{s}{\\sigma }=\\cycle{s_2}{\\sigma}\n",
    "    \\overline{\\zcycle{s_1}{\\sigma}}\\cycle{s_2}{\\sigma}$ of a\n",
    "    $\\sigma$-zero-radius cycle $\\zcycle[\\tilde]{s_1}{\\sigma}$\n",
    "    under the cycle similarity is a\n",
    "    $\\sigma$-zero-radius cycle $\\zcycle[\\tilde]{s_1}{\\sigma}$. The\n",
    "    $(s_1s_2)$-centre of $\\zcycle[\\tilde]{s}{\\bs}$ is the linear-fractional\n",
    "    transformation of the $(s_2/s_1)$-centre of\n",
    "    $\\zcycle{s}{\\bs}$."
   ]
  },
  {
   "cell_type": "markdown",
   "metadata": {
    "ein.tags": "worksheet-0",
    "slideshow": {
     "slide_type": "-"
    }
   },
   "source": [
    "**Solution** For the conjugated cycle `Zn` of a zero-radius cycle `Z` we check that that `Zn` is a zero-radius as well."
   ]
  },
  {
   "cell_type": "code",
   "execution_count": null,
   "metadata": {
    "autoscroll": false,
    "collapsed": false,
    "ein.hycell": false,
    "ein.tags": "worksheet-0",
    "slideshow": {
     "slide_type": "-"
    }
   },
   "outputs": [],
   "source": [
    "from init_cycle import *\n",
    "Zn=cycle2D(Z.cycle_similarity(C,e,sign_mat1,sign_mat2,pow(sign_mat1,-1).evalm()))\n",
    "print(\"Conjugation of a zero-radius cycle is a zero-radius cycle: %s\" % \\\n",
    "Zn.hdet(e,sign_mat1).normal().subs(pow(s1,2)==1,subs_options.algebraic)\\\n",
    ".normal().is_zero())"
   ]
  },
  {
   "cell_type": "markdown",
   "metadata": {
    "ein.tags": "worksheet-0",
    "slideshow": {
     "slide_type": "-"
    }
   },
   "source": [
    "`P` is the h-centre of the cycle `Z` and `PN`is its representation by a complex number. "
   ]
  },
  {
   "cell_type": "code",
   "execution_count": null,
   "metadata": {
    "autoscroll": false,
    "collapsed": false,
    "ein.hycell": false,
    "ein.tags": "worksheet-0",
    "slideshow": {
     "slide_type": "-"
    }
   },
   "outputs": [],
   "source": [
    "P=Z.center(diag_matrix([-1,1]))\n",
    "PN=P[0]+I*P[1]"
   ]
  },
  {
   "cell_type": "markdown",
   "metadata": {
    "ein.tags": "worksheet-0",
    "slideshow": {
     "slide_type": "-"
    }
   },
   "source": [
    "Then we calculate the library's `cycle::mooebius_map()` of  `PM` defined by FSCc matrix of a generic cycle `C`. It coincides with  the linear-fractional transformation defined by this matrix explicitly."
   ]
  },
  {
   "cell_type": "code",
   "execution_count": null,
   "metadata": {
    "autoscroll": false,
    "collapsed": false,
    "ein.hycell": false,
    "ein.tags": "worksheet-0",
    "slideshow": {
     "slide_type": "-"
    }
   },
   "outputs": [],
   "source": [
    "PM=C.moebius_map(P,e, (sign_mat*sign_mat1).evalm())\n",
    "print(\"Cycle generates Moebius map: %s\" %\\\n",
    "(PM[0]+I*PM[1]-((l+I*s*s1*n)*PN-m)/(k*PN+(-l+I*s*s1*n))).\\\n",
    "subs(sign==-1).normal().is_zero())"
   ]
  },
  {
   "cell_type": "markdown",
   "metadata": {
    "ein.tags": "worksheet-0",
    "slideshow": {
     "slide_type": "-"
    }
   },
   "source": [
    "Now, `Pc` is the $s_2 s_1$-centre of `Zn` and `Pc1` is the linear-fractional map defined by the cycle `C`. For vector and paravector formalism the sign in calculations need to be adjusted."
   ]
  },
  {
   "cell_type": "code",
   "execution_count": null,
   "metadata": {
    "autoscroll": false,
    "collapsed": false,
    "ein.hycell": false,
    "ein.tags": "worksheet-0",
    "slideshow": {
     "slide_type": "-"
    }
   },
   "outputs": [],
   "source": [
    "Pc=Zn.center(diag_matrix([-1,-s2*s1]))\n",
    "if (UseVectors):\n",
    "    Pc1=C.moebius_map(Z.center(diag_matrix([-1,-s2/s1])))\n",
    "else:\n",
    "    Pc1=C.moebius_map(Z.center(diag_matrix([-1,s2/s1])))"
   ]
  },
  {
   "cell_type": "markdown",
   "metadata": {
    "ein.tags": "worksheet-0",
    "slideshow": {
     "slide_type": "-"
    }
   },
   "source": [
    "Now we check the statement, that is `Pc` and `Pc1` are the same."
   ]
  },
  {
   "cell_type": "code",
   "execution_count": null,
   "metadata": {
    "autoscroll": false,
    "collapsed": false,
    "ein.hycell": false,
    "ein.tags": "worksheet-0",
    "slideshow": {
     "slide_type": "-"
    }
   },
   "outputs": [],
   "source": [
    "print(\"s1*s2-center of the similar cycle is the Moebius transformation of s2/s1-centre: %s\" % \\\n",
    "((Pc1[0]-Pc[0]).normal().subs(pow(s1,2)==1,subs_options.algebraic)\\\n",
    ".subs(pow(s2,2)==1,subs_options.algebraic).is_zero() and \\\n",
    "(Pc1[1]-Pc[1]).normal().subs(pow(s1,2)==1,subs_options.algebraic)\\\n",
    ".subs(pow(s2,2)==1,subs_options.algebraic).is_zero()))"
   ]
  },
  {
   "cell_type": "markdown",
   "metadata": {},
   "source": [
    "\n",
    "This notebook is a part of the *MoebInv notebooks* project [ [2] ](#[2]).\n",
    "\n",
    "### References\n",
    "<a id=\"references\"></a>\n",
    "<a id=\"[1]\"></a>\n",
    "1. Vladimir V. Kisil. *Geometry of Möbius Transformations: Elliptic, Parabolic and Hyperbolic Actions of $SL_2(\\mathbb{R})$*. [Imperial College Press](https://www.worldscientific.com/worldscibooks/10.1142/p835), London, 2012. Includes a live DVD.\n",
    "\n",
    "   <a id=\"[2]\"></a>\n",
    "2.  Vladimir V. Kisil, [*MoebInv notebooks*](https://github.com/vvkisil/MoebInv-notebooks), 2019.\n",
    "\n",
    "[Back to Folder](https://github.com/vvkisil/MoebInv-notebooks/blob/master/EPAL-v1/)\n"
   ]
  }
 ],
 "metadata": {
  "kernelspec": {
   "argv": [
    "/usr/bin/python3",
    "-m",
    "ipykernel_launcher",
    "-f",
    "{connection_file}"
   ],
   "display_name": "Python 3",
   "env": null,
   "interrupt_mode": "signal",
   "language": "python",
   "metadata": null,
   "name": "python3"
  },
  "language_info": {
   "codemirror_mode": {
    "name": "ipython",
    "version": 3
   },
   "file_extension": ".py",
   "mimetype": "text/x-python",
   "name": "python",
   "nbconvert_exporter": "python",
   "pygments_lexer": "ipython3",
   "version": "3.6.4"
  },
  "name": "ex-conj-zero-cycle.ipynb"
 },
 "nbformat": 4,
 "nbformat_minor": 2
}
