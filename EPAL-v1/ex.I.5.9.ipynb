{
 "cells": [
  {
   "cell_type": "markdown",
   "metadata": {},
   "source": [
    "<table style=\"width:100%\">\n",
    "    <tr>\n",
    "        <td>\n",
    "            <a href=\"http://www1.maths.leeds.ac.uk/~kisilv/MoebInv-notebooks/EPAL-v1/ex.I.5.9.html\">\n",
    "  <img src=\"../svg/view-html.svg\" alt=\"Open In Colab\"/>\n",
    "            </a>\n",
    "        </td>\n",
    "        <td>\n",
    "<a href=\"https://github.com/vvkisil/MoebInv-notebooks/blob/master/EPAL-v1/ex.I.5.9.ipynb\">\n",
    "  <img src=\"../svg/open-github.svg\" alt=\"Open In Colab\"/>\n",
    "            </a>\n",
    "        </td>\n",
    "        <td>\n",
    "            <a href=\"https://colab.research.google.com/github/vvkisil/MoebInv-notebooks/blob/master/EPAL-v1/ex.I.5.9.ipynb\">\n",
    "  <img src=\"../svg/exec-colab.svg\" alt=\"Open In Colab\"/>\n",
    "            </a>\n",
    "        </td>\n",
    "        <td>\n",
    "            <a href=\"https://codeocean.com/capsule/7952650/tree\">\n",
    "  <img src=\"../svg/code-ocean.svg\" alt=\"Code Ocean\"/>\n",
    "            </a>\n",
    "        </td>\n",
    "    </tr>\n",
    " </table>\n",
    "\n",
    "<a  align=\"center\" href=\"https://colab.research.google.com/github/vvkisil/MoebInv-notebooks/blob/master/Introduction/Software_installation_GUI_integration.ipynb\">Google CoLab software installation</a>\n"
   ]
  },
  {
   "cell_type": "markdown",
   "metadata": {
    "ein.tags": "worksheet-0",
    "slideshow": {
     "slide_type": "-"
    }
   },
   "source": [
    "# Various examples of pencils spanned by two cycles\n",
    "\n",
    "**Exercise I.5.9**\n",
    "  Investigate the following:\n",
    "1. What happens with an elliptic pencil if one of spanning\n",
    "    circles is imaginary?  Or if both spanning circles are imaginary?\n",
    "2. How does a pencil look if one spanning cycle is a straight\n",
    "    line?\n",
    "    \n",
    "    If both cycles are straight lines?\n",
    "3. A pair of circles is symmetric about the line joining their\n",
    "    centres. Thus, circular pencils look similar regardless of the\n",
    "    direction of this line of  centres. Our hyperbolas and parabolas have\n",
    "    a special orientation: their axes of symmetry are vertical. Thus,\n",
    "    a horizontal or vertical line joining the centres of two\n",
    "    hyperbolas/parabolas make a special arrangement. How do hyperbolic pencils look if\n",
    "    the line of centres is not horizontal? "
   ]
  },
  {
   "cell_type": "markdown",
   "metadata": {
    "ein.tags": "worksheet-0",
    "slideshow": {
     "slide_type": "-"
    }
   },
   "source": [
    "**Solution.** Initialisation come first"
   ]
  },
  {
   "cell_type": "code",
   "execution_count": null,
   "metadata": {
    "autoscroll": false,
    "collapsed": false,
    "ein.hycell": false,
    "ein.tags": "worksheet-0",
    "slideshow": {
     "slide_type": "-"
    }
   },
   "outputs": [],
   "source": [
    "from init_cycle import *\n",
    "A=asy()"
   ]
  },
  {
   "cell_type": "markdown",
   "metadata": {
    "ein.tags": "worksheet-0",
    "slideshow": {
     "slide_type": "-"
    }
   },
   "source": [
    "The procedure draws some representatives from the linear span of two cycles"
   ]
  },
  {
   "cell_type": "code",
   "execution_count": null,
   "metadata": {
    "autoscroll": false,
    "collapsed": false,
    "ein.hycell": false,
    "ein.tags": "worksheet-0",
    "slideshow": {
     "slide_type": "-"
    }
   },
   "outputs": [],
   "source": [
    "def makepencil(C2, C3, xmin, xmax, ymin, ymax, colour1, colour2, colour3,name):\n",
    "    N=5\n",
    "    A.erase()\n",
    "    A.send(\"picture ort;\")\n",
    "    A.send(\"erase(ort);\")\n",
    "    A.size(100)\n",
    "    A.send(\"size(ort,100);\")\n",
    "    A.send(C2.asy_string(xmin, xmax, ymin, ymax, colour1, \"1.5pt\"))\n",
    "    A.send(C3.asy_string(xmin, xmax, ymin, ymax, colour2, \"1.5pt\"))\n",
    "    A.send(C2.asy_string(\"ort\", xmin, xmax, ymin, ymax, [0,0,.8]))\n",
    "    A.send(C3.asy_string(\"ort\", xmin, xmax, ymin, ymax, [0,0,.8]))\n",
    "    \n",
    "    C0=C.subject_to([C2.is_orthogonal(C),C3.is_orthogonal(C),k==1]).subs(sign==C2.get_metric(1,1))\n",
    "    for i in range(N):\n",
    "        C4=cycle2D(C2.exmul(i+1)+C3.exmul(N-i))\n",
    "        A.send(C4.asy_string(xmin, xmax, ymin, ymax,\\\n",
    "        [colour1[0]*(i+1.0)/N+colour2[0]*(1.0-1.*i/N),\\\n",
    "        colour1[1]*(i+1.0)/N+colour2[1]*(1.0-1.*i/N),\\\n",
    "        colour1[2]*(i+1.0)/N+colour2[2]*(1.0-1.*i/N)]))\n",
    "        if (i== (i/2)*2): # Only even numbered cycles for the orthogonality figure\n",
    "            A.send(C4.asy_string(\"ort\",xmin, xmax, ymin, ymax, [0,0,.8]))\n",
    "        C4=cycle2D(C2.exmul(-pow(i+1.0,1.1))+C3)\n",
    "        A.send(C4.asy_string(xmin, xmax, ymin, ymax,\\\n",
    "        [colour3[0]*(i+1.0)/N+colour2[0]*(1.0-1.*i/N),\\\n",
    "        colour3[1]*(i+1.0)/N+colour2[1]*(1.0-1.*i/N),\\\n",
    "        colour3[2]*(i+1.0)/N+colour2[2]*(1.0-1.*i/N)]))\n",
    "        if (i== (i/2)*2): # Only even numbered cycles for the orthogonality figure\n",
    "            A.send(C4.asy_string(\"ort\",xmin, xmax, ymin, ymax, [0,0,.8]))\n",
    "        C4=C2+cycle2D(C3.exmul(-pow(i+1.0,1.1)))\n",
    "        A.send(C4.asy_string(xmin, xmax, ymin, ymax,\\\n",
    "        [colour3[0]*(i+1.0)/N+colour1[0]*(1.0-1.*i/N),\\\n",
    "        colour3[1]*(i+1.0)/N+colour1[1]*(1.0-1.*i/N),\\\n",
    "        colour3[2]*(i+1.0)/N+colour1[2]*(1.0-1.*i/N)]))\n",
    "        if (i== (i/2)*2): # Only even numbered cycles for the orthogonality figure\n",
    "            A.send(C4.asy_string(\"ort\",xmin, xmax, ymin, ymax, [0,0,.8]))\n",
    "    \n",
    "    # The loop for the orthogonal cycles        \n",
    "    for i in range(N):\n",
    "        A.send(C0.subs(n==i).asy_string(\"ort\",xmin, xmax, ymin, ymax, [0,.8,0], \"dashed\"))\n",
    "        if (i>0):\n",
    "            A.send(C0.subs(n==-i).asy_string(\"ort\",xmin, xmax, ymin, ymax, [0,.8,0], \"dashed\"))\n",
    "    A.shipout(name)\n",
    "    display(Image(f'{name}.png'))\n",
    "    A.shipout(f'{name}-ort', 'ort')\n",
    "    display(Image(f'{name}-ort.png'))    "
   ]
  },
  {
   "cell_type": "markdown",
   "metadata": {
    "ein.tags": "worksheet-0",
    "slideshow": {
     "slide_type": "-"
    }
   },
   "source": [
    "The next samples are used as illustrations in the book"
   ]
  },
  {
   "cell_type": "code",
   "execution_count": null,
   "metadata": {
    "autoscroll": false,
    "collapsed": false,
    "ein.hycell": false,
    "ein.tags": "worksheet-0",
    "slideshow": {
     "slide_type": "-"
    }
   },
   "outputs": [],
   "source": [
    "C2=cycle2D([-1.1,1],e,.81)\n",
    "C3=cycle2D([1.1,1],e,.47)\n",
    "for j in range (3):\n",
    "    makepencil(C2.subs(sign==j-1), C3.subs(sign==j-1), \\\n",
    "    -2,2,-1-j,3-j,[0,1,0],[0,0,1],[1,0,0], \"pencil%d\" % j)"
   ]
  },
  {
   "cell_type": "code",
   "execution_count": null,
   "metadata": {
    "autoscroll": false,
    "collapsed": false,
    "ein.hycell": false,
    "ein.tags": "worksheet-0",
    "slideshow": {
     "slide_type": "-"
    }
   },
   "outputs": [],
   "source": [
    "makepencil(cycle2D([-1,1],e.subs(sign==-1),1.21), \\\n",
    "           cycle2D([1,1],e.subs(sign==-1),4), \\\n",
    "-3,3,-2,4,[0,1,0],[0,0,1],[1,0,0], \"pencile\")"
   ]
  },
  {
   "cell_type": "code",
   "execution_count": null,
   "metadata": {
    "autoscroll": false,
    "collapsed": false,
    "ein.hycell": false,
    "ein.tags": "worksheet-0",
    "slideshow": {
     "slide_type": "-"
    }
   },
   "outputs": [],
   "source": [
    "makepencil(cycle2D(1,[-1,1],1,e.subs(sign==0)), \\\n",
    "           cycle2D(1,[1.4,-.8],2,e.subs(sign==0)), \\\n",
    "-3,3,-2,4,[0,1,0],[0,0,1],[1,0,0], \"pencilp\")"
   ]
  },
  {
   "cell_type": "code",
   "execution_count": null,
   "metadata": {
    "autoscroll": false,
    "collapsed": false,
    "ein.hycell": false,
    "ein.tags": "worksheet-0",
    "slideshow": {
     "slide_type": "-"
    }
   },
   "outputs": [],
   "source": [
    "makepencil(cycle2D([-1,1],e.subs(sign==1),1), \\\n",
    "           cycle2D([.5,1],e.subs(sign==1),1.7), \\\n",
    "-3,3,-4,2,[0,1,0],[0,0,1],[1,0,0], \"pencilh\")"
   ]
  },
  {
   "cell_type": "markdown",
   "metadata": {
    "ein.tags": "worksheet-0",
    "slideshow": {
     "slide_type": "-"
    }
   },
   "source": [
    "Here is some additional pictures of linear spans<br>\n",
    "in parabolic and hyperbolic spaces with<br>\n",
    "centres on different levels"
   ]
  },
  {
   "cell_type": "code",
   "execution_count": null,
   "metadata": {
    "autoscroll": false,
    "collapsed": false,
    "ein.hycell": false,
    "ein.tags": "worksheet-0",
    "slideshow": {
     "slide_type": "-"
    }
   },
   "outputs": [],
   "source": [
    "makepencil(cycle2D(1,[-1,.6],1,e.subs(sign==0)), \\\n",
    "           cycle2D(1,[-.1,-.6],-1.5,e.subs(sign==0)), \\\n",
    "-2.5,1.5,-1.5,2.5,[0,1,0],[0,0,1],[1,0,0], \"pencilpa\")"
   ]
  },
  {
   "cell_type": "code",
   "execution_count": null,
   "metadata": {
    "autoscroll": false,
    "collapsed": false,
    "ein.hycell": false,
    "ein.tags": "worksheet-0",
    "slideshow": {
     "slide_type": "-"
    }
   },
   "outputs": [],
   "source": [
    "makepencil(cycle2D([0,0],e.subs(sign==1),1), \\\n",
    "           cycle2D([.5,1],e.subs(sign==1),1), \\\n",
    "-3,3,-4,2,[0,1,0],[0,0,1],[1,0,0], \"pencilha\")"
   ]
  },
  {
   "cell_type": "markdown",
   "metadata": {
    "ein.tags": "worksheet-0",
    "slideshow": {
     "slide_type": "-"
    }
   },
   "source": [
    "Span if one circle is imaginary"
   ]
  },
  {
   "cell_type": "code",
   "execution_count": null,
   "metadata": {
    "autoscroll": false,
    "collapsed": false,
    "ein.hycell": false,
    "ein.tags": "worksheet-0",
    "slideshow": {
     "slide_type": "-"
    }
   },
   "outputs": [],
   "source": [
    "makepencil(cycle2D([-1,1],e.subs(sign==-1),1), \\\n",
    "           cycle2D([1,1],e.subs(sign==-1),-1), \\\n",
    "-3,3,-2,4,[0,1,0],[0,0,1],[1,0,0], \"pencile1i\")"
   ]
  },
  {
   "cell_type": "markdown",
   "metadata": {
    "ein.tags": "worksheet-0",
    "slideshow": {
     "slide_type": "-"
    }
   },
   "source": [
    "Span if both circles are imaginary"
   ]
  },
  {
   "cell_type": "code",
   "execution_count": null,
   "metadata": {
    "autoscroll": false,
    "collapsed": false,
    "ein.hycell": false,
    "ein.tags": "worksheet-0",
    "slideshow": {
     "slide_type": "-"
    }
   },
   "outputs": [],
   "source": [
    "makepencil(cycle2D([-1,1],e.subs(sign==-1),-1), \\\n",
    "           cycle2D([1,1],e.subs(sign==-1),-1), \\\n",
    "-3,3,-2,4,[0,1,0],[0,0,1],[1,0,0], \"pencile2i\")"
   ]
  },
  {
   "cell_type": "markdown",
   "metadata": {
    "ein.tags": "worksheet-0",
    "slideshow": {
     "slide_type": "-"
    }
   },
   "source": [
    "Span of touching circles"
   ]
  },
  {
   "cell_type": "code",
   "execution_count": null,
   "metadata": {
    "autoscroll": false,
    "collapsed": false,
    "ein.hycell": false,
    "ein.tags": "worksheet-0",
    "slideshow": {
     "slide_type": "-"
    }
   },
   "outputs": [],
   "source": [
    "makepencil(cycle2D([-1,1],e.subs(sign==-1),1), \\\n",
    "           cycle2D([1,1],e.subs(sign==-1),1), \\\n",
    "-3,3,-2,4,[0,1,0],[0,0,1],[1,0,0], \"pencilet\")"
   ]
  },
  {
   "cell_type": "markdown",
   "metadata": {
    "ein.tags": "worksheet-0",
    "slideshow": {
     "slide_type": "-"
    }
   },
   "source": [
    "Span of touching hyperbolas"
   ]
  },
  {
   "cell_type": "code",
   "execution_count": null,
   "metadata": {
    "autoscroll": false,
    "collapsed": false,
    "ein.hycell": false,
    "ein.tags": "worksheet-0",
    "slideshow": {
     "slide_type": "-"
    }
   },
   "outputs": [],
   "source": [
    "makepencil(cycle2D([-1,1],e.subs(sign==1),1), \\\n",
    "           cycle2D([1,1],e.subs(sign==1),1), \\\n",
    "-3,3,-4,2,[0,1,0],[0,0,1],[1,0,0], \"pencilht\")"
   ]
  },
  {
   "cell_type": "markdown",
   "metadata": {
    "ein.tags": "worksheet-0",
    "slideshow": {
     "slide_type": "-"
    }
   },
   "source": [
    "Span of touching parabolas"
   ]
  },
  {
   "cell_type": "code",
   "execution_count": null,
   "metadata": {
    "autoscroll": false,
    "collapsed": false,
    "ein.hycell": false,
    "ein.tags": "worksheet-0",
    "slideshow": {
     "slide_type": "-"
    }
   },
   "outputs": [],
   "source": [
    "makepencil(cycle2D(1,[0,2],-1,e.subs(sign==0)), \\\n",
    "           cycle2D(1,[.5,1],0,e.subs(sign==0)), \\\n",
    "-1.5,2.5,-1,3,[0,1,0],[0,0,1],[1,0,0], \"pencilpt\")"
   ]
  },
  {
   "cell_type": "code",
   "execution_count": null,
   "metadata": {
    "autoscroll": false,
    "collapsed": false,
    "ein.hycell": false,
    "ein.tags": "worksheet-0",
    "slideshow": {
     "slide_type": "-"
    }
   },
   "outputs": [],
   "source": [
    "makepencil(cycle2D(1,[-.75,1.125],-9.0/8,e.subs(sign==0)), \\\n",
    "        cycle2D(1,[.75,1.125],-9.0/8,e.subs(sign==0)), \\\n",
    "-2.5,2.5,-1,3,[0,1,0],[0,0,1],[1,0,0], \"pencilpf\")"
   ]
  },
  {
   "cell_type": "code",
   "execution_count": null,
   "metadata": {
    "autoscroll": false,
    "collapsed": false,
    "ein.hycell": false,
    "ein.tags": "worksheet-0",
    "slideshow": {
     "slide_type": "-"
    }
   },
   "outputs": [],
   "source": [
    "makepencil(cycle2D(1,[-1,1],3.0/4,e.subs(sign==0)), \\\n",
    "        cycle2D(1,[1,1],3.0/4,e.subs(sign==0)), \\\n",
    "-2.5,2.5,-1,3,[0,1,0],[0,0,1],[1,0,0], \"pencilpf2\")"
   ]
  },
  {
   "cell_type": "code",
   "execution_count": null,
   "metadata": {
    "autoscroll": false,
    "collapsed": false,
    "ein.hycell": false,
    "ein.tags": "worksheet-0",
    "slideshow": {
     "slide_type": "-"
    }
   },
   "outputs": [],
   "source": [
    "makepencil(cycle2D(1,[0,0],-4,e.subs(sign==0)), \\\n",
    "        cycle2D(1,[5.0/6,0],2.0/3,e.subs(sign==0)), \\\n",
    "-2.5,2.5,-1,3,[0,1,0],[0,0,1],[1,0,0], \"pencilpl\")"
   ]
  },
  {
   "cell_type": "code",
   "execution_count": null,
   "metadata": {
    "autoscroll": false,
    "collapsed": false,
    "ein.hycell": false,
    "ein.tags": "worksheet-0",
    "slideshow": {
     "slide_type": "-"
    }
   },
   "outputs": [],
   "source": [
    "makepencil(cycle2D(1,[4.0/3,0],4.0/3,e.subs(sign==0)), \\\n",
    "        cycle2D(1,[8.0/15,0],4.0/15,e.subs(sign==0)), \\\n",
    "-2.5,2.5,-1,3,[0,1,0],[0,0,1],[1,0,0], \"pencilpl2\")"
   ]
  },
  {
   "cell_type": "code",
   "execution_count": null,
   "metadata": {
    "autoscroll": false,
    "collapsed": false,
    "ein.hycell": false,
    "ein.tags": "worksheet-0",
    "slideshow": {
     "slide_type": "-"
    }
   },
   "outputs": [],
   "source": [
    "makepencil(cycle2D(1,[-.5,1],0,e.subs(sign==0)), \\\n",
    "           cycle2D(1,[.5,-1],0,e.subs(sign==0)), \\\n",
    "-1.5,1.5,-1.5,1.5,[0,1,0],[0,0,1],[1,0,0], \"pencilpt2\")"
   ]
  },
  {
   "cell_type": "markdown",
   "metadata": {
    "ein.tags": "worksheet-0",
    "slideshow": {
     "slide_type": "-"
    }
   },
   "source": [
    "Span of a cicrle and a line"
   ]
  },
  {
   "cell_type": "code",
   "execution_count": null,
   "metadata": {
    "autoscroll": false,
    "collapsed": false,
    "ein.hycell": false,
    "ein.tags": "worksheet-0",
    "slideshow": {
     "slide_type": "-"
    }
   },
   "outputs": [],
   "source": [
    "makepencil(cycle2D([-1,1],e.subs(sign==-1),1), \\\n",
    "           cycle2D(0,[1,0],1,e.subs(sign==-1)), \\\n",
    "-3,3,-2,4,[0,1,0],[0,0,1],[1,0,0], \"pencilecl\")"
   ]
  },
  {
   "cell_type": "markdown",
   "metadata": {
    "ein.tags": "worksheet-0",
    "slideshow": {
     "slide_type": "-"
    }
   },
   "source": [
    ".send(\"exit\")"
   ]
  },
  {
   "cell_type": "code",
   "execution_count": null,
   "metadata": {
    "autoscroll": false,
    "collapsed": false,
    "ein.hycell": false,
    "ein.tags": "worksheet-0",
    "slideshow": {
     "slide_type": "-"
    }
   },
   "outputs": [],
   "source": [
    "del(A)"
   ]
  },
  {
   "cell_type": "markdown",
   "metadata": {},
   "source": [
    "\n",
    "This notebook is a part of the *MoebInv notebooks* project [ [2] ](#[2]).\n",
    "\n",
    "### References\n",
    "<a id=\"references\"></a>\n",
    "<a id=\"[1]\"></a>\n",
    "1. Vladimir V. Kisil. *Geometry of Möbius Transformations: Elliptic, Parabolic and Hyperbolic Actions of $SL_2(\\mathbb{R})$*. [Imperial College Press](https://www.worldscientific.com/worldscibooks/10.1142/p835), London, 2012. Includes a live DVD.\n",
    "\n",
    "   <a id=\"[2]\"></a>\n",
    "2.  Vladimir V. Kisil, [*MoebInv notebooks*](https://github.com/vvkisil/MoebInv-notebooks), 2019.\n",
    "\n",
    "[Back to Folder](https://github.com/vvkisil/MoebInv-notebooks/blob/master/EPAL-v1/)\n"
   ]
  }
 ],
 "metadata": {
  "kernelspec": {
   "argv": [
    "/usr/bin/python3",
    "-m",
    "ipykernel_launcher",
    "-f",
    "{connection_file}"
   ],
   "display_name": "Python 3",
   "env": null,
   "interrupt_mode": "signal",
   "language": "python",
   "metadata": null,
   "name": "python3"
  },
  "language_info": {
   "codemirror_mode": {
    "name": "ipython",
    "version": 3
   },
   "file_extension": ".py",
   "mimetype": "text/x-python",
   "name": "python",
   "nbconvert_exporter": "python",
   "pygments_lexer": "ipython3",
   "version": "3.6.4"
  },
  "name": "ex-linear-span.ipynb"
 },
 "nbformat": 4,
 "nbformat_minor": 2
}
