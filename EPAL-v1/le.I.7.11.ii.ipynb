{
 "cells": [
  {
   "cell_type": "markdown",
   "metadata": {},
   "source": [
    "<table style=\"width:100%\">\n",
    "    <tr>\n",
    "        <td>\n",
    "            <a href=\"http://www1.maths.leeds.ac.uk/~kisilv/MoebInv-notebooks/EPAL-v1/le.I.7.11.ii.html\">\n",
    "  <img src=\"https://img.shields.io/badge/view%20as-HTML-purple.svg\" alt=\"Open In Colab\"/>\n",
    "            </a>\n",
    "        </td>\n",
    "        <td>\n",
    "<a href=\"https://github.com/vvkisil/MoebInv-notebooks/blob/master/EPAL-v1/le.I.7.11.ii.ipynb\">\n",
    "  <img src=\"https://img.shields.io/badge/open%20in-GitHub-green.svg\" alt=\"Open In Colab\"/>\n",
    "            </a>\n",
    "        </td>\n",
    "        <td>\n",
    "            <a href=\"https://colab.research.google.com/github/vvkisil/MoebInv-notebooks/blob/master/EPAL-v1/le.I.7.11.ii.ipynb\">\n",
    "  <img src=\"https://colab.research.google.com/assets/colab-badge.svg\" alt=\"Open In Colab\"/>\n",
    "            </a>\n",
    "        </td>\n",
    "        <td>\n",
    "            <a href=\"https://codeocean.com/capsule/7952650/tree\">\n",
    "  <img src=\"https://codeocean.com/codeocean-assets/badge/open-in-code-ocean.svg\" alt=\"Code Ocean\"/>\n",
    "            </a>\n",
    "        </td>\n",
    "    </tr>\n",
    " </table>"
   ]
  },
  {
   "cell_type": "markdown",
   "metadata": {
    "ein.tags": "worksheet-0",
    "slideshow": {
     "slide_type": "-"
    }
   },
   "source": [
    "# Lemma: the length from the cycle with a focus at one point. \n",
    "\n",
    "**Lemma I.7.11.ii** [ [1] ](#[1]) \n",
    "$\n",
    "\\newcommand{\\scalar}[3][]{\\left\\langle #2,#3 \n",
    "        \\right\\rangle_{#1}}\n",
    "\\newcommand{\\Space}[3][]{\\mathbb{#2}^{#3}_{#1}}\n",
    "\\newcommand{\\Space}[3][]{\\mathbb{#2}^{#3}_{#1}}\n",
    "  \\newcommand{\\cycle}[3][]{{#1 C^{#2}_{#3}}}\n",
    "  \\newcommand{\\realline}[3][]{#1 R^{#2}_{#3}}\n",
    "  \\newcommand{\\bs}{\\breve{\\sigma}}\n",
    "  \\newcommand{\\zcycle}[3][]{#1 Z^{#2}_{#3}}\n",
    "  \\newcommand{\\SL}[1][2]{\\mathrm{SL}_{#1}(\\Space{R}{})}\n",
    "  \\newcommand{\\rs}{\\sigma_r}\n",
    "  \\newcommand{\\lvec}[1]{\\overrightarrow{#1}}\n",
    "\\newcommand{\\rmi}{\\mathrm{i}}\n",
    "\\newcommand{\\alli}{\\iota}\n",
    "\\newcommand{\\rme}{\\mathrm{e}}\n",
    "\\newcommand{\\rmd}{\\mathrm{d}}\n",
    "\\newcommand{\\rmh}{\\mathrm{j}}\n",
    "\\newcommand{\\rmp}{\\varepsilon}\n",
    "\\newcommand{\\modulus}[2][]{\\left| #2 \\right|_{#1}}\n",
    "\\newcommand{\\sperp}{⋋}\n",
    "$\n",
    "  For two points $P=u+\\alli v$, $P'=u'+\\alli\n",
    "  v'\\in\\Space[\\sigma]{R}{}$, \n",
    "    The $\\bs$-length from \\CAS{le-length-focus-exp}%\n",
    "    the $\\rs$-focus%\n",
    "    \\index{length!from focus}%\n",
    "    \\index{focus!length from} between $P$ and $P'$ is\n",
    "    \\begin{equation}\n",
    "      l_{f_{\\bs}}^2(\\lvec{PP'})  = (\\rs-\\bs) p^2-2vp,\n",
    "    \\end{equation}\n",
    "    where:\n",
    "    \\begin{equation}\n",
    "      p  =  \\rs\\left(-(v'-v)\\pm\\sqrt{\\rs(u'-u)^2+(v'-v)^2-\\sigma\\rs\n",
    "          v'^2}\\right),\\quad\\text{if } \\rs\\neq0\n",
    "    \\end{equation}\n",
    "    \\begin{equation}\n",
    "      p  =  \\frac{(u'-u)^2-\\sigma v'^2}{2(v'-v)}, \\quad\\text{if } \\rs=0.\n",
    "    \\end{equation}"
   ]
  },
  {
   "cell_type": "markdown",
   "metadata": {
    "ein.tags": "worksheet-0",
    "slideshow": {
     "slide_type": "-"
    }
   },
   "source": [
    "**Proof.** To use the linear solver in \\GiNaC\\ we need \n",
    "to replace the condition `C10.focus().op(1) == v` by hand-made value \n",
    "for the parameter `n`.\n",
    "\n",
    "There are two suitable values of `n` which correspond upward and \n",
    "downward parabolas, which are expressed by plus or minus before the\n",
    "square root.  After the value of length was found we master\n",
    "a simpler expression for it which utilises the focal length [[p]] of\n",
    "the parabola."
   ]
  },
  {
   "cell_type": "code",
   "execution_count": null,
   "metadata": {
    "autoscroll": false,
    "collapsed": false,
    "ein.hycell": false,
    "ein.tags": "worksheet-0",
    "slideshow": {
     "slide_type": "-"
    }
   },
   "outputs": [],
   "source": [
    "from init_cycle import *\n",
    "nu = varidx(symbol(\"nu\"),2)"
   ]
  },
  {
   "cell_type": "markdown",
   "metadata": {
    "ein.tags": "worksheet-0",
    "slideshow": {
     "slide_type": "-"
    }
   },
   "source": [
    "igns_cube = [pow(sign, 3) == sign, pow(sign1, 3) == sign1]"
   ]
  },
  {
   "cell_type": "code",
   "execution_count": null,
   "metadata": {
    "autoscroll": false,
    "collapsed": false,
    "ein.hycell": false,
    "ein.tags": "worksheet-0",
    "slideshow": {
     "slide_type": "-"
    }
   },
   "outputs": [],
   "source": [
    "signs_cube = (pow(sign1, 3) == sign)"
   ]
  },
  {
   "cell_type": "code",
   "execution_count": null,
   "metadata": {
    "autoscroll": false,
    "collapsed": false,
    "ein.hycell": false,
    "ein.tags": "worksheet-0",
    "slideshow": {
     "slide_type": "-"
    }
   },
   "outputs": [],
   "source": [
    "def focal_length_check(p):\n",
    "    er = clifford_unit(nu, diag_matrix([-1, sign5]), 2)\n",
    "    C11 = C.subject_to([C.passing(P1), k==1, l == u, n == p])\n",
    "    # And now we verify that the length is equal to (1-\\sigma_1)p^2-2vp\n",
    "    Len_c = C11.radius_sq(es).subs(pow(sign2,2)==1,subs_options.algebraic).normal()\n",
    "    \n",
    "    display(Latex(\"Verifying the f-length $%s$\" % p))\n",
    "    display(Latex(\"Length between $(u,v)$ and $(u', v')$ is equal to $(\\sigma_2-\\sigma_1)p^2-2vp$: %s\" %\\\n",
    "    ((Len_c - ((sign5-sign1)*pow(p, 2) - 2*v*p)).\\\n",
    "    subs(signs_cube, subs_options.algebraic).expand()\\\n",
    "    .subs(pow(sign2,2)==1,subs_options.algebraic).normal().is_zero())))\n",
    "    print(\"  [sanity check: cycle passes through (u1, v1): %s]\" % C11.val(P1).normal().is_zero())\n",
    "    print(\"  [sanity check: cycle's er-focus is  (u, v): %s]\" % \\\n",
    "    (C11.focus(er,True).subs(pow(sign2,2)==1,subs_options.algebraic)-matrix([[u],[v]])).evalm().normal().is_zero_matrix())\n",
    "    return (C11.focus(er,True).subs(pow(sign2,2)==1,subs_options.algebraic)-matrix([[u],[v]])).evalm().normal().is_zero_matrix()"
   ]
  },
  {
   "cell_type": "markdown",
   "metadata": {
    "ein.tags": "worksheet-0",
    "slideshow": {
     "slide_type": "-"
    }
   },
   "source": [
    "We made two checks for solution with positive sign..."
   ]
  },
  {
   "cell_type": "code",
   "execution_count": null,
   "metadata": {
    "autoscroll": false,
    "collapsed": false,
    "ein.hycell": false,
    "ein.tags": "worksheet-0",
    "slideshow": {
     "slide_type": "-"
    }
   },
   "outputs": [],
   "source": [
    "sign5=sign2\n",
    "focal_length_check(sign5*(-(v1-v)+pow(sign5*pow(u1-u, 2)+pow(v1-v, 2) \\\n",
    "-sign5*sign*pow(v1, 2),half)))"
   ]
  },
  {
   "cell_type": "markdown",
   "metadata": {
    "ein.tags": "worksheet-0",
    "slideshow": {
     "slide_type": "-"
    }
   },
   "source": [
    "...and with negative sign"
   ]
  },
  {
   "cell_type": "code",
   "execution_count": null,
   "metadata": {
    "autoscroll": false,
    "collapsed": false,
    "ein.hycell": false,
    "ein.tags": "worksheet-0",
    "slideshow": {
     "slide_type": "-"
    }
   },
   "outputs": [],
   "source": [
    "focal_length_check(sign5*(-(v1-v)-pow(sign5*pow(u1-u, 2)+pow(v1-v, 2) \\\n",
    "-sign5*sign*pow(v1, 2),half)))"
   ]
  },
  {
   "cell_type": "markdown",
   "metadata": {
    "ein.tags": "worksheet-0",
    "slideshow": {
     "slide_type": "-"
    }
   },
   "source": [
    "finally we check the parabolic case formula"
   ]
  },
  {
   "cell_type": "code",
   "execution_count": null,
   "metadata": {
    "autoscroll": false,
    "collapsed": false,
    "ein.hycell": false,
    "ein.tags": "worksheet-0",
    "slideshow": {
     "slide_type": "-"
    }
   },
   "outputs": [],
   "source": [
    "sign5=0;\n",
    "focal_length_check((pow(u1-u,2)-sign*pow(v1,2))/(v1-v)/2)"
   ]
  },
  {
   "cell_type": "markdown",
   "metadata": {},
   "source": [
    "\n",
    "This notebook is a part of the *MoebInv notebooks* project [ [2] ](#[2]).\n",
    "\n",
    "### References\n",
    "<a id=\"references\"></a>\n",
    "<a id=\"[1]\"></a>\n",
    "1. Vladimir V. Kisil. *Geometry of Möbius Transformations: Elliptic, Parabolic and Hyperbolic Actions of $SL_2(\\mathbb{R})$*. [Imperial College Press](https://www.worldscientific.com/worldscibooks/10.1142/p835), London, 2012. Includes a live DVD.\n",
    "\n",
    "   <a id=\"[2]\"></a>\n",
    "2.  Vladimir V. Kisil, [*MoebInv notebooks*](https://github.com/vvkisil/MoebInv-notebooks), 2019.\n",
    "\n",
    "[Back to Folder](https://github.com/vvkisil/MoebInv-notebooks/blob/master/EPAL-v1/)\n"
   ]
  }
 ],
 "metadata": {
  "kernelspec": {
   "argv": [
    "/usr/bin/python3",
    "-m",
    "ipykernel_launcher",
    "-f",
    "{connection_file}"
   ],
   "display_name": "Python 3",
   "env": null,
   "interrupt_mode": "signal",
   "language": "python",
   "metadata": null,
   "name": "python3"
  },
  "language_info": {
   "codemirror_mode": {
    "name": "ipython",
    "version": 3
   },
   "file_extension": ".py",
   "mimetype": "text/x-python",
   "name": "python",
   "nbconvert_exporter": "python",
   "pygments_lexer": "ipython3",
   "version": "3.6.4"
  },
  "name": "le-length-focus-exp.ipynb"
 },
 "nbformat": 4,
 "nbformat_minor": 2
}
