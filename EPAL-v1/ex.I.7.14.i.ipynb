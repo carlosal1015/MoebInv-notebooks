{
 "cells": [
  {
   "cell_type": "markdown",
   "metadata": {},
   "source": [
    "<table style=\"width:100%\">\n",
    "    <tr>\n",
    "        <td>\n",
    "            <a href=\"http://www1.maths.leeds.ac.uk/~kisilv/MoebInv-notebooks/EPAL-v1/ex.I.7.14.i.html\">\n",
    "  <img src=\"https://img.shields.io/badge/view%20as-HTML-purple.svg\" alt=\"Open In Colab\"/>\n",
    "            </a>\n",
    "        </td>\n",
    "        <td>\n",
    "<a href=\"https://github.com/vvkisil/MoebInv-notebooks/blob/master/EPAL-v1/ex.I.7.14.i.ipynb\">\n",
    "  <img src=\"https://img.shields.io/badge/open%20in-GitHub-green.svg\" alt=\"Open In Colab\"/>\n",
    "            </a>\n",
    "        </td>\n",
    "        <td>\n",
    "            <a href=\"https://colab.research.google.com/github/vvkisil/MoebInv-notebooks/blob/master/EPAL-v1/ex.I.7.14.i.ipynb\">\n",
    "  <img src=\"https://colab.research.google.com/assets/colab-badge.svg\" alt=\"Open In Colab\"/>\n",
    "            </a>\n",
    "        </td>\n",
    "        <td>\n",
    "            <a href=\"https://codeocean.com/capsule/7952650/tree\">\n",
    "  <img src=\"https://codeocean.com/codeocean-assets/badge/open-in-code-ocean.svg\" alt=\"Code Ocean\"/>\n",
    "            </a>\n",
    "        </td>\n",
    "    </tr>\n",
    " </table>\n",
    "\n",
    "<a  align=\"center\" href=\"https://colab.research.google.com/github/vvkisil/MoebInv-notebooks/blob/master/Introduction/Software_installation_GUI_integration.ipynb\">Google CoLab software installation</a>\n"
   ]
  },
  {
   "cell_type": "markdown",
   "metadata": {
    "ein.tags": "worksheet-0",
    "slideshow": {
     "slide_type": "-"
    }
   },
   "source": [
    "# Conformality of distances \n",
    "\n",
    "**Exervise I.7.14.i** [ [1] ](#[1])  $\n",
    "\\newcommand{\\Space}[3][]{\\mathbb{#2}^{#3}_{#1}}\n",
    "  \\newcommand{\\cycle}[3][]{{#1 C^{#2}_{#3}}}\n",
    "  \\newcommand{\\realline}[3][]{#1 R^{#2}_{#3}}\n",
    "  \\newcommand{\\bs}{\\breve{\\sigma}}\n",
    "  \\newcommand{\\zcycle}[3][]{#1 Z^{#2}_{#3}}\n",
    "  \\newcommand{\\SL}[1][2]{\\mathrm{SL}_{#1}(\\Space{R}{})}\n",
    "  $ \n",
    "  Show $\\SL$-conformality:\n",
    "\n",
    "    The distance \n",
    "\\eqref{eq:distance-first-ell-hyp} \n",
    "  \\begin{equation}\n",
    "    \\label{eq:distance-first-ell-hyp}\n",
    "    d_{\\sigma,\\bs}^2(P, P') = \\frac{ \\bs ((u-u')^2-\\sigma(v- v')^2) +4(1-\\sigma\\bs) v v'}\n",
    "    {(u- u')^2 \\bs-(v-v')^2} ((u-u')^2 -\\sigma(v- v')^2), \\tag{I.7.2}\n",
    "  \\end{equation}\n",
    "  is conformal if\n",
    "    and only if the type of point and cycle spaces are the same, i.e.\n",
    "    $\\sigma\\bs=1$. \n",
    "    \n",
    " The parabolic distance \n",
    "    \\begin{equation}\n",
    "      d_{p,\\bs}^2(y, y') = (u-u')^2. \\tag{I.7.3}\n",
    "    \\end{equation}\n",
    "    is conformal only in the parabolic point space."
   ]
  },
  {
   "cell_type": "markdown",
   "metadata": {
    "ein.tags": "worksheet-0",
    "slideshow": {
     "slide_type": "-"
    }
   },
   "source": [
    "**Solution.** We define the simplification for matrices in $\\SL$:"
   ]
  },
  {
   "cell_type": "code",
   "execution_count": null,
   "metadata": {
    "autoscroll": false,
    "collapsed": false,
    "ein.hycell": false,
    "ein.tags": "worksheet-0",
    "slideshow": {
     "slide_type": "-"
    }
   },
   "outputs": [],
   "source": [
    "from init_cycle import *\n",
    "sl2_relation1 = (a == (1+b*c)/d)"
   ]
  },
  {
   "cell_type": "markdown",
   "metadata": {
    "ein.tags": "worksheet-0",
    "slideshow": {
     "slide_type": "-"
    }
   },
   "source": [
    "Define the image of $P=(u,v)$ under the Möbius transformation and make the component-wise substitution of the simplification rule."
   ]
  },
  {
   "cell_type": "code",
   "execution_count": null,
   "metadata": {
    "autoscroll": false,
    "collapsed": false,
    "ein.hycell": false,
    "ein.tags": "worksheet-0",
    "slideshow": {
     "slide_type": "-"
    }
   },
   "outputs": [],
   "source": [
    "gP=clifford_moebius_map(sl2_clifford(a, b, c, d, e), P, e)\n",
    "gP=[gP[0].subs(sl2_relation1,subs_options.algebraic).normal(),\\\n",
    "gP[1].subs(sl2_relation1,subs_options.algebraic).normal()]"
   ]
  },
  {
   "cell_type": "markdown",
   "metadata": {
    "ein.tags": "worksheet-0",
    "slideshow": {
     "slide_type": "-"
    }
   },
   "source": [
    "The same for the image of $P_1=(u_1,v_1)$ under the Moebius transformation"
   ]
  },
  {
   "cell_type": "code",
   "execution_count": null,
   "metadata": {
    "autoscroll": false,
    "collapsed": false,
    "ein.hycell": false,
    "ein.tags": "worksheet-0",
    "slideshow": {
     "slide_type": "-"
    }
   },
   "outputs": [],
   "source": [
    "gP1=clifford_moebius_map(sl2_clifford(a, b, c, d, e), P1, e)\n",
    "gP1=[gP1[0].subs(sl2_relation1,subs_options.algebraic).normal(),\\\n",
    "gP1[1].subs(sl2_relation1,subs_options.algebraic).normal()]"
   ]
  },
  {
   "cell_type": "markdown",
   "metadata": {
    "ein.tags": "worksheet-0",
    "slideshow": {
     "slide_type": "-"
    }
   },
   "source": [
    "Make a warning on the output."
   ]
  },
  {
   "cell_type": "code",
   "execution_count": null,
   "metadata": {
    "autoscroll": false,
    "collapsed": false,
    "ein.hycell": false,
    "ein.tags": "worksheet-0",
    "slideshow": {
     "slide_type": "-"
    }
   },
   "outputs": [],
   "source": [
    "print(\"Two lines below shall contain 'False' (twice) as the correct result\")"
   ]
  },
  {
   "cell_type": "markdown",
   "metadata": {
    "ein.tags": "worksheet-0",
    "slideshow": {
     "slide_type": "-"
    }
   },
   "source": [
    "The routine to check conformality for various combination of matrics in point and cycle spaces"
   ]
  },
  {
   "cell_type": "code",
   "execution_count": null,
   "metadata": {
    "autoscroll": false,
    "collapsed": false,
    "ein.hycell": false,
    "ein.tags": "worksheet-0",
    "slideshow": {
     "slide_type": "-"
    }
   },
   "outputs": [],
   "source": [
    "def check_conformality(Len_c, si=3):\n",
    "    Len_cD= ((Len_c.subs([u == gP[0], v==gP[1], u1 == gP1[0],\\\n",
    "    v1==gP1[1]])\\\n",
    "    /Len_c).subs([u1==u+t*x, v1==v+t*y]));\n",
    "    Len_fD = Len_cD\n",
    "    print(\"Conformity in a cycle space with metric:   E      P      H \")\n",
    "    # Iterate metric of the point space\n",
    "    while (si<2):\n",
    "        output=\"Point space is %s\" % eph_case(si)\n",
    "        si1 = -1\n",
    "        # Iterate metric of the cycle space\n",
    "        while (si1<2):\n",
    "            Len_cD = Len_fD.subs(sign == numeric(si), subs_options.algebraic)\\\n",
    "            .subs(sign1 == numeric(si1), subs_options.algebraic).normal()\n",
    "            if (Len_cD.has(t)):\n",
    "                Len_cD = Len_cD.series(t==0,1).op(0).normal()\n",
    "                \n",
    "            is_conformal = not(Len_cD.is_zero() or Len_cD.has(t) or Len_cD.has(x) or Len_cD.has(y))\n",
    "            output=output+(\"  %s \" % is_conformal)\n",
    "            si1=si1+1\n",
    "        si=si+2\n",
    "        print(output)"
   ]
  },
  {
   "cell_type": "markdown",
   "metadata": {
    "ein.tags": "worksheet-0",
    "slideshow": {
     "slide_type": "-"
    }
   },
   "source": [
    "Use regularised expression for distances checked in [le-distance-first.ipynb](le-distance-first.ipynb) aka [le.I.7.5.ipynb](le.I.7.5.ipynb) to check the elliptic and hyperbolic cases"
   ]
  },
  {
   "cell_type": "code",
   "execution_count": null,
   "metadata": {
    "autoscroll": false,
    "collapsed": false,
    "ein.hycell": false,
    "ein.tags": "worksheet-0",
    "slideshow": {
     "slide_type": "-"
    }
   },
   "outputs": [],
   "source": [
    "print(\"Elliptic/hyperbolic distances\")\n",
    "dist = (sign1*(pow(u-u1,2)-sign*pow(v-v1,2))+4*(1-sign*sign1)*v*v1)*(pow(u-u1,2)\\\n",
    "-sign*pow(v-v1,2))/(pow(u-u1,2)*sign1-pow(v-v1,2))\n",
    "check_conformality(dist, -1)"
   ]
  },
  {
   "cell_type": "markdown",
   "metadata": {
    "ein.tags": "worksheet-0",
    "slideshow": {
     "slide_type": "-"
    }
   },
   "source": [
    "Then check the parabolic case"
   ]
  },
  {
   "cell_type": "code",
   "execution_count": null,
   "metadata": {
    "autoscroll": false,
    "collapsed": false,
    "ein.hycell": false,
    "ein.tags": "worksheet-0",
    "slideshow": {
     "slide_type": "-"
    }
   },
   "outputs": [],
   "source": [
    "print(\"Parabolic distance\")\n",
    "dist=pow(u-u1,2)\n",
    "check_conformality(dist, 0)"
   ]
  },
  {
   "cell_type": "markdown",
   "metadata": {},
   "source": [
    "\n",
    "This notebook is a part of the *MoebInv notebooks* project [ [2] ](#[2]).\n",
    "\n",
    "### References\n",
    "<a id=\"references\"></a>\n",
    "<a id=\"[1]\"></a>\n",
    "1. Vladimir V. Kisil. *Geometry of Möbius Transformations: Elliptic, Parabolic and Hyperbolic Actions of $SL_2(\\mathbb{R})$*. [Imperial College Press](https://www.worldscientific.com/worldscibooks/10.1142/p835), London, 2012. Includes a live DVD.\n",
    "\n",
    "   <a id=\"[2]\"></a>\n",
    "2.  Vladimir V. Kisil, [*MoebInv notebooks*](https://github.com/vvkisil/MoebInv-notebooks), 2019.\n",
    "\n",
    "[Back to Folder](https://github.com/vvkisil/MoebInv-notebooks/blob/master/EPAL-v1/)\n"
   ]
  }
 ],
 "metadata": {
  "kernelspec": {
   "argv": [
    "/usr/bin/python3",
    "-m",
    "ipykernel_launcher",
    "-f",
    "{connection_file}"
   ],
   "display_name": "Python 3",
   "env": null,
   "interrupt_mode": "signal",
   "language": "python",
   "metadata": null,
   "name": "python3"
  },
  "language_info": {
   "codemirror_mode": {
    "name": "ipython",
    "version": 3
   },
   "file_extension": ".py",
   "mimetype": "text/x-python",
   "name": "python",
   "nbconvert_exporter": "python",
   "pygments_lexer": "ipython3",
   "version": "3.6.4"
  },
  "name": "ex-check-conform-dist.ipynb"
 },
 "nbformat": 4,
 "nbformat_minor": 2
}
