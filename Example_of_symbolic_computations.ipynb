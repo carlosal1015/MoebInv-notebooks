{
 "cells": [
  {
   "cell_type": "markdown",
   "metadata": {
    "colab_type": "text",
    "id": "view-in-github"
   },
   "source": [
    "<a href=\"https://colab.research.google.com/github/vvkisil/MoebInv-notebooks/blob/master/Example_of_symbolic_computations.ipynb\" target=\"_parent\"><img src=\"https://colab.research.google.com/assets/colab-badge.svg\" alt=\"Open In Colab\"/></a>"
   ]
  },
  {
   "cell_type": "markdown",
   "metadata": {
    "colab_type": "text",
    "id": "0F7Bq53GNt1D"
   },
   "source": [
    "# Example of symbolic computations"
   ]
  },
  {
   "cell_type": "markdown",
   "metadata": {
    "colab_type": "text",
    "id": "0SuM8g5mNt1F"
   },
   "source": [
    "MoebInv can do more than just draw colorful pictures. Powered by GiNaC symbolic computation engine MoebInv can provide rigourous prove of geometric statements through analytic computations. Here is an example.\n"
   ]
  },
  {
   "cell_type": "markdown",
   "metadata": {
    "colab_type": "text",
    "id": "GsIThcwFOOmT"
   },
   "source": [
    " First we need to load libraries (assuming [software installation](https://colab.research.google.com/github/vvkisil/MoebInv-notebooks/blob/master/Euclidean_and_Lobachevsky_lines.ipynb#Installing-required-software) is already done).\n",
    " \n",
    " http://localhost:8888/notebooks/MoebInv-notebooks/Euclidean_and_Lobachevsky_lines.ipynb\n",
    " \n",
    " **If you get an error** due to missing libraries then install them as shown in the first section of [this notebook](https://colab.research.google.com/drive/1L8kURF-zOnwdcrZRDhLKCItWcUJFQSuv)."
   ]
  },
  {
   "cell_type": "code",
   "execution_count": 0,
   "metadata": {
    "colab": {},
    "colab_type": "code",
    "id": "qOiYKpUINt1H"
   },
   "outputs": [],
   "source": [
    "from figure import *"
   ]
  },
  {
   "cell_type": "markdown",
   "metadata": {
    "colab_type": "text",
    "id": "f3awN-BuNt1P"
   },
   "source": [
    "Now we initialise the figure F with a default Euclidean metric."
   ]
  },
  {
   "cell_type": "code",
   "execution_count": 0,
   "metadata": {
    "colab": {},
    "colab_type": "code",
    "id": "ZfrZPMrUNt1Q"
   },
   "outputs": [],
   "source": [
    "F=figure()"
   ]
  },
  {
   "cell_type": "markdown",
   "metadata": {
    "colab_type": "text",
    "id": "qY20balJNt1V"
   },
   "source": [
    " We add the unit circle $a$ to the figure by specifying explicit coefficients (1, 0, 0, -1) of its quadratic equations: $$1\\cdot(x^2+y^2)-0\\cdot x -0\\cdot y -1 =0 $$."
   ]
  },
  {
   "cell_type": "code",
   "execution_count": 0,
   "metadata": {
    "colab": {},
    "colab_type": "code",
    "id": "obyJ0F3aNt1W"
   },
   "outputs": [],
   "source": [
    "a=F.add_cycle(cycle2D(1,[0,0],-1),\"a\")"
   ]
  },
  {
   "cell_type": "markdown",
   "metadata": {
    "colab_type": "text",
    "id": "0WaBJmO-Nt1a"
   },
   "source": [
    "Then we add the centre $C_a$ of $a$:"
   ]
  },
  {
   "cell_type": "code",
   "execution_count": 0,
   "metadata": {
    "colab": {},
    "colab_type": "code",
    "id": "gxi9Ew4rNt1b"
   },
   "outputs": [],
   "source": [
    "Ca=F.add_point(cycle2D(F.get_cycle(a)[0]).center(),\"Ca\")"
   ]
  },
  {
   "cell_type": "markdown",
   "metadata": {
    "colab_type": "text",
    "id": "Kz4VCWzYNt1f"
   },
   "source": [
    "We add a tangent line $l$. A straight line is characterised by orthogonality to infinity. Since this line is not uniquely defined its coefficients contain free variables like 'symbol433'."
   ]
  },
  {
   "cell_type": "code",
   "execution_count": 0,
   "metadata": {
    "colab": {
     "base_uri": "https://localhost:8080/",
     "height": 190
    },
    "colab_type": "code",
    "id": "YlpDVwiXNt1g",
    "outputId": "a4ecca36-4822-4027-c001-e1bc4877df07"
   },
   "outputs": [
    {
     "name": "stdout",
     "output_type": "stream",
     "text": [
      "Ca-(0): {`0, [[1,0]]~Ca-(0), 0', -3} --> (Ca);  <-- ()\n",
      "Ca-(1): {`0, [[0,1]]~Ca-(1), 0', -3} --> (Ca);  <-- ()\n",
      "infty: {`0, [[0,0]]~infty, 1', -2} --> (l);  <-- ()\n",
      "R: {`0, [[0,1]]~R, 0', -1} --> ();  <-- ()\n",
      "a: {`1, [[0,0]]~a, -1', 0} --> (l);  <-- ()\n",
      "Ca: {`1, [[0,0]]~Ca, 0', 0} --> ();  <-- (Ca/o,infty|d,Ca-(0)|o,Ca-(1)|o)\n",
      "l: {`0, [[-1/8*sqrt(8)*cos(symbol292)*sqrt(2),-1/64*sin(symbol292)*sqrt(2)*sqrt(512)]]~l, 1', `0, [[1/8*sqrt(8)*cos(symbol292)*sqrt(2),-1/64*sin(symbol292)*sqrt(2)*sqrt(512)]]~l, 1', `0, [[1/8*cos(symbol255)*sqrt(8)*sqrt(2),1/64*sqrt(2)*sin(symbol255)*sqrt(512)]]~l, 1', `0, [[-1/8*cos(symbol255)*sqrt(8)*sqrt(2),1/64*sqrt(2)*sin(symbol255)*sqrt(512)]]~l, 1', 1} --> ();  <-- (a|t,infty|o,l|r)\n",
      "Altogether 10 cycles in 7 cycle_nodes.\n",
      "\n"
     ]
    }
   ],
   "source": [
    "l=symbol(\"l\")\n",
    "F.add_cycle_rel([is_tangent(a),is_orthogonal(F.get_infinity()),only_reals(l)],l)\n",
    "print(F.string())"
   ]
  },
  {
   "cell_type": "markdown",
   "metadata": {
    "colab_type": "text",
    "id": "DQj3yRlFNt1k"
   },
   "source": [
    "Then we add the point $C$ of contact of the circle $a$ and the line $l$. A point is characterised by orthogonality to itself. To define this condition we need to `pre-cook' its symbol in advance."
   ]
  },
  {
   "cell_type": "code",
   "execution_count": 0,
   "metadata": {
    "colab": {},
    "colab_type": "code",
    "id": "qKmWbesRNt1l"
   },
   "outputs": [],
   "source": [
    "C=symbol(\"C\")\n",
    "C=F.add_cycle_rel([is_orthogonal(C),is_orthogonal(a),is_orthogonal(l),only_reals(C)],C)"
   ]
  },
  {
   "cell_type": "markdown",
   "metadata": {
    "colab_type": "text",
    "id": "SaeQDgD8Nt1o"
   },
   "source": [
    "Finally we add the radius $r$ of a passing $C$: it passes both $C$ and $C_a$ (is orthogonal to them) and is a straight line (is orthogonal to the infinity). "
   ]
  },
  {
   "cell_type": "code",
   "execution_count": 0,
   "metadata": {
    "colab": {},
    "colab_type": "code",
    "id": "Grx_W768Nt1p"
   },
   "outputs": [],
   "source": [
    "r=F.add_cycle_rel([is_orthogonal(C),is_orthogonal(Ca),is_orthogonal(F.get_infinity())],\"r\")"
   ]
  },
  {
   "cell_type": "markdown",
   "metadata": {
    "colab_type": "text",
    "id": "qLN_sgOcNt1s"
   },
   "source": [
    "Recall that $r$ is depending from the same free parameters as $l$. Now we check the relation of $r$ and $l$ be orthogonal. Because some above relations were quadratic (tangensy and self-orthogonality), there are multiple instances of the cycle $r$. We also need to use the Pythagoras substitution $\\cos^2 t = 1 - \\sin^2 t$."
   ]
  },
  {
   "cell_type": "code",
   "execution_count": 0,
   "metadata": {
    "colab": {
     "base_uri": "https://localhost:8080/",
     "height": 85
    },
    "colab_type": "code",
    "id": "7MCOe6AYNt1v",
    "outputId": "49aea73c-b963-421b-ae9e-c1f8f6a02adc"
   },
   "outputs": [
    {
     "name": "stdout",
     "output_type": "stream",
     "text": [
      "Tangent and radius are orthogonal: True\n",
      "Tangent and radius are orthogonal: True\n",
      "Tangent and radius are orthogonal: True\n",
      "Tangent and radius are orthogonal: True\n"
     ]
    }
   ],
   "source": [
    "Res=F.check_rel(l,r,\"orthogonal\")\n",
    "for i in range(len(Res)):\n",
    "    print(\"Tangent and radius are orthogonal: %s\" %\\\n",
    "    bool(Res[i].subs(pow(cos(wild(0)),2)==1-pow(sin(wild(0)),2)).normal()))"
   ]
  },
  {
   "cell_type": "markdown",
   "metadata": {
    "colab_type": "text",
    "id": "kN-UhRwjNt1z"
   },
   "source": [
    "## Further info:\n",
    "* [MoebInv library full documentation](https://sourceforge.net/projects/moebinv/files/docs/figure.pdf)\n",
    "* [MoebInv Home page](http://moebinv.sourceforge.net/)\n",
    "* [CoLab Notebooksat GitHub](https://colab.research.google.com/github/vvkisil/MoebInv-notebooks/blob/master/Table%20of%20contents.ipynb)"
   ]
  }
 ],
 "metadata": {
  "colab": {
   "collapsed_sections": [],
   "include_colab_link": true,
   "name": "Example of symbolic computations.ipynb",
   "provenance": [],
   "version": "0.3.2"
  },
  "kernelspec": {
   "display_name": "Python 3",
   "language": "python",
   "name": "python3"
  },
  "language_info": {
   "codemirror_mode": {
    "name": "ipython",
    "version": 3
   },
   "file_extension": ".py",
   "mimetype": "text/x-python",
   "name": "python",
   "nbconvert_exporter": "python",
   "pygments_lexer": "ipython3",
   "version": "3.7.4"
  }
 },
 "nbformat": 4,
 "nbformat_minor": 1
}
