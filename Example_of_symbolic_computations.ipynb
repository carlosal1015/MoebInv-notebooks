{
  "nbformat": 4,
  "nbformat_minor": 0,
  "metadata": {
    "kernelspec": {
      "display_name": "Python 3",
      "language": "python",
      "name": "python3"
    },
    "language_info": {
      "codemirror_mode": {
        "name": "ipython",
        "version": 3
      },
      "file_extension": ".py",
      "mimetype": "text/x-python",
      "name": "python",
      "nbconvert_exporter": "python",
      "pygments_lexer": "ipython3",
      "version": "3.7.4"
    },
    "colab": {
      "name": "Example of symbolic computations.ipynb",
      "version": "0.3.2",
      "provenance": [],
      "collapsed_sections": [],
      "include_colab_link": true
    }
  },
  "cells": [
    {
      "cell_type": "markdown",
      "metadata": {
        "id": "view-in-github",
        "colab_type": "text"
      },
      "source": [
        "<a href=\"https://colab.research.google.com/github/vvkisil/MoebInv-notebooks/blob/master/Example_of_symbolic_computations.ipynb\" target=\"_parent\"><img src=\"https://colab.research.google.com/assets/colab-badge.svg\" alt=\"Open In Colab\"/></a>"
      ]
    },
    {
      "cell_type": "markdown",
      "metadata": {
        "id": "0F7Bq53GNt1D",
        "colab_type": "text"
      },
      "source": [
        "# Example of symbolic computations"
      ]
    },
    {
      "cell_type": "markdown",
      "metadata": {
        "id": "0SuM8g5mNt1F",
        "colab_type": "text"
      },
      "source": [
        "MoebInv can do more than just draw colorful pictures. Powered by GiNaC symbolic computation engine MoebInv can provide rigourous prove of geometric statements through analytic computations. Here is an example.\n"
      ]
    },
    {
      "cell_type": "markdown",
      "metadata": {
        "id": "GsIThcwFOOmT",
        "colab_type": "text"
      },
      "source": [
        " First we need to load libraries.\n",
        " \n",
        " **If you get an error** due to missing libraries then install them as shown in the first section of [this notebook](https://colab.research.google.com/drive/1L8kURF-zOnwdcrZRDhLKCItWcUJFQSuv)."
      ]
    },
    {
      "cell_type": "code",
      "metadata": {
        "id": "qOiYKpUINt1H",
        "colab_type": "code",
        "colab": {}
      },
      "source": [
        "from figure import *"
      ],
      "execution_count": 0,
      "outputs": []
    },
    {
      "cell_type": "markdown",
      "metadata": {
        "id": "f3awN-BuNt1P",
        "colab_type": "text"
      },
      "source": [
        "Now we initialise the figure F with a default Euclidean metric"
      ]
    },
    {
      "cell_type": "code",
      "metadata": {
        "id": "ZfrZPMrUNt1Q",
        "colab_type": "code",
        "colab": {}
      },
      "source": [
        "F=figure()"
      ],
      "execution_count": 0,
      "outputs": []
    },
    {
      "cell_type": "markdown",
      "metadata": {
        "id": "qY20balJNt1V",
        "colab_type": "text"
      },
      "source": [
        "We add the unit circle to the figure"
      ]
    },
    {
      "cell_type": "code",
      "metadata": {
        "id": "obyJ0F3aNt1W",
        "colab_type": "code",
        "colab": {}
      },
      "source": [
        "a=F.add_cycle(cycle2D(1,[0,0],-1),\"a\")"
      ],
      "execution_count": 0,
      "outputs": []
    },
    {
      "cell_type": "markdown",
      "metadata": {
        "id": "0WaBJmO-Nt1a",
        "colab_type": "text"
      },
      "source": [
        "Then we add the centre of a"
      ]
    },
    {
      "cell_type": "code",
      "metadata": {
        "id": "gxi9Ew4rNt1b",
        "colab_type": "code",
        "colab": {}
      },
      "source": [
        "Ca=F.add_point(cycle2D(F.get_cycle(a)[0]).center(),\"Ca\")"
      ],
      "execution_count": 0,
      "outputs": []
    },
    {
      "cell_type": "markdown",
      "metadata": {
        "id": "Kz4VCWzYNt1f",
        "colab_type": "text"
      },
      "source": [
        "We add an tangent line. Straight line is characterised by orthogonality to infinity. Since this line is not uniquely defined its coeafficients contain free variables like 'symbol2433'."
      ]
    },
    {
      "cell_type": "code",
      "metadata": {
        "id": "YlpDVwiXNt1g",
        "colab_type": "code",
        "outputId": "a4ecca36-4822-4027-c001-e1bc4877df07",
        "colab": {
          "base_uri": "https://localhost:8080/",
          "height": 190
        }
      },
      "source": [
        "l=symbol(\"l\")\n",
        "F.add_cycle_rel([is_tangent(a),is_orthogonal(F.get_infinity()),only_reals(l)],l)\n",
        "print(F.string())"
      ],
      "execution_count": 0,
      "outputs": [
        {
          "output_type": "stream",
          "text": [
            "Ca-(0): {`0, [[1,0]]~Ca-(0), 0', -3} --> (Ca);  <-- ()\n",
            "Ca-(1): {`0, [[0,1]]~Ca-(1), 0', -3} --> (Ca);  <-- ()\n",
            "infty: {`0, [[0,0]]~infty, 1', -2} --> (l);  <-- ()\n",
            "R: {`0, [[0,1]]~R, 0', -1} --> ();  <-- ()\n",
            "a: {`1, [[0,0]]~a, -1', 0} --> (l);  <-- ()\n",
            "Ca: {`1, [[0,0]]~Ca, 0', 0} --> ();  <-- (Ca/o,infty|d,Ca-(0)|o,Ca-(1)|o)\n",
            "l: {`0, [[-1/8*sqrt(8)*cos(symbol292)*sqrt(2),-1/64*sin(symbol292)*sqrt(2)*sqrt(512)]]~l, 1', `0, [[1/8*sqrt(8)*cos(symbol292)*sqrt(2),-1/64*sin(symbol292)*sqrt(2)*sqrt(512)]]~l, 1', `0, [[1/8*cos(symbol255)*sqrt(8)*sqrt(2),1/64*sqrt(2)*sin(symbol255)*sqrt(512)]]~l, 1', `0, [[-1/8*cos(symbol255)*sqrt(8)*sqrt(2),1/64*sqrt(2)*sin(symbol255)*sqrt(512)]]~l, 1', 1} --> ();  <-- (a|t,infty|o,l|r)\n",
            "Altogether 10 cycles in 7 cycle_nodes.\n",
            "\n"
          ],
          "name": "stdout"
        }
      ]
    },
    {
      "cell_type": "markdown",
      "metadata": {
        "id": "DQj3yRlFNt1k",
        "colab_type": "text"
      },
      "source": [
        "Then we add the point C of contact of a and l. Point is characterised by orthogonality to itself."
      ]
    },
    {
      "cell_type": "code",
      "metadata": {
        "id": "qKmWbesRNt1l",
        "colab_type": "code",
        "colab": {}
      },
      "source": [
        "C=symbol(\"C\")\n",
        "C=F.add_cycle_rel([is_orthogonal(C),is_orthogonal(a),is_orthogonal(l),only_reals(C)],C)"
      ],
      "execution_count": 0,
      "outputs": []
    },
    {
      "cell_type": "markdown",
      "metadata": {
        "id": "SaeQDgD8Nt1o",
        "colab_type": "text"
      },
      "source": [
        "Finally we add the radius r of a passing C. "
      ]
    },
    {
      "cell_type": "code",
      "metadata": {
        "id": "Grx_W768Nt1p",
        "colab_type": "code",
        "colab": {}
      },
      "source": [
        "r=F.add_cycle_rel([is_orthogonal(C),is_orthogonal(Ca),is_orthogonal(F.get_infinity())],\"r\")"
      ],
      "execution_count": 0,
      "outputs": []
    },
    {
      "cell_type": "markdown",
      "metadata": {
        "id": "qLN_sgOcNt1s",
        "colab_type": "text"
      },
      "source": [
        "Recall that r is depending from the same free parameters as l. Now we check the relation of r and l be orthogonal. Because some above relations were quadratic (tangensy and self-orthogonality), there are multiple instances of the cycle r. We also need to use the Pythagoras substitution $\\cos^2 t = 1 - \\sin^2 t$."
      ]
    },
    {
      "cell_type": "code",
      "metadata": {
        "id": "7MCOe6AYNt1v",
        "colab_type": "code",
        "outputId": "49aea73c-b963-421b-ae9e-c1f8f6a02adc",
        "colab": {
          "base_uri": "https://localhost:8080/",
          "height": 85
        }
      },
      "source": [
        "Res=F.check_rel(l,r,\"orthogonal\")\n",
        "for i in range(len(Res)):\n",
        "    print(\"Tangent and radius are orthogonal: %s\" %\\\n",
        "    bool(Res[i].subs(pow(cos(wild(0)),2)==1-pow(sin(wild(0)),2)).normal()))"
      ],
      "execution_count": 0,
      "outputs": [
        {
          "output_type": "stream",
          "text": [
            "Tangent and radius are orthogonal: True\n",
            "Tangent and radius are orthogonal: True\n",
            "Tangent and radius are orthogonal: True\n",
            "Tangent and radius are orthogonal: True\n"
          ],
          "name": "stdout"
        }
      ]
    },
    {
      "cell_type": "markdown",
      "metadata": {
        "id": "kN-UhRwjNt1z",
        "colab_type": "text"
      },
      "source": [
        "## Further info:\n",
        "* [MoebInv library full documentation](https://sourceforge.net/projects/moebinv/files/docs/figure.pdf)\n",
        "* [MoebInv Home page](http://moebinv.sourceforge.net/)\n",
        "* [CoLab Notebooks](https://colab.research.google.com/drive/1LknygKZU9OtJmLQIb8n137khUuBjv1Bs)"
      ]
    }
  ]
}