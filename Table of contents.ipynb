{
  "nbformat": 4,
  "nbformat_minor": 0,
  "metadata": {
    "colab": {
      "name": "Untitled0.ipynb",
      "version": "0.3.2",
      "provenance": [],
      "collapsed_sections": [],
      "include_colab_link": true
    },
    "kernelspec": {
      "name": "python3",
      "display_name": "Python 3"
    }
  },
  "cells": [
    {
      "cell_type": "markdown",
      "metadata": {
        "id": "view-in-github",
        "colab_type": "text"
      },
      "source": [
        "<a href=\"https://colab.research.google.com/github/vvkisil/MoebInv-notebooks/blob/master/Table%20of%20contents.ipynb\" target=\"_parent\"><img src=\"https://colab.research.google.com/assets/colab-badge.svg\" alt=\"Open In Colab\"/></a>"
      ]
    },
    {
      "cell_type": "markdown",
      "metadata": {
        "id": "tYufhNpP-BaM",
        "colab_type": "text"
      },
      "source": [
        "# MoebInv notebooks\n",
        "\n",
        "These are CoLab notebooks related to MoebInv library.\n",
        "\n",
        "To use them you will need to [install binary libraries](https://colab.research.google.com/drive/1L8kURF-zOnwdcrZRDhLKCItWcUJFQSuv#scrollTo=iWesb5ZNyDOq) as shown in the first notebook. This software can be cleanly [uninstalled](https://colab.research.google.com/drive/1L8kURF-zOnwdcrZRDhLKCItWcUJFQSuv#scrollTo=uZY86q85GKr6) at any point as explained in the same notebook.\n",
        "\n",
        "There is also a [CodeOcean capsule](https://codeocean.com/capsule/f8fcb10f-96b6-4f3e-bbd0-06ef3920662d/) with the same facilities."
      ]
    },
    {
      "cell_type": "markdown",
      "metadata": {
        "id": "pj4PIcSO-NsV",
        "colab_type": "text"
      },
      "source": [
        "## Introductory examples\n",
        "\n",
        "* [Euclidean and Lobachevsky lines](https://colab.research.google.com/drive/1L8kURF-zOnwdcrZRDhLKCItWcUJFQSuv) This notebook also show how to make initial software installation or uninstal it later.\n",
        "\n",
        "* [Nine point theorem](https://colab.research.google.com/drive/10HqDnYibo32RngSljB6RUgEWoskRx2bO) Some non-trivial illustrations\n",
        "\n",
        "* [Example of symbolic computations](https://colab.research.google.com/drive/1JZcbwnxcUuRHyMaTEv9kJPCujdC8iB46) Analytic proof of a geometric statement."
      ]
    },
    {
      "cell_type": "markdown",
      "metadata": {
        "id": "KqZ3o2aL4vUc",
        "colab_type": "text"
      },
      "source": [
        "## Jupyter and MoebInv-GUI integration\n",
        "You may find a pre-compiled binary distribution for your desktop platform at [SourceForge](https://sourceforge.net/projects/moebinv/files/binary/). This GUI allows to create and manipulate figures by mouse clicks. There is bidirectional integration beetween Jupyter and GUI:\n",
        "\n",
        "* From Jupyter (or any coding system in C++ or Python) use\n",
        "``` python\n",
        "F.save(\"my-figure-archive.gar\")\n",
        "```\n",
        "to save GiNaC Gar archive. It can be loaded into GUI (or any other front-end, indeed).\n",
        "* From GUI select\n",
        "```\n",
        "File → Export figure → Export Python script\n",
        "```\n",
        "in Main Menu and save the script file. Then it can be executed in the IPython or Jupyter cell.\n",
        "\n",
        "Furthermore, to use such code as Jupyter notebook I recommend to post-process the generated Python script with [p2j (Python to Jupyter)](https://pypi.org/project/p2j/) utility.\n",
        "\n",
        "Here is an [Example](https://colab.research.google.com/drive/101nZupZRtDXaF5GRrjOmuMHd5oPOzpL8#scrollTo=MIcFs9KN4J4_) of Python script and Jupyter notebook created from GUI."
      ]
    }
  ]
}