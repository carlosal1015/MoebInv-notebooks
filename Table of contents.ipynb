{
 "cells": [
  {
   "cell_type": "markdown",
   "metadata": {
    "colab_type": "text",
    "ein.tags": "worksheet-0",
    "id": "view-in-github",
    "slideshow": {
     "slide_type": "-"
    }
   },
   "source": [
    "<a href=\"https://colab.research.google.com/github/vvkisil/MoebInv-notebooks/blob/master/Table%20of%20contents.ipynb\" target=\"_parent\"><img src=\"https://colab.research.google.com/assets/colab-badge.svg\" alt=\"Open In Colab\"/></a>"
   ]
  },
  {
   "cell_type": "markdown",
   "metadata": {
    "ein.tags": "worksheet-0",
    "slideshow": {
     "slide_type": "-"
    }
   },
   "source": [
    "# MoebInv notebooks\n",
    "These are CoLab notebooks related to MoebInv library.\n",
    "\n",
    "To use them you will need to [install binary libraries](https://colab.research.google.com/github/vvkisil/MoebInv-notebooks/blob/master/Euclidean_and_Lobachevsky_lines.ipynb#Installing-required-software) as shown in the first notebook.\n",
    "\n",
    "In short you simply need to execute the following cell:"
   ]
  },
  {
   "cell_type": "code",
   "execution_count": null,
   "metadata": {
    "autoscroll": false,
    "ein.hycell": false,
    "ein.tags": "worksheet-0",
    "slideshow": {
     "slide_type": "-"
    }
   },
   "outputs": [],
   "source": [
    "%%bash\n",
    "# Addtitional standard packages need to be installled\n",
    "apt-get update && apt-get -qq install -y ginac-tools asymptote libboost-python1.65.1 libpython3.6\n",
    "\n",
    "# MoebInv library binary package\n",
    "CURREN_MOEBINV=libmoebinv0_3.5.0-1_amd64.deb\n",
    "curl -LO https://sourceforge.net/projects/moebinv/files/binary/debian/$CURREN_MOEBINV; \\ \n",
    "dpkg -i $CURREN_MOEBINV && rm $CURREN_MOEBINV ; \\\n",
    "\n",
    "# remove the an installed version of the Python wrapper \n",
    "if [ -f /usr/bin/moebinv-uninstall.sh ]; then \\ \n",
    "  /usr/bin/moebinv-uninstall.sh ; \\\n",
    "fi\n",
    "\n",
    "# Installation of the Python wrapper  \n",
    "curl -L https://sourceforge.net/projects/moebinv/files/binary/pymoebinv.tbz | tar jvx --directory=/\n"
   ]
  },
  {
   "cell_type": "markdown",
   "metadata": {
    "ein.tags": "worksheet-0",
    "slideshow": {
     "slide_type": "-"
    }
   },
   "source": [
    "The same command will install MoebInv library on your Ubuntu-18.04/Debian-10/etc desktop Linux-x86-64 (amd64) box.\n",
    "\n",
    "Alternatively, there is also a [CodeOcean capsule](https://codeocean.com/capsule/7952650/tree) with the same facilities."
   ]
  },
  {
   "cell_type": "markdown",
   "metadata": {
    "colab_type": "text",
    "ein.tags": "worksheet-0",
    "id": "pj4PIcSO-NsV",
    "slideshow": {
     "slide_type": "-"
    }
   },
   "source": [
    "## Introductory examples\n",
    "\n",
    "* [Euclidean and Lobachevsky lines](https://colab.research.google.com/github/vvkisil/MoebInv-notebooks/blob/master/Euclidean_and_Lobachevsky_lines.ipynb) This notebook also show how to make initial software installation or uninstal it later.\n",
    "\n",
    "* [Nine point theorem](https://colab.research.google.com/github/vvkisil/MoebInv-notebooks/blob/master/Nine_point_throrem.ipynb) Some non-trivial illustrations on the celebrated result.\n",
    "\n",
    "* [Example of symbolic computations](https://colab.research.google.com/github/vvkisil/MoebInv-notebooks/blob/master/Example_of_symbolic_computations.ipynb) Analytic proof of a simple geometric statement."
   ]
  },
  {
   "cell_type": "markdown",
   "metadata": {
    "colab_type": "text",
    "ein.tags": "worksheet-0",
    "id": "KqZ3o2aL4vUc",
    "slideshow": {
     "slide_type": "-"
    }
   },
   "source": [
    "## Jupyter and MoebInv-GUI integration\n",
    "There is a Graphical User Interface (GUI) to the MoebInv library. It allows to create and research geometrical constructions by mouse clicks. You may find a pre-compiled GUI binary distribution for your desktop platform at [SourceForge](https://sourceforge.net/projects/moebinv/files/binary/). \n",
    "\n",
    "There is bidirectional integration beetween Jupyter and GUI:\n",
    "\n",
    "* From Jupyter (or any coding system in C++ or Python) use\n",
    "``` python\n",
    "F.save(\"my-figure-archive.gar\")\n",
    "```\n",
    "to save GiNaC Gar archive. It can be loaded into GUI (or any other front-end, indeed).\n",
    "* From GUI select\n",
    "```\n",
    "File → Export figure → Export Python script\n",
    "```\n",
    "in Main Menu and save the script file. Then it can be executed in the IPython or Jupyter cell.\n",
    "\n",
    "Furthermore, to use such code as Jupyter notebook I recommend to post-process the generated Python script with [p2j (Python to Jupyter)](https://pypi.org/project/p2j/) utility.\n",
    "\n",
    "Here is an [Example](https://colab.research.google.com/drive/101nZupZRtDXaF5GRrjOmuMHd5oPOzpL8#scrollTo=MIcFs9KN4J4_) of Python script and Jupyter notebook automatically created from the GUI.\n",
    "."
   ]
  }
 ],
 "metadata": {
  "colab": {
   "collapsed_sections": null,
   "include_colab_link": true,
   "name": "Untitled0.ipynb",
   "provenance": null,
   "version": "0.3.2"
  },
  "kernelspec": {
   "display_name": "Python 3",
   "language": "python",
   "name": "python3"
  },
  "language_info": {
   "codemirror_mode": {
    "name": "ipython",
    "version": 3
   },
   "file_extension": ".py",
   "mimetype": "text/x-python",
   "name": "python",
   "nbconvert_exporter": "python",
   "pygments_lexer": "ipython3",
   "version": "3.7.4"
  },
  "name": "Table of contents.ipynb"
 },
 "nbformat": 4,
 "nbformat_minor": 1
}
